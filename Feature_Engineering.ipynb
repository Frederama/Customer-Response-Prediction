{
 "cells": [
  {
   "cell_type": "code",
   "execution_count": 0,
   "metadata": {
    "application/vnd.databricks.v1+cell": {
     "cellMetadata": {
      "byteLimit": 2048000,
      "rowLimit": 10000
     },
     "inputWidgets": {},
     "nuid": "1bf6ba7d-fd6e-4c9e-9d9b-d93b5cb9c59e",
     "showTitle": false,
     "tableResultSettingsMap": {},
     "title": ""
    }
   },
   "outputs": [
    {
     "output_type": "stream",
     "name": "stdout",
     "output_type": "stream",
     "text": [
      "Python interpreter will be restarted.\nRequirement already satisfied: requests in /databricks/python3/lib/python3.9/site-packages (2.27.1)\nRequirement already satisfied: charset-normalizer~=2.0.0 in /databricks/python3/lib/python3.9/site-packages (from requests) (2.0.4)\nRequirement already satisfied: idna<4,>=2.5 in /databricks/python3/lib/python3.9/site-packages (from requests) (3.3)\nRequirement already satisfied: certifi>=2017.4.17 in /databricks/python3/lib/python3.9/site-packages (from requests) (2021.10.8)\nRequirement already satisfied: urllib3<1.27,>=1.21.1 in /databricks/python3/lib/python3.9/site-packages (from requests) (1.26.9)\nPython interpreter will be restarted.\n"
     ]
    }
   ],
   "source": [
    "%pip install requests"
   ]
  },
  {
   "cell_type": "code",
   "execution_count": 0,
   "metadata": {
    "application/vnd.databricks.v1+cell": {
     "cellMetadata": {
      "byteLimit": 2048000,
      "rowLimit": 10000
     },
     "inputWidgets": {},
     "nuid": "b54411fa-b77e-4f7c-baad-ef2ef5ebab29",
     "showTitle": false,
     "tableResultSettingsMap": {},
     "title": ""
    }
   },
   "outputs": [
    {
     "output_type": "stream",
     "name": "stdout",
     "output_type": "stream",
     "text": [
      "Python interpreter will be restarted.\nRequirement already satisfied: openpyxl in /local_disk0/.ephemeral_nfs/envs/pythonEnv-300aaa7f-9b8d-42c4-9447-8cdfbb441329/lib/python3.9/site-packages (3.1.5)\nRequirement already satisfied: et-xmlfile in /local_disk0/.ephemeral_nfs/envs/pythonEnv-300aaa7f-9b8d-42c4-9447-8cdfbb441329/lib/python3.9/site-packages (from openpyxl) (2.0.0)\nPython interpreter will be restarted.\n"
     ]
    }
   ],
   "source": [
    "%pip install openpyxl"
   ]
  },
  {
   "cell_type": "code",
   "execution_count": 0,
   "metadata": {
    "application/vnd.databricks.v1+cell": {
     "cellMetadata": {
      "byteLimit": 2048000,
      "rowLimit": 10000
     },
     "inputWidgets": {},
     "nuid": "b23d4c33-f35b-4b03-9930-dfe0b0a00445",
     "showTitle": false,
     "tableResultSettingsMap": {},
     "title": ""
    }
   },
   "outputs": [
    {
     "output_type": "display_data",
     "data": {
      "application/vnd.databricks.v1+bamboolib_hint": "{\"pd.DataFrames\": [], \"version\": \"0.0.1\"}",
      "text/plain": []
     },
     "metadata": {},
     "output_type": "display_data"
    }
   ],
   "source": [
    "import numpy as np\n",
    "import pandas as pd\n",
    "import matplotlib.pyplot as plt\n",
    "\n",
    "from pyspark.sql import Window\n",
    "from pyspark.sql.functions import to_date\n",
    "from pyspark.sql.functions import last_day\n",
    "from pyspark.sql.functions import year\n",
    "from pyspark.sql.functions import sum, avg, mean, stddev, variance, count, max, min, sqrt\n",
    "from pyspark.sql.functions import col, isnan\n",
    "from pyspark.sql.functions import when\n",
    "from pyspark.sql.functions import dayofweek, date_format\n",
    "from pyspark.sql.functions import concat_ws\n",
    "from pyspark.sql.functions import col, last\n",
    "from pyspark.sql.functions import datediff"
   ]
  },
  {
   "cell_type": "markdown",
   "metadata": {
    "application/vnd.databricks.v1+cell": {
     "cellMetadata": {
      "byteLimit": 2048000,
      "rowLimit": 10000
     },
     "inputWidgets": {},
     "nuid": "1d3b3bdf-b180-43b9-9fdd-86657e678555",
     "showTitle": false,
     "tableResultSettingsMap": {},
     "title": ""
    }
   },
   "source": [
    "### Q 1.1.1."
   ]
  },
  {
   "cell_type": "code",
   "execution_count": 0,
   "metadata": {
    "application/vnd.databricks.v1+cell": {
     "cellMetadata": {
      "byteLimit": 2048000,
      "rowLimit": 10000
     },
     "inputWidgets": {},
     "nuid": "b2545311-4242-4783-bbbc-334cd3313bb0",
     "showTitle": false,
     "tableResultSettingsMap": {},
     "title": ""
    }
   },
   "outputs": [
    {
     "output_type": "stream",
     "name": "stdout",
     "output_type": "stream",
     "text": [
      "+-----------+----------+-----------+\n|customer_id|trans_date|tran_amount|\n+-----------+----------+-----------+\n|     CS5295| 11-Feb-13|         35|\n|     CS4768| 15-Mar-15|         39|\n|     CS2122| 26-Feb-13|         52|\n|     CS1217| 16-Nov-11|         99|\n|     CS1850| 20-Nov-13|         78|\n+-----------+----------+-----------+\nonly showing top 5 rows\n\n"
     ]
    }
   ],
   "source": [
    "# Step 1: Importing the Retail_Data_Transactions dataset.\n",
    "# File location and type\n",
    "file_location = \"/FileStore/tables/Retail_Data_Transactions.csv\"\n",
    "file_type = \"csv\"\n",
    "\n",
    "# CSV options\n",
    "infer_schema = \"true\"\n",
    "first_row_is_header = \"true\"\n",
    "delimiter = \",\"\n",
    "\n",
    "# The applied options are for CSV files. For other file types, these will be ignored.\n",
    "txn = spark.read.format(file_type) \\\n",
    "  .option(\"inferSchema\", infer_schema) \\\n",
    "  .option(\"header\", first_row_is_header) \\\n",
    "  .option(\"sep\", delimiter) \\\n",
    "  .load(file_location)\n",
    "\n",
    "txn.show(5)"
   ]
  },
  {
   "cell_type": "code",
   "execution_count": 0,
   "metadata": {
    "application/vnd.databricks.v1+cell": {
     "cellMetadata": {
      "byteLimit": 2048000,
      "rowLimit": 10000
     },
     "inputWidgets": {},
     "nuid": "519ffe47-fdb6-4550-95c8-945f8e6ceb14",
     "showTitle": false,
     "tableResultSettingsMap": {},
     "title": ""
    }
   },
   "outputs": [],
   "source": [
    "# Making the table accessible by all users and in every cluster.\n",
    "permanent_table_name = \"Retail_Data_Transactions_csv\"\n",
    "\n",
    "# txn.write.format(\"parquet\").saveAsTable(permanent_table_name)"
   ]
  },
  {
   "cell_type": "code",
   "execution_count": 0,
   "metadata": {
    "application/vnd.databricks.v1+cell": {
     "cellMetadata": {
      "byteLimit": 2048000,
      "rowLimit": 10000
     },
     "inputWidgets": {},
     "nuid": "00709123-712e-4c66-ac59-76d634b1963e",
     "showTitle": false,
     "tableResultSettingsMap": {},
     "title": ""
    }
   },
   "outputs": [
    {
     "output_type": "stream",
     "name": "stdout",
     "output_type": "stream",
     "text": [
      "There are 125000 rows in this dataset\n"
     ]
    }
   ],
   "source": [
    "# Step 2: Identifying the number of rows of the dataset.\n",
    "print(f\"There are {txn.count()} rows in this dataset\")"
   ]
  },
  {
   "cell_type": "markdown",
   "metadata": {
    "application/vnd.databricks.v1+cell": {
     "cellMetadata": {
      "byteLimit": 2048000,
      "rowLimit": 10000
     },
     "inputWidgets": {},
     "nuid": "4ac0c5a4-cc97-4d4a-a300-489e826ddba7",
     "showTitle": false,
     "tableResultSettingsMap": {},
     "title": ""
    }
   },
   "source": [
    "#### There are 12500 rows in this dataset."
   ]
  },
  {
   "cell_type": "markdown",
   "metadata": {
    "application/vnd.databricks.v1+cell": {
     "cellMetadata": {
      "byteLimit": 2048000,
      "rowLimit": 10000
     },
     "inputWidgets": {},
     "nuid": "1c07cec0-66d4-432f-a08d-60cac4ce05b6",
     "showTitle": false,
     "tableResultSettingsMap": {},
     "title": ""
    }
   },
   "source": [
    "### Q 1.1.2."
   ]
  },
  {
   "cell_type": "code",
   "execution_count": 0,
   "metadata": {
    "application/vnd.databricks.v1+cell": {
     "cellMetadata": {
      "byteLimit": 2048000,
      "rowLimit": 10000
     },
     "inputWidgets": {},
     "nuid": "af24dd8a-e816-4772-be70-638c5956b7d1",
     "showTitle": false,
     "tableResultSettingsMap": {},
     "title": ""
    }
   },
   "outputs": [
    {
     "output_type": "stream",
     "name": "stdout",
     "output_type": "stream",
     "text": [
      "+-----------+----------+-----------+----------+\n|customer_id|trans_date|tran_amount|  txn_date|\n+-----------+----------+-----------+----------+\n|     CS5295| 11-Feb-13|         35|2013-02-11|\n|     CS4768| 15-Mar-15|         39|2015-03-15|\n|     CS2122| 26-Feb-13|         52|2013-02-26|\n|     CS1217| 16-Nov-11|         99|2011-11-16|\n|     CS1850| 20-Nov-13|         78|2013-11-20|\n+-----------+----------+-----------+----------+\nonly showing top 5 rows\n\n"
     ]
    }
   ],
   "source": [
    "# Creating a new column 'txn_date' from 'trans_date' with pd.to datetime.\n",
    "txn = txn.withColumn(\"txn_date\", to_date(txn[\"trans_date\"], \"dd-MMM-yy\"))\n",
    "txn.show(5)"
   ]
  },
  {
   "cell_type": "code",
   "execution_count": 0,
   "metadata": {
    "application/vnd.databricks.v1+cell": {
     "cellMetadata": {
      "byteLimit": 2048000,
      "rowLimit": 10000
     },
     "inputWidgets": {},
     "nuid": "0d8390ef-2f62-45cf-bb42-6762bfaa5308",
     "showTitle": false,
     "tableResultSettingsMap": {},
     "title": ""
    }
   },
   "outputs": [
    {
     "output_type": "stream",
     "name": "stdout",
     "output_type": "stream",
     "text": [
      "+-----------+-----------+----------+\n|customer_id|tran_amount|  txn_date|\n+-----------+-----------+----------+\n|     CS5295|         35|2013-02-11|\n|     CS4768|         39|2015-03-15|\n|     CS2122|         52|2013-02-26|\n|     CS1217|         99|2011-11-16|\n|     CS1850|         78|2013-11-20|\n+-----------+-----------+----------+\nonly showing top 5 rows\n\n"
     ]
    }
   ],
   "source": [
    "# Dropping the 'trans_date' column.\n",
    "txn = txn.drop(\"trans_date\")\n",
    "# Showing the first few rows of the DataFrame to verify the change.\n",
    "txn.show(5)"
   ]
  },
  {
   "cell_type": "markdown",
   "metadata": {
    "application/vnd.databricks.v1+cell": {
     "cellMetadata": {
      "byteLimit": 2048000,
      "rowLimit": 10000
     },
     "inputWidgets": {},
     "nuid": "8876a1a2-34ce-4599-ac52-b4c7e8ff7da0",
     "showTitle": false,
     "tableResultSettingsMap": {},
     "title": ""
    }
   },
   "source": [
    "### Q 1.1.3."
   ]
  },
  {
   "cell_type": "code",
   "execution_count": 0,
   "metadata": {
    "application/vnd.databricks.v1+cell": {
     "cellMetadata": {
      "byteLimit": 2048000,
      "rowLimit": 10000
     },
     "inputWidgets": {},
     "nuid": "c58fb5ca-7b4d-48ce-8943-d73177f94071",
     "showTitle": false,
     "tableResultSettingsMap": {},
     "title": ""
    }
   },
   "outputs": [
    {
     "output_type": "stream",
     "name": "stdout",
     "output_type": "stream",
     "text": [
      "min txn_date: 2011-05-16\nmax txn_date: 2015-03-16\n"
     ]
    }
   ],
   "source": [
    "# Calculating the min and max of 'txn_date'.\n",
    "txn_min_max = txn.agg(min(\"txn_date\")\\\n",
    "    .alias(\"min_txn_date\"), max(\"txn_date\")\\\n",
    "        .alias(\"max_txn_date\")).collect()[0]\n",
    "# Extracting the min and max values.\n",
    "txn_min = txn_min_max[\"min_txn_date\"]\n",
    "txn_max = txn_min_max[\"max_txn_date\"]\n",
    "# Printing the results.\n",
    "print(f\"min txn_date: {txn_min}\\nmax txn_date: {txn_max}\")"
   ]
  },
  {
   "cell_type": "markdown",
   "metadata": {
    "application/vnd.databricks.v1+cell": {
     "cellMetadata": {
      "byteLimit": 2048000,
      "rowLimit": 10000
     },
     "inputWidgets": {},
     "nuid": "361923a5-2313-473e-a70f-249e1620457a",
     "showTitle": false,
     "tableResultSettingsMap": {},
     "title": ""
    }
   },
   "source": [
    "#### Answer:\n",
    "- The min()  of column 'txn date' is 2011-05-16 and the max() is 2015-03-16"
   ]
  },
  {
   "cell_type": "markdown",
   "metadata": {
    "application/vnd.databricks.v1+cell": {
     "cellMetadata": {
      "byteLimit": 2048000,
      "rowLimit": 10000
     },
     "inputWidgets": {},
     "nuid": "87b9aa0d-3a9e-4d8c-8bc3-ae490c2dc977",
     "showTitle": false,
     "tableResultSettingsMap": {},
     "title": ""
    }
   },
   "source": [
    "### Q 1.1.4."
   ]
  },
  {
   "cell_type": "code",
   "execution_count": 0,
   "metadata": {
    "application/vnd.databricks.v1+cell": {
     "cellMetadata": {
      "byteLimit": 2048000,
      "rowLimit": 10000
     },
     "inputWidgets": {},
     "nuid": "a12eea27-b297-47d4-a321-30661f3bb2ff",
     "showTitle": false,
     "tableResultSettingsMap": {},
     "title": ""
    }
   },
   "outputs": [
    {
     "output_type": "stream",
     "name": "stdout",
     "output_type": "stream",
     "text": [
      "+-----------+-----------+----------+----------+\n|customer_id|tran_amount|  txn_date|     ME_DT|\n+-----------+-----------+----------+----------+\n|     CS5295|         35|2013-02-11|2013-02-28|\n|     CS4768|         39|2015-03-15|2015-03-31|\n|     CS2122|         52|2013-02-26|2013-02-28|\n|     CS1217|         99|2011-11-16|2011-11-30|\n|     CS1850|         78|2013-11-20|2013-11-30|\n+-----------+-----------+----------+----------+\nonly showing top 5 rows\n\n"
     ]
    }
   ],
   "source": [
    "# Creating the 'ME_DT' column as the last day of the month for 'txn_date'\n",
    "txn = txn.withColumn(\"ME_DT\", last_day(\"txn_date\"))\n",
    "# Showing the first few rows of the DataFrame to verify the change.\n",
    "txn.show(5)"
   ]
  },
  {
   "cell_type": "markdown",
   "metadata": {
    "application/vnd.databricks.v1+cell": {
     "cellMetadata": {
      "byteLimit": 2048000,
      "rowLimit": 10000
     },
     "inputWidgets": {},
     "nuid": "e04fcbd4-e0f5-4310-87b5-aa56ab8b47ad",
     "showTitle": false,
     "tableResultSettingsMap": {},
     "title": ""
    }
   },
   "source": [
    "### Q 1.1.5."
   ]
  },
  {
   "cell_type": "code",
   "execution_count": 0,
   "metadata": {
    "application/vnd.databricks.v1+cell": {
     "cellMetadata": {
      "byteLimit": 2048000,
      "rowLimit": 10000
     },
     "inputWidgets": {},
     "nuid": "c8c0419c-2ce4-4826-94e4-7ae24fa53f42",
     "showTitle": false,
     "tableResultSettingsMap": {},
     "title": ""
    }
   },
   "outputs": [
    {
     "output_type": "stream",
     "name": "stdout",
     "output_type": "stream",
     "text": [
      "+-----------+-----------+----------+----------+----+\n|customer_id|tran_amount|  txn_date|     ME_DT|YEAR|\n+-----------+-----------+----------+----------+----+\n|     CS5295|         35|2013-02-11|2013-02-28|2013|\n|     CS4768|         39|2015-03-15|2015-03-31|2015|\n|     CS2122|         52|2013-02-26|2013-02-28|2013|\n|     CS1217|         99|2011-11-16|2011-11-30|2011|\n|     CS1850|         78|2013-11-20|2013-11-30|2013|\n|     CS5539|         81|2014-03-26|2014-03-31|2014|\n|     CS2724|         93|2012-02-06|2012-02-29|2012|\n|     CS5902|         89|2015-01-30|2015-01-31|2015|\n|     CS6040|         76|2013-01-08|2013-01-31|2013|\n|     CS3802|         75|2013-08-20|2013-08-31|2013|\n|     CS3494|         94|2013-07-02|2013-07-31|2013|\n|     CS3780|         80|2013-03-25|2013-03-31|2013|\n|     CS1171|         59|2012-11-03|2012-11-30|2012|\n|     CS2892|         43|2013-05-12|2013-05-31|2013|\n|     CS5552|         78|2014-12-29|2014-12-31|2014|\n|     CS6043|         98|2014-01-15|2014-01-31|2014|\n|     CS4147|         81|2013-07-08|2013-07-31|2013|\n|     CS4655|         93|2013-12-30|2013-12-31|2013|\n|     CS3904|        103|2014-07-20|2014-07-31|2014|\n|     CS4102|         96|2011-07-09|2011-07-31|2011|\n|     CS2086|         75|2013-03-05|2013-03-31|2013|\n|     CS6085|         49|2013-01-09|2013-01-31|2013|\n|     CS1328|         54|2013-02-06|2013-02-28|2013|\n|     CS4564|         48|2012-03-27|2012-03-31|2012|\n|     CS5910|         98|2012-01-01|2012-01-31|2012|\n|     CS2748|         37|2013-03-23|2013-03-31|2013|\n|     CS5147|         72|2013-04-29|2013-04-30|2013|\n|     CS1770|         83|2012-11-02|2012-11-30|2012|\n|     CS3510|         81|2011-10-24|2011-10-31|2011|\n|     CS2509|        105|2011-12-05|2011-12-31|2011|\n|     CS2859|         77|2015-02-27|2015-02-28|2015|\n|     CS1512|         71|2015-02-21|2015-02-28|2015|\n|     CS4148|         48|2013-08-22|2013-08-31|2013|\n|     CS1735|         70|2012-03-31|2012-03-31|2012|\n|     CS1588|         70|2012-01-27|2012-01-31|2012|\n|     CS5514|         36|2013-01-09|2013-01-31|2013|\n|     CS5933|         48|2013-10-07|2013-10-31|2013|\n|     CS2797|         87|2014-03-06|2014-03-31|2014|\n|     CS5313|         88|2012-12-02|2012-12-31|2012|\n|     CS5966|         39|2012-03-09|2012-03-31|2012|\n|     CS5211|         51|2014-05-18|2014-05-31|2014|\n|     CS1511|         47|2015-01-13|2015-01-31|2015|\n|     CS6087|         37|2014-11-24|2014-11-30|2014|\n|     CS5909|         80|2012-02-04|2012-02-29|2012|\n|     CS2845|        105|2013-03-08|2013-03-31|2013|\n|     CS1433|         78|2012-11-05|2012-11-30|2012|\n|     CS4897|         45|2014-04-12|2014-04-30|2014|\n|     CS2296|         79|2012-12-28|2012-12-31|2012|\n|     CS1494|         59|2013-06-29|2013-06-30|2013|\n|     CS3688|         55|2014-06-19|2014-06-30|2014|\n|     CS2287|         94|2011-12-23|2011-12-31|2011|\n|     CS3779|         69|2011-06-26|2011-06-30|2011|\n|     CS1423|         78|2014-06-05|2014-06-30|2014|\n|     CS2501|         59|2012-11-14|2012-11-30|2012|\n|     CS3434|         98|2013-02-22|2013-02-28|2013|\n|     CS2662|         88|2014-08-31|2014-08-31|2014|\n|     CS2209|         35|2012-03-12|2012-03-31|2012|\n|     CS4530|         40|2011-06-05|2011-06-30|2011|\n|     CS2848|         53|2013-02-04|2013-02-28|2013|\n|     CS2596|         55|2011-09-19|2011-09-30|2011|\n+-----------+-----------+----------+----------+----+\nonly showing top 60 rows\n\n"
     ]
    }
   ],
   "source": [
    "# Creating the 'YEAR' column by extracting the year from 'txn_date'.\n",
    "txn = txn.withColumn(\"YEAR\", year(\"txn_date\"))\n",
    "# Viewing rows 55 to 60 of the DataFrame to verify the change.\n",
    "txn.show(60) "
   ]
  },
  {
   "cell_type": "markdown",
   "metadata": {
    "application/vnd.databricks.v1+cell": {
     "cellMetadata": {
      "byteLimit": 2048000,
      "rowLimit": 10000
     },
     "inputWidgets": {},
     "nuid": "b9fdce9d-5b13-4307-89bb-8dfdc538c477",
     "showTitle": false,
     "tableResultSettingsMap": {},
     "title": ""
    }
   },
   "source": [
    "### Q 1.2.1."
   ]
  },
  {
   "cell_type": "code",
   "execution_count": 0,
   "metadata": {
    "application/vnd.databricks.v1+cell": {
     "cellMetadata": {
      "byteLimit": 2048000,
      "rowLimit": 10000
     },
     "inputWidgets": {},
     "nuid": "a8c8f523-da1f-47af-95c6-7f2b230f92f7",
     "showTitle": false,
     "tableResultSettingsMap": {},
     "title": ""
    }
   },
   "outputs": [
    {
     "output_type": "stream",
     "name": "stdout",
     "output_type": "stream",
     "text": [
      "+-----------+----+---------------+-----------------+------------------+------------------+------------------+---------------+---------------+---------------+\n|customer_id|YEAR|ann_txn_amt_sum|  ann_txn_amt_ave|   ann_txn_amt_std|   ann_txn_amt_var|   ann_txn_amt_sem|ann_txn_amt_max|ann_txn_amt_min|ann_txn_amt_cnt|\n+-----------+----+---------------+-----------------+------------------+------------------+------------------+---------------+---------------+---------------+\n|     CS1112|2011|            212|70.66666666666667| 22.03028218914441|485.33333333333337|12.719189352225943|             96|             56|              3|\n|     CS1112|2012|            337|             67.4|12.720062892926277|             161.8| 5.688585061331157|             81|             52|              5|\n|     CS1112|2013|            212|70.66666666666667| 34.50120770833006|1190.3333333333333| 19.91928155777155|            105|             36|              3|\n|     CS1112|2014|            212|70.66666666666667|16.862186493255653|284.33333333333337| 9.735387911006823|             90|             59|              3|\n|     CS1112|2015|             39|             39.0|              null|              null|              null|             39|             39|              1|\n+-----------+----+---------------+-----------------+------------------+------------------+------------------+---------------+---------------+---------------+\nonly showing top 5 rows\n\n"
     ]
    }
   ],
   "source": [
    "# Grouping by 'customer_id' and 'YEAR', then performing aggregations.\n",
    "clnt_annual_aggregations = txn.groupBy(\"customer_id\", \"YEAR\") \\\n",
    "                            .agg(sum(\"tran_amount\").alias(\"ann_txn_amt_sum\"),\n",
    "                                mean(\"tran_amount\").alias(\"ann_txn_amt_ave\"),\n",
    "                                stddev(\"tran_amount\").alias(\"ann_txn_amt_std\"),\n",
    "                                variance(\"tran_amount\").alias(\"ann_txn_amt_var\"),\n",
    "                                (stddev(\"tran_amount\") / sqrt(count(\"tran_amount\"))).alias(\"ann_txn_amt_sem\"),\n",
    "                                max(\"tran_amount\").alias(\"ann_txn_amt_max\"),\n",
    "                                min(\"tran_amount\").alias(\"ann_txn_amt_min\"),\n",
    "                                count(\"tran_amount\").alias(\"ann_txn_amt_cnt\")) \\\n",
    "                            .orderBy(\"customer_id\", \"YEAR\")\n",
    "clnt_annual_aggregations.show(5)"
   ]
  },
  {
   "cell_type": "markdown",
   "metadata": {
    "application/vnd.databricks.v1+cell": {
     "cellMetadata": {
      "byteLimit": 2048000,
      "rowLimit": 10000
     },
     "inputWidgets": {},
     "nuid": "c8f5dee0-c402-44fa-aedb-68ac1a5d639a",
     "showTitle": false,
     "tableResultSettingsMap": {},
     "title": ""
    }
   },
   "source": [
    "### Q 1.2.2."
   ]
  },
  {
   "cell_type": "markdown",
   "metadata": {
    "application/vnd.databricks.v1+cell": {
     "cellMetadata": {
      "byteLimit": 2048000,
      "rowLimit": 10000
     },
     "inputWidgets": {},
     "nuid": "673958c9-f4e5-42b0-bf02-55319afc2bbe",
     "showTitle": false,
     "tableResultSettingsMap": {},
     "title": ""
    }
   },
   "source": [
    "#### Comment:\n",
    "- PySpark does not have built-in plotting capabilities, so libraries like Matplotlib must be used for visualization and this requries the table to be converted to pandas dataframe first."
   ]
  },
  {
   "cell_type": "code",
   "execution_count": 0,
   "metadata": {
    "application/vnd.databricks.v1+cell": {
     "cellMetadata": {
      "byteLimit": 2048000,
      "rowLimit": 10000
     },
     "inputWidgets": {},
     "nuid": "d9925513-589f-4f82-b8fa-4a13629da533",
     "showTitle": false,
     "tableResultSettingsMap": {},
     "title": ""
    }
   },
   "outputs": [
    {
     "output_type": "display_data",
     "data": {
      "image/png": "[encoded data removed]"
     },
     "metadata": {
      "application/vnd.databricks.v1+output": {
       "addedWidgets": {},
       "arguments": {},
       "data": "data:image/png;base64,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\n",
       "datasetInfos": [],
       "metadata": {},
       "removedWidgets": [],
       "type": "image"
      }
     },
     "output_type": "display_data"
    }
   ],
   "source": [
    "# Converting the PySpark DataFrame to a Pandas DataFrame for visualization.\n",
    "clnt_annual_aggregations_pd = clnt_annual_aggregations.toPandas()\n",
    "\n",
    "# Plotting the histogram of the sum and count in clnt_annual_aggregations.\n",
    "fig = plt.figure(figsize=(12, 5))\n",
    "# Visualizing the distribution for the Annual Transaction Total.\n",
    "sub1 = fig.add_subplot(121)\n",
    "# Using 20 bins to capture the spread of the values more.\n",
    "plt.hist(clnt_annual_aggregations_pd[\"ann_txn_amt_sum\"], bins=20, edgecolor='black')\n",
    "sub1.set_title(\"Distribution for Annual Transaction Sum\", fontsize=16)\n",
    "plt.xlabel(\"Annual Sum ($)\", fontsize=14)\n",
    "plt.ylabel(\"Frequency\", fontsize=14)\n",
    "plt.xticks(rotation=0, fontsize=10)\n",
    "plt.yticks(rotation=0, fontsize=10)\n",
    "# Visualizing the distribution for the Annual Transaction Count.\n",
    "sub2 = fig.add_subplot(122)\n",
    "plt.hist(clnt_annual_aggregations_pd[\"ann_txn_amt_cnt\"], bins=20, edgecolor='black')\n",
    "sub2.set_title(\"Distribution for Annual Transaction Count\", fontsize=16)\n",
    "plt.xlabel(\"Annual Count\", fontsize=14)\n",
    "plt.ylabel(\"Frequency\", fontsize=14)\n",
    "plt.xticks(rotation=0, fontsize=10)\n",
    "plt.yticks(rotation=0, fontsize=10)\n",
    "\n",
    "plt.tight_layout()\n",
    "plt.show()"
   ]
  },
  {
   "cell_type": "markdown",
   "metadata": {
    "application/vnd.databricks.v1+cell": {
     "cellMetadata": {
      "byteLimit": 2048000,
      "rowLimit": 10000
     },
     "inputWidgets": {},
     "nuid": "4fcd17d8-035a-4c34-834d-009e025f5665",
     "showTitle": false,
     "tableResultSettingsMap": {},
     "title": ""
    }
   },
   "source": [
    "### Q 1.2.3."
   ]
  },
  {
   "cell_type": "code",
   "execution_count": 0,
   "metadata": {
    "application/vnd.databricks.v1+cell": {
     "cellMetadata": {
      "byteLimit": 2048000,
      "rowLimit": 10000
     },
     "inputWidgets": {},
     "nuid": "dd740142-9106-4ba5-97e5-57b97718a98a",
     "showTitle": false,
     "tableResultSettingsMap": {},
     "title": ""
    }
   },
   "outputs": [
    {
     "output_type": "stream",
     "name": "stdout",
     "output_type": "stream",
     "text": [
      "+-----------+--------------------+--------------------+--------------------+--------------------+--------------------+--------------------+--------------------+--------------------+--------------------+--------------------+--------------------+--------------------+--------------------+--------------------+--------------------+--------------------+--------------------+--------------------+--------------------+--------------------+--------------------+--------------------+--------------------+--------------------+--------------------+--------------------+--------------------+--------------------+--------------------+--------------------+--------------------+--------------------+--------------------+--------------------+--------------------+--------------------+--------------------+--------------------+--------------------+--------------------+\n|customer_id|2011_ann_txn_amt_sum|2011_ann_txn_amt_ave|2011_ann_txn_amt_cnt|2011_ann_txn_amt_std|2011_ann_txn_amt_var|2011_ann_txn_amt_sem|2011_ann_txn_amt_max|2011_ann_txn_amt_min|2012_ann_txn_amt_sum|2012_ann_txn_amt_ave|2012_ann_txn_amt_cnt|2012_ann_txn_amt_std|2012_ann_txn_amt_var|2012_ann_txn_amt_sem|2012_ann_txn_amt_max|2012_ann_txn_amt_min|2013_ann_txn_amt_sum|2013_ann_txn_amt_ave|2013_ann_txn_amt_cnt|2013_ann_txn_amt_std|2013_ann_txn_amt_var|2013_ann_txn_amt_sem|2013_ann_txn_amt_max|2013_ann_txn_amt_min|2014_ann_txn_amt_sum|2014_ann_txn_amt_ave|2014_ann_txn_amt_cnt|2014_ann_txn_amt_std|2014_ann_txn_amt_var|2014_ann_txn_amt_sem|2014_ann_txn_amt_max|2014_ann_txn_amt_min|2015_ann_txn_amt_sum|2015_ann_txn_amt_ave|2015_ann_txn_amt_cnt|2015_ann_txn_amt_std|2015_ann_txn_amt_var|2015_ann_txn_amt_sem|2015_ann_txn_amt_max|2015_ann_txn_amt_min|\n+-----------+--------------------+--------------------+--------------------+--------------------+--------------------+--------------------+--------------------+--------------------+--------------------+--------------------+--------------------+--------------------+--------------------+--------------------+--------------------+--------------------+--------------------+--------------------+--------------------+--------------------+--------------------+--------------------+--------------------+--------------------+--------------------+--------------------+--------------------+--------------------+--------------------+--------------------+--------------------+--------------------+--------------------+--------------------+--------------------+--------------------+--------------------+--------------------+--------------------+--------------------+\n|     CS1112|               212.0|   70.66666666666667|                 3.0|   22.03028218914441|  485.33333333333337|  12.719189352225943|                96.0|                56.0|               337.0|                67.4|                 5.0|  12.720062892926277|               161.8|   5.688585061331157|                81.0|                52.0|               212.0|   70.66666666666667|                 3.0|   34.50120770833006|  1190.3333333333333|   19.91928155777155|               105.0|                36.0|               212.0|   70.66666666666667|                 3.0|  16.862186493255653|  284.33333333333337|   9.735387911006823|                90.0|                59.0|                39.0|                39.0|                 1.0|                null|                null|                null|                39.0|                39.0|\n|     CS1113|               244.0|   81.33333333333333|                 3.0|   21.07921567168317|  444.33333333333337|  12.170090842352456|                94.0|                57.0|               374.0|                74.8|                 5.0|  17.035257556021865|  290.20000000000005|   7.618398781896364|                95.0|                51.0|               426.0|                85.2|                 5.0|    13.0843417870369|               171.2|   5.851495535331117|                97.0|                65.0|               226.0|                56.5|                 4.0|  27.958302285129307|   781.6666666666666|  13.979151142564653|                97.0|                36.0|               220.0|   73.33333333333333|                 3.0|  27.300793639257694|   745.3333333333334|  15.762120556715853|                98.0|                44.0|\n|     CS1114|               426.0|                85.2|                 5.0|   9.731392500562293|   94.70000000000003|   4.352011029397789|                97.0|                76.0|               150.0|                75.0|                 2.0|   31.11269837220809|               968.0|  21.999999999999996|                97.0|                53.0|               352.0|                70.4|                 5.0|   24.88573888796553|               619.3|  11.129240764760189|               105.0|                43.0|               425.0|   70.83333333333333|                 6.0|  26.947479783212874|   726.1666666666666|  11.001262553806166|                95.0|                37.0|                79.0|                79.0|                 1.0|                null|                null|                null|                79.0|                79.0|\n|     CS1115|               261.0|                87.0|                 3.0|                15.0|               225.0|   8.660254037844387|               102.0|                72.0|               473.0|   67.57142857142857|                 7.0|  21.846869667888676|   477.2857142857143|   8.257340580924813|               104.0|                41.0|               557.0|   79.57142857142857|                 7.0|  10.533393610436333|  110.95238095238098|  3.9812485649673297|                94.0|                66.0|               313.0|               78.25|                 4.0|  22.632940595512547|   512.2499999999999|  11.316470297756274|                98.0|                50.0|                55.0|                55.0|                 1.0|                null|                null|                null|                55.0|                55.0|\n|     CS1116|               235.0|               58.75|                 4.0|  21.203380233664003|   449.5833333333333|  10.601690116832001|                87.0|                41.0|               230.0|   76.66666666666667|                 3.0|  30.138568866708543|   908.3333333333334|  17.400510848184254|               105.0|                45.0|                59.0|                59.0|                 1.0|                null|                null|                null|                59.0|                59.0|               333.0|                66.6|                 5.0|  25.234896472940004|               636.8|  11.285388783732706|                96.0|                40.0|                null|                null|                null|                null|                null|                null|                null|                null|\n+-----------+--------------------+--------------------+--------------------+--------------------+--------------------+--------------------+--------------------+--------------------+--------------------+--------------------+--------------------+--------------------+--------------------+--------------------+--------------------+--------------------+--------------------+--------------------+--------------------+--------------------+--------------------+--------------------+--------------------+--------------------+--------------------+--------------------+--------------------+--------------------+--------------------+--------------------+--------------------+--------------------+--------------------+--------------------+--------------------+--------------------+--------------------+--------------------+--------------------+--------------------+\nonly showing top 5 rows\n\n"
     ]
    }
   ],
   "source": [
    "# Pivoting the DataFrame with avg as the aggregation function for all attributes.\n",
    "clnt_annual_aggregations_pivot = clnt_annual_aggregations \\\n",
    "    .groupBy(\"customer_id\") \\\n",
    "    .pivot(\"YEAR\").agg(\n",
    "    avg(\"ann_txn_amt_sum\").alias(\"ann_txn_amt_sum\"),\n",
    "    avg(\"ann_txn_amt_ave\").alias(\"ann_txn_amt_ave\"),\n",
    "    avg(\"ann_txn_amt_cnt\").alias(\"ann_txn_amt_cnt\"),\n",
    "    avg(\"ann_txn_amt_std\").alias(\"ann_txn_amt_std\"),\n",
    "    avg(\"ann_txn_amt_var\").alias(\"ann_txn_amt_var\"),\n",
    "    avg(\"ann_txn_amt_sem\").alias(\"ann_txn_amt_sem\"),\n",
    "    avg(\"ann_txn_amt_max\").alias(\"ann_txn_amt_max\"),\n",
    "    avg(\"ann_txn_amt_min\").alias(\"ann_txn_amt_min\")) \\\n",
    "    .orderBy(\"customer_id\")\n",
    "clnt_annual_aggregations_pivot.show(5)"
   ]
  },
  {
   "cell_type": "code",
   "execution_count": 0,
   "metadata": {
    "application/vnd.databricks.v1+cell": {
     "cellMetadata": {
      "byteLimit": 2048000,
      "rowLimit": 10000
     },
     "inputWidgets": {},
     "nuid": "79a1166d-16f4-4241-9b63-1112556190df",
     "showTitle": false,
     "tableResultSettingsMap": {},
     "title": ""
    }
   },
   "outputs": [
    {
     "output_type": "stream",
     "name": "stdout",
     "output_type": "stream",
     "text": [
      "+-----------+--------------------+--------------------+--------------------+--------------------+--------------------+--------------------+--------------------+--------------------+--------------------+--------------------+--------------------+--------------------+--------------------+--------------------+--------------------+--------------------+--------------------+--------------------+--------------------+--------------------+--------------------+--------------------+--------------------+--------------------+--------------------+--------------------+--------------------+--------------------+--------------------+--------------------+--------------------+--------------------+--------------------+--------------------+--------------------+--------------------+--------------------+--------------------+--------------------+--------------------+\n|customer_id|ann_txn_amt_ave_2011|ann_txn_amt_ave_2012|ann_txn_amt_ave_2013|ann_txn_amt_ave_2014|ann_txn_amt_ave_2015|ann_txn_amt_cnt_2011|ann_txn_amt_cnt_2012|ann_txn_amt_cnt_2013|ann_txn_amt_cnt_2014|ann_txn_amt_cnt_2015|ann_txn_amt_sum_2011|ann_txn_amt_sum_2012|ann_txn_amt_sum_2013|ann_txn_amt_sum_2014|ann_txn_amt_sum_2015|ann_txn_amt_std_2011|ann_txn_amt_std_2012|ann_txn_amt_std_2013|ann_txn_amt_std_2014|ann_txn_amt_std_2015|ann_txn_amt_var_2011|ann_txn_amt_var_2012|ann_txn_amt_var_2013|ann_txn_amt_var_2014|ann_txn_amt_var_2015|ann_txn_amt_sem_2011|ann_txn_amt_sem_2012|ann_txn_amt_sem_2013|ann_txn_amt_sem_2014|ann_txn_amt_sem_2015|ann_txn_amt_max_2011|ann_txn_amt_max_2012|ann_txn_amt_max_2013|ann_txn_amt_max_2014|ann_txn_amt_max_2015|ann_txn_amt_min_2011|ann_txn_amt_min_2012|ann_txn_amt_min_2013|ann_txn_amt_min_2014|ann_txn_amt_min_2015|\n+-----------+--------------------+--------------------+--------------------+--------------------+--------------------+--------------------+--------------------+--------------------+--------------------+--------------------+--------------------+--------------------+--------------------+--------------------+--------------------+--------------------+--------------------+--------------------+--------------------+--------------------+--------------------+--------------------+--------------------+--------------------+--------------------+--------------------+--------------------+--------------------+--------------------+--------------------+--------------------+--------------------+--------------------+--------------------+--------------------+--------------------+--------------------+--------------------+--------------------+--------------------+\n|     CS1112|   70.66666666666667|                67.4|   70.66666666666667|   70.66666666666667|                39.0|                 3.0|                 5.0|                 3.0|                 3.0|                 1.0|               212.0|               337.0|               212.0|               212.0|                39.0|   22.03028218914441|  12.720062892926277|   34.50120770833006|  16.862186493255653|                null|  485.33333333333337|               161.8|  1190.3333333333333|  284.33333333333337|                null|  12.719189352225943|   5.688585061331157|   19.91928155777155|   9.735387911006823|                null|                96.0|                81.0|               105.0|                90.0|                39.0|                56.0|                52.0|                36.0|                59.0|                39.0|\n|     CS1113|   81.33333333333333|                74.8|                85.2|                56.5|   73.33333333333333|                 3.0|                 5.0|                 5.0|                 4.0|                 3.0|               244.0|               374.0|               426.0|               226.0|               220.0|   21.07921567168317|  17.035257556021865|    13.0843417870369|  27.958302285129307|  27.300793639257694|  444.33333333333337|  290.20000000000005|               171.2|   781.6666666666666|   745.3333333333334|  12.170090842352456|   7.618398781896364|   5.851495535331117|  13.979151142564653|  15.762120556715853|                94.0|                95.0|                97.0|                97.0|                98.0|                57.0|                51.0|                65.0|                36.0|                44.0|\n|     CS1114|                85.2|                75.0|                70.4|   70.83333333333333|                79.0|                 5.0|                 2.0|                 5.0|                 6.0|                 1.0|               426.0|               150.0|               352.0|               425.0|                79.0|   9.731392500562293|   31.11269837220809|   24.88573888796553|  26.947479783212874|                null|   94.70000000000003|               968.0|               619.3|   726.1666666666666|                null|   4.352011029397789|  21.999999999999996|  11.129240764760189|  11.001262553806166|                null|                97.0|                97.0|               105.0|                95.0|                79.0|                76.0|                53.0|                43.0|                37.0|                79.0|\n|     CS1115|                87.0|   67.57142857142857|   79.57142857142857|               78.25|                55.0|                 3.0|                 7.0|                 7.0|                 4.0|                 1.0|               261.0|               473.0|               557.0|               313.0|                55.0|                15.0|  21.846869667888676|  10.533393610436333|  22.632940595512547|                null|               225.0|   477.2857142857143|  110.95238095238098|   512.2499999999999|                null|   8.660254037844387|   8.257340580924813|  3.9812485649673297|  11.316470297756274|                null|               102.0|               104.0|                94.0|                98.0|                55.0|                72.0|                41.0|                66.0|                50.0|                55.0|\n|     CS1116|               58.75|   76.66666666666667|                59.0|                66.6|                null|                 4.0|                 3.0|                 1.0|                 5.0|                null|               235.0|               230.0|                59.0|               333.0|                null|  21.203380233664003|  30.138568866708543|                null|  25.234896472940004|                null|   449.5833333333333|   908.3333333333334|                null|               636.8|                null|  10.601690116832001|  17.400510848184254|                null|  11.285388783732706|                null|                87.0|               105.0|                59.0|                96.0|                null|                41.0|                45.0|                59.0|                40.0|                null|\n+-----------+--------------------+--------------------+--------------------+--------------------+--------------------+--------------------+--------------------+--------------------+--------------------+--------------------+--------------------+--------------------+--------------------+--------------------+--------------------+--------------------+--------------------+--------------------+--------------------+--------------------+--------------------+--------------------+--------------------+--------------------+--------------------+--------------------+--------------------+--------------------+--------------------+--------------------+--------------------+--------------------+--------------------+--------------------+--------------------+--------------------+--------------------+--------------------+--------------------+--------------------+\nonly showing top 5 rows\n\n"
     ]
    }
   ],
   "source": [
    "# Defining the desired column order.\n",
    "years = [\"2011\", \"2012\", \"2013\", \"2014\", \"2015\"]\n",
    "attributes = [\"ann_txn_amt_ave\", \"ann_txn_amt_cnt\", \"ann_txn_amt_sum\", \"ann_txn_amt_std\", \n",
    "              \"ann_txn_amt_var\", \"ann_txn_amt_sem\", \"ann_txn_amt_max\", \"ann_txn_amt_min\"]\n",
    "# Creating a list of columns in the desired order: attribute_Year.\n",
    "new_columns = [\"customer_id\"]\n",
    "for attribute in attributes:\n",
    "    for year in years:\n",
    "        new_columns.append(f\"{attribute}_{year}\")\n",
    "# Renaming columns from Year_attribute (the default) to attribute_Year.\n",
    "for year in years:\n",
    "    for attribute in attributes:\n",
    "        old_column_name = f\"{year}_{attribute}\"  \n",
    "        new_column_name = f\"{attribute}_{year}\"  \n",
    "        clnt_annual_aggregations_pivot = clnt_annual_aggregations_pivot.withColumnRenamed(old_column_name, new_column_name)\n",
    "# Reordering the columns to match the desired sequence.\n",
    "clnt_annual_aggregations_pivot = clnt_annual_aggregations_pivot.select(new_columns)\n",
    "clnt_annual_aggregations_pivot.show(5)"
   ]
  },
  {
   "cell_type": "code",
   "execution_count": 0,
   "metadata": {
    "application/vnd.databricks.v1+cell": {
     "cellMetadata": {
      "byteLimit": 2048000,
      "rowLimit": 10000
     },
     "inputWidgets": {},
     "nuid": "547fd245-959c-483b-a2ea-83d0c7086197",
     "showTitle": false,
     "tableResultSettingsMap": {},
     "title": ""
    }
   },
   "outputs": [
    {
     "output_type": "stream",
     "name": "stdout",
     "output_type": "stream",
     "text": [
      "Number of columns in the data: 40\n"
     ]
    }
   ],
   "source": [
    "# Observing the number of columns excluding customer id.\n",
    "print(f\"Number of columns in the data: {len(clnt_annual_aggregations_pivot.columns) - 1}\")"
   ]
  },
  {
   "cell_type": "markdown",
   "metadata": {
    "application/vnd.databricks.v1+cell": {
     "cellMetadata": {
      "byteLimit": 2048000,
      "rowLimit": 10000
     },
     "inputWidgets": {},
     "nuid": "399dd262-391b-4c15-ab2b-3e1fcd5930c3",
     "showTitle": false,
     "tableResultSettingsMap": {},
     "title": ""
    }
   },
   "source": [
    "#### Answer:\n",
    "- There are 40 columns in this pivoted table because the year is set as the columns and there are 5 years, the 8 annual aggregations have values for all 5 years. Therefore, _5 years * 8 aggregations = 40 columns_.\n"
   ]
  },
  {
   "cell_type": "code",
   "execution_count": 0,
   "metadata": {
    "application/vnd.databricks.v1+cell": {
     "cellMetadata": {
      "byteLimit": 2048000,
      "rowLimit": 10000
     },
     "inputWidgets": {},
     "nuid": "6f215856-93c4-4f3c-896a-9efcec5135ff",
     "showTitle": false,
     "tableResultSettingsMap": {},
     "title": ""
    }
   },
   "outputs": [
    {
     "output_type": "stream",
     "name": "stdout",
     "output_type": "stream",
     "text": [
      "Total number of rows with null values in the pivoted table: 5682\n"
     ]
    }
   ],
   "source": [
    "# Creating a condition to check for Null values in any column.\n",
    "condition = None\n",
    "for column_name in clnt_annual_aggregations_pivot.columns:\n",
    "    if condition is None:\n",
    "        condition = isnan(col(column_name)) | col(column_name).isNull()\n",
    "    else:\n",
    "        condition = condition | isnan(col(column_name)) | col(column_name).isNull()\n",
    "# Filtering rows with Null values.\n",
    "rows_with_nan = clnt_annual_aggregations_pivot.filter(condition)\n",
    "# Printing the resnumber of Null rows.\n",
    "print(f\"Total number of rows with null values in the pivoted table: {rows_with_nan.count()}\")"
   ]
  },
  {
   "cell_type": "code",
   "execution_count": 0,
   "metadata": {
    "application/vnd.databricks.v1+cell": {
     "cellMetadata": {
      "byteLimit": 2048000,
      "rowLimit": 10000
     },
     "inputWidgets": {},
     "nuid": "ca9a225b-e293-4783-b3b4-72da11c23626",
     "showTitle": false,
     "tableResultSettingsMap": {},
     "title": ""
    }
   },
   "outputs": [
    {
     "output_type": "stream",
     "name": "stdout",
     "output_type": "stream",
     "text": [
      "The DataFrame does not contain any missing values.\n"
     ]
    }
   ],
   "source": [
    "# Creating a condition to check for null values in numeric columns only.\n",
    "condition = None\n",
    "for column_name in txn.columns:\n",
    "    column_type = txn.schema[column_name].dataType\n",
    "    if column_type in [\"double\", \"float\", \"int\", \"long\"]:  \n",
    "        column_condition = col(column_name).isNull() | isnan(col(column_name))\n",
    "    else: \n",
    "        column_condition = col(column_name).isNull()\n",
    "    \n",
    "    if condition is None:\n",
    "        condition = column_condition\n",
    "    else:\n",
    "        condition = condition | column_condition\n",
    "# Checking if any row satisfies the condition (i.e., has null or NaN values).\n",
    "missing_values = txn.filter(condition).count() > 0\n",
    "# Print the result\n",
    "if missing_values:\n",
    "    print(\"The DataFrame contains missing values (null or NaN).\")\n",
    "else:\n",
    "    print(\"The DataFrame does not contain any missing values.\")"
   ]
  },
  {
   "cell_type": "code",
   "execution_count": 0,
   "metadata": {
    "application/vnd.databricks.v1+cell": {
     "cellMetadata": {
      "byteLimit": 2048000,
      "rowLimit": 10000
     },
     "inputWidgets": {},
     "nuid": "a174b660-863a-4ed9-a26b-b22ebe3b476e",
     "showTitle": false,
     "tableResultSettingsMap": {},
     "title": ""
    }
   },
   "outputs": [
    {
     "output_type": "stream",
     "name": "stdout",
     "output_type": "stream",
     "text": [
      "+-----------+--------------------+--------------------+--------------------+--------------------+--------------------+--------------------+--------------------+--------------------+--------------------+--------------------+--------------------+--------------------+--------------------+--------------------+--------------------+--------------------+--------------------+--------------------+--------------------+--------------------+--------------------+--------------------+--------------------+--------------------+--------------------+--------------------+--------------------+--------------------+--------------------+--------------------+--------------------+--------------------+--------------------+--------------------+--------------------+--------------------+--------------------+--------------------+--------------------+--------------------+\n|customer_id|ann_txn_amt_ave_2011|ann_txn_amt_ave_2012|ann_txn_amt_ave_2013|ann_txn_amt_ave_2014|ann_txn_amt_ave_2015|ann_txn_amt_cnt_2011|ann_txn_amt_cnt_2012|ann_txn_amt_cnt_2013|ann_txn_amt_cnt_2014|ann_txn_amt_cnt_2015|ann_txn_amt_sum_2011|ann_txn_amt_sum_2012|ann_txn_amt_sum_2013|ann_txn_amt_sum_2014|ann_txn_amt_sum_2015|ann_txn_amt_std_2011|ann_txn_amt_std_2012|ann_txn_amt_std_2013|ann_txn_amt_std_2014|ann_txn_amt_std_2015|ann_txn_amt_var_2011|ann_txn_amt_var_2012|ann_txn_amt_var_2013|ann_txn_amt_var_2014|ann_txn_amt_var_2015|ann_txn_amt_sem_2011|ann_txn_amt_sem_2012|ann_txn_amt_sem_2013|ann_txn_amt_sem_2014|ann_txn_amt_sem_2015|ann_txn_amt_max_2011|ann_txn_amt_max_2012|ann_txn_amt_max_2013|ann_txn_amt_max_2014|ann_txn_amt_max_2015|ann_txn_amt_min_2011|ann_txn_amt_min_2012|ann_txn_amt_min_2013|ann_txn_amt_min_2014|ann_txn_amt_min_2015|\n+-----------+--------------------+--------------------+--------------------+--------------------+--------------------+--------------------+--------------------+--------------------+--------------------+--------------------+--------------------+--------------------+--------------------+--------------------+--------------------+--------------------+--------------------+--------------------+--------------------+--------------------+--------------------+--------------------+--------------------+--------------------+--------------------+--------------------+--------------------+--------------------+--------------------+--------------------+--------------------+--------------------+--------------------+--------------------+--------------------+--------------------+--------------------+--------------------+--------------------+--------------------+\n|     CS1112|   70.66666666666667|                67.4|   70.66666666666667|   70.66666666666667|                39.0|                 3.0|                 5.0|                 3.0|                 3.0|                 1.0|               212.0|               337.0|               212.0|               212.0|                39.0|   22.03028218914441|  12.720062892926277|   34.50120770833006|  16.862186493255653|                 0.0|  485.33333333333337|               161.8|  1190.3333333333333|  284.33333333333337|                 0.0|  12.719189352225943|   5.688585061331157|   19.91928155777155|   9.735387911006823|                 0.0|                96.0|                81.0|               105.0|                90.0|                39.0|                56.0|                52.0|                36.0|                59.0|                39.0|\n|     CS1113|   81.33333333333333|                74.8|                85.2|                56.5|   73.33333333333333|                 3.0|                 5.0|                 5.0|                 4.0|                 3.0|               244.0|               374.0|               426.0|               226.0|               220.0|   21.07921567168317|  17.035257556021865|    13.0843417870369|  27.958302285129307|  27.300793639257694|  444.33333333333337|  290.20000000000005|               171.2|   781.6666666666666|   745.3333333333334|  12.170090842352456|   7.618398781896364|   5.851495535331117|  13.979151142564653|  15.762120556715853|                94.0|                95.0|                97.0|                97.0|                98.0|                57.0|                51.0|                65.0|                36.0|                44.0|\n|     CS1114|                85.2|                75.0|                70.4|   70.83333333333333|                79.0|                 5.0|                 2.0|                 5.0|                 6.0|                 1.0|               426.0|               150.0|               352.0|               425.0|                79.0|   9.731392500562293|   31.11269837220809|   24.88573888796553|  26.947479783212874|                 0.0|   94.70000000000003|               968.0|               619.3|   726.1666666666666|                 0.0|   4.352011029397789|  21.999999999999996|  11.129240764760189|  11.001262553806166|                 0.0|                97.0|                97.0|               105.0|                95.0|                79.0|                76.0|                53.0|                43.0|                37.0|                79.0|\n|     CS1115|                87.0|   67.57142857142857|   79.57142857142857|               78.25|                55.0|                 3.0|                 7.0|                 7.0|                 4.0|                 1.0|               261.0|               473.0|               557.0|               313.0|                55.0|                15.0|  21.846869667888676|  10.533393610436333|  22.632940595512547|                 0.0|               225.0|   477.2857142857143|  110.95238095238098|   512.2499999999999|                 0.0|   8.660254037844387|   8.257340580924813|  3.9812485649673297|  11.316470297756274|                 0.0|               102.0|               104.0|                94.0|                98.0|                55.0|                72.0|                41.0|                66.0|                50.0|                55.0|\n|     CS1116|               58.75|   76.66666666666667|                59.0|                66.6|                 0.0|                 4.0|                 3.0|                 1.0|                 5.0|                 0.0|               235.0|               230.0|                59.0|               333.0|                 0.0|  21.203380233664003|  30.138568866708543|                 0.0|  25.234896472940004|                 0.0|   449.5833333333333|   908.3333333333334|                 0.0|               636.8|                 0.0|  10.601690116832001|  17.400510848184254|                 0.0|  11.285388783732706|                 0.0|                87.0|               105.0|                59.0|                96.0|                 0.0|                41.0|                45.0|                59.0|                40.0|                 0.0|\n+-----------+--------------------+--------------------+--------------------+--------------------+--------------------+--------------------+--------------------+--------------------+--------------------+--------------------+--------------------+--------------------+--------------------+--------------------+--------------------+--------------------+--------------------+--------------------+--------------------+--------------------+--------------------+--------------------+--------------------+--------------------+--------------------+--------------------+--------------------+--------------------+--------------------+--------------------+--------------------+--------------------+--------------------+--------------------+--------------------+--------------------+--------------------+--------------------+--------------------+--------------------+\nonly showing top 5 rows\n\n"
     ]
    }
   ],
   "source": [
    "# Imputing NaN entries with 0.\n",
    "clnt_annual_aggregations_pivot = clnt_annual_aggregations_pivot.fillna(0)\n",
    "clnt_annual_aggregations_pivot.show(5)"
   ]
  },
  {
   "cell_type": "markdown",
   "metadata": {
    "application/vnd.databricks.v1+cell": {
     "cellMetadata": {
      "byteLimit": 2048000,
      "rowLimit": 10000
     },
     "inputWidgets": {},
     "nuid": "7dd36924-2072-4fb3-95ba-6de5ceabd41f",
     "showTitle": false,
     "tableResultSettingsMap": {},
     "title": ""
    }
   },
   "source": [
    "#### Answer:\n",
    "- Since the lack of data is due to either not being able to compute certain metrics or just not having any transaction data during those periods, 0 was imputed for the NaN enteries. Furthermore, there are no missing values in the original raw data, indicating that there is not enough information needed to calculate the values that are absent from the pivoted table."
   ]
  },
  {
   "cell_type": "markdown",
   "metadata": {
    "application/vnd.databricks.v1+cell": {
     "cellMetadata": {
      "byteLimit": 2048000,
      "rowLimit": 10000
     },
     "inputWidgets": {},
     "nuid": "9a673209-e33d-4c09-9a07-38a383e5cb78",
     "showTitle": false,
     "tableResultSettingsMap": {},
     "title": ""
    }
   },
   "source": [
    "### Q 1.2.4."
   ]
  },
  {
   "cell_type": "markdown",
   "metadata": {
    "application/vnd.databricks.v1+cell": {
     "cellMetadata": {
      "byteLimit": 2048000,
      "rowLimit": 10000
     },
     "inputWidgets": {},
     "nuid": "8c294bb4-09fd-4439-abb3-cc54d62393f5",
     "showTitle": false,
     "tableResultSettingsMap": {},
     "title": ""
    }
   },
   "source": [
    "#### Comment:\n",
    "- The number of levels in the column is one. In PySpark, DataFrames don't have the concept of \"index levels\" or \"column levels\" in the same way Pandas does. PySpark DataFrames are more like relational tables, where columns are flat and there is no hierarchical index."
   ]
  },
  {
   "cell_type": "code",
   "execution_count": 0,
   "metadata": {
    "application/vnd.databricks.v1+cell": {
     "cellMetadata": {
      "byteLimit": 2048000,
      "rowLimit": 10000
     },
     "inputWidgets": {},
     "nuid": "7d1ade21-75fd-4685-8406-5684e29457ba",
     "showTitle": false,
     "tableResultSettingsMap": {},
     "title": ""
    }
   },
   "outputs": [
    {
     "output_type": "stream",
     "name": "stdout",
     "output_type": "stream",
     "text": [
      "Out[18]: ['customer_id',\n 'ann_txn_amt_ave_2011',\n 'ann_txn_amt_ave_2012',\n 'ann_txn_amt_ave_2013',\n 'ann_txn_amt_ave_2014',\n 'ann_txn_amt_ave_2015',\n 'ann_txn_amt_cnt_2011',\n 'ann_txn_amt_cnt_2012',\n 'ann_txn_amt_cnt_2013',\n 'ann_txn_amt_cnt_2014',\n 'ann_txn_amt_cnt_2015',\n 'ann_txn_amt_sum_2011',\n 'ann_txn_amt_sum_2012',\n 'ann_txn_amt_sum_2013',\n 'ann_txn_amt_sum_2014',\n 'ann_txn_amt_sum_2015',\n 'ann_txn_amt_std_2011',\n 'ann_txn_amt_std_2012',\n 'ann_txn_amt_std_2013',\n 'ann_txn_amt_std_2014',\n 'ann_txn_amt_std_2015',\n 'ann_txn_amt_var_2011',\n 'ann_txn_amt_var_2012',\n 'ann_txn_amt_var_2013',\n 'ann_txn_amt_var_2014',\n 'ann_txn_amt_var_2015',\n 'ann_txn_amt_sem_2011',\n 'ann_txn_amt_sem_2012',\n 'ann_txn_amt_sem_2013',\n 'ann_txn_amt_sem_2014',\n 'ann_txn_amt_sem_2015',\n 'ann_txn_amt_max_2011',\n 'ann_txn_amt_max_2012',\n 'ann_txn_amt_max_2013',\n 'ann_txn_amt_max_2014',\n 'ann_txn_amt_max_2015',\n 'ann_txn_amt_min_2011',\n 'ann_txn_amt_min_2012',\n 'ann_txn_amt_min_2013',\n 'ann_txn_amt_min_2014',\n 'ann_txn_amt_min_2015']"
     ]
    }
   ],
   "source": [
    "# Observing the column names.\n",
    "clnt_annual_aggregations_pivot.columns"
   ]
  },
  {
   "cell_type": "markdown",
   "metadata": {
    "application/vnd.databricks.v1+cell": {
     "cellMetadata": {
      "byteLimit": 2048000,
      "rowLimit": 10000
     },
     "inputWidgets": {},
     "nuid": "9097064d-3cc6-404e-b980-6e042fd7d1e0",
     "showTitle": false,
     "tableResultSettingsMap": {},
     "title": ""
    }
   },
   "source": [
    "#### Answer:\n",
    "-  The column names are paired with each metric and each year because there were initially two levels of columns: the first level contains those metrics, and the second level has the years."
   ]
  },
  {
   "cell_type": "markdown",
   "metadata": {
    "application/vnd.databricks.v1+cell": {
     "cellMetadata": {
      "byteLimit": 2048000,
      "rowLimit": 10000
     },
     "inputWidgets": {},
     "nuid": "be92348f-5c40-46fa-8e1d-465491882fd4",
     "showTitle": false,
     "tableResultSettingsMap": {},
     "title": ""
    }
   },
   "source": [
    "### Q 1.2.5."
   ]
  },
  {
   "cell_type": "markdown",
   "metadata": {
    "application/vnd.databricks.v1+cell": {
     "cellMetadata": {
      "byteLimit": 2048000,
      "rowLimit": 10000
     },
     "inputWidgets": {},
     "nuid": "9426c3c9-631e-4007-ba59-a95b5c5f5019",
     "showTitle": false,
     "tableResultSettingsMap": {},
     "title": ""
    }
   },
   "source": [
    "#### Comment:\n",
    "- There already exists a single column level so there is no need for multi-level to single-level conversion."
   ]
  },
  {
   "cell_type": "markdown",
   "metadata": {
    "application/vnd.databricks.v1+cell": {
     "cellMetadata": {
      "byteLimit": 2048000,
      "rowLimit": 10000
     },
     "inputWidgets": {},
     "nuid": "6b886930-5980-4903-8433-37b6527a213c",
     "showTitle": false,
     "tableResultSettingsMap": {},
     "title": ""
    }
   },
   "source": [
    "#### Answer:\n",
    "- The first line of code extracts the first level of the column MultiIndex as strings and the second line of code does the same for the second level of the column. The third line of code re-assigns the column names as the concatenation of the first and second level column names joined by an underscore."
   ]
  },
  {
   "cell_type": "code",
   "execution_count": 0,
   "metadata": {
    "application/vnd.databricks.v1+cell": {
     "cellMetadata": {
      "byteLimit": 2048000,
      "rowLimit": 10000
     },
     "inputWidgets": {},
     "nuid": "7d8c768d-011f-42ae-ac29-32b8ba2b3a90",
     "showTitle": false,
     "tableResultSettingsMap": {},
     "title": ""
    }
   },
   "outputs": [
    {
     "output_type": "stream",
     "name": "stdout",
     "output_type": "stream",
     "text": [
      "Excel file saved to DBFS: dbfs:/FileStore/annual_features.xlsx\n"
     ]
    }
   ],
   "source": [
    "# Converting the PySpark DataFrame to a Pandas DataFrame.\n",
    "clnt_annual_aggregations_pivot_pd = clnt_annual_aggregations_pivot.toPandas()\n",
    "# Saving the Pandas DataFrame as an Excel file locally.\n",
    "local_excel_path = \"/tmp/annual_features.xlsx\"  # Temporary local path\n",
    "clnt_annual_aggregations_pivot_pd.to_excel(local_excel_path, index=False)\n",
    "# Moving the Excel file to DBFS for easy access via the GUI.\n",
    "dbfs_excel_path = \"dbfs:/FileStore/annual_features.xlsx\"  # DBFS path\n",
    "dbutils.fs.mv(f\"file:{local_excel_path}\", dbfs_excel_path)\n",
    "\n",
    "print(f\"Excel file saved to DBFS: {dbfs_excel_path}\")"
   ]
  },
  {
   "cell_type": "code",
   "execution_count": 0,
   "metadata": {
    "application/vnd.databricks.v1+cell": {
     "cellMetadata": {
      "byteLimit": 2048000,
      "rowLimit": 10000
     },
     "inputWidgets": {},
     "nuid": "aa9643fd-6ce1-4a17-afd8-f26d7b221095",
     "showTitle": false,
     "tableResultSettingsMap": {},
     "title": ""
    }
   },
   "outputs": [
    {
     "output_type": "display_data",
     "data": {
      "text/html": [
       "<div>\n",
       "<style scoped>\n",
       "    .dataframe tbody tr th:only-of-type {\n",
       "        vertical-align: middle;\n",
       "    }\n",
       "\n",
       "    .dataframe tbody tr th {\n",
       "        vertical-align: top;\n",
       "    }\n",
       "\n",
       "    .dataframe thead th {\n",
       "        text-align: right;\n",
       "    }\n",
       "</style>\n",
       "<table border=\"1\" class=\"dataframe\">\n",
       "  <thead>\n",
       "    <tr style=\"text-align: right;\">\n",
       "      <th></th>\n",
       "      <th>customer_id</th>\n",
       "      <th>ann_txn_amt_ave_2011</th>\n",
       "      <th>ann_txn_amt_ave_2012</th>\n",
       "      <th>ann_txn_amt_ave_2013</th>\n",
       "      <th>ann_txn_amt_ave_2014</th>\n",
       "      <th>ann_txn_amt_ave_2015</th>\n",
       "      <th>ann_txn_amt_cnt_2011</th>\n",
       "      <th>ann_txn_amt_cnt_2012</th>\n",
       "      <th>ann_txn_amt_cnt_2013</th>\n",
       "      <th>ann_txn_amt_cnt_2014</th>\n",
       "      <th>...</th>\n",
       "      <th>ann_txn_amt_max_2011</th>\n",
       "      <th>ann_txn_amt_max_2012</th>\n",
       "      <th>ann_txn_amt_max_2013</th>\n",
       "      <th>ann_txn_amt_max_2014</th>\n",
       "      <th>ann_txn_amt_max_2015</th>\n",
       "      <th>ann_txn_amt_min_2011</th>\n",
       "      <th>ann_txn_amt_min_2012</th>\n",
       "      <th>ann_txn_amt_min_2013</th>\n",
       "      <th>ann_txn_amt_min_2014</th>\n",
       "      <th>ann_txn_amt_min_2015</th>\n",
       "    </tr>\n",
       "  </thead>\n",
       "  <tbody>\n",
       "    <tr>\n",
       "      <th>0</th>\n",
       "      <td>CS1112</td>\n",
       "      <td>70.666667</td>\n",
       "      <td>67.400000</td>\n",
       "      <td>70.666667</td>\n",
       "      <td>70.666667</td>\n",
       "      <td>39.000000</td>\n",
       "      <td>3.0</td>\n",
       "      <td>5.0</td>\n",
       "      <td>3.0</td>\n",
       "      <td>3.0</td>\n",
       "      <td>...</td>\n",
       "      <td>96.0</td>\n",
       "      <td>81.0</td>\n",
       "      <td>105.0</td>\n",
       "      <td>90.0</td>\n",
       "      <td>39.0</td>\n",
       "      <td>56.0</td>\n",
       "      <td>52.0</td>\n",
       "      <td>36.0</td>\n",
       "      <td>59.0</td>\n",
       "      <td>39.0</td>\n",
       "    </tr>\n",
       "    <tr>\n",
       "      <th>1</th>\n",
       "      <td>CS1113</td>\n",
       "      <td>81.333333</td>\n",
       "      <td>74.800000</td>\n",
       "      <td>85.200000</td>\n",
       "      <td>56.500000</td>\n",
       "      <td>73.333333</td>\n",
       "      <td>3.0</td>\n",
       "      <td>5.0</td>\n",
       "      <td>5.0</td>\n",
       "      <td>4.0</td>\n",
       "      <td>...</td>\n",
       "      <td>94.0</td>\n",
       "      <td>95.0</td>\n",
       "      <td>97.0</td>\n",
       "      <td>97.0</td>\n",
       "      <td>98.0</td>\n",
       "      <td>57.0</td>\n",
       "      <td>51.0</td>\n",
       "      <td>65.0</td>\n",
       "      <td>36.0</td>\n",
       "      <td>44.0</td>\n",
       "    </tr>\n",
       "    <tr>\n",
       "      <th>2</th>\n",
       "      <td>CS1114</td>\n",
       "      <td>85.200000</td>\n",
       "      <td>75.000000</td>\n",
       "      <td>70.400000</td>\n",
       "      <td>70.833333</td>\n",
       "      <td>79.000000</td>\n",
       "      <td>5.0</td>\n",
       "      <td>2.0</td>\n",
       "      <td>5.0</td>\n",
       "      <td>6.0</td>\n",
       "      <td>...</td>\n",
       "      <td>97.0</td>\n",
       "      <td>97.0</td>\n",
       "      <td>105.0</td>\n",
       "      <td>95.0</td>\n",
       "      <td>79.0</td>\n",
       "      <td>76.0</td>\n",
       "      <td>53.0</td>\n",
       "      <td>43.0</td>\n",
       "      <td>37.0</td>\n",
       "      <td>79.0</td>\n",
       "    </tr>\n",
       "    <tr>\n",
       "      <th>3</th>\n",
       "      <td>CS1115</td>\n",
       "      <td>87.000000</td>\n",
       "      <td>67.571429</td>\n",
       "      <td>79.571429</td>\n",
       "      <td>78.250000</td>\n",
       "      <td>55.000000</td>\n",
       "      <td>3.0</td>\n",
       "      <td>7.0</td>\n",
       "      <td>7.0</td>\n",
       "      <td>4.0</td>\n",
       "      <td>...</td>\n",
       "      <td>102.0</td>\n",
       "      <td>104.0</td>\n",
       "      <td>94.0</td>\n",
       "      <td>98.0</td>\n",
       "      <td>55.0</td>\n",
       "      <td>72.0</td>\n",
       "      <td>41.0</td>\n",
       "      <td>66.0</td>\n",
       "      <td>50.0</td>\n",
       "      <td>55.0</td>\n",
       "    </tr>\n",
       "    <tr>\n",
       "      <th>4</th>\n",
       "      <td>CS1116</td>\n",
       "      <td>58.750000</td>\n",
       "      <td>76.666667</td>\n",
       "      <td>59.000000</td>\n",
       "      <td>66.600000</td>\n",
       "      <td>0.000000</td>\n",
       "      <td>4.0</td>\n",
       "      <td>3.0</td>\n",
       "      <td>1.0</td>\n",
       "      <td>5.0</td>\n",
       "      <td>...</td>\n",
       "      <td>87.0</td>\n",
       "      <td>105.0</td>\n",
       "      <td>59.0</td>\n",
       "      <td>96.0</td>\n",
       "      <td>0.0</td>\n",
       "      <td>41.0</td>\n",
       "      <td>45.0</td>\n",
       "      <td>59.0</td>\n",
       "      <td>40.0</td>\n",
       "      <td>0.0</td>\n",
       "    </tr>\n",
       "  </tbody>\n",
       "</table>\n",
       "<p>5 rows × 41 columns</p>\n",
       "</div>"
      ]
     },
     "metadata": {
      "application/vnd.databricks.v1+output": {
       "addedWidgets": {},
       "arguments": {},
       "data": "<div>\n<style scoped>\n    .dataframe tbody tr th:only-of-type {\n        vertical-align: middle;\n    }\n\n    .dataframe tbody tr th {\n        vertical-align: top;\n    }\n\n    .dataframe thead th {\n        text-align: right;\n    }\n</style>\n<table border=\"1\" class=\"dataframe\">\n  <thead>\n    <tr style=\"text-align: right;\">\n      <th></th>\n      <th>customer_id</th>\n      <th>ann_txn_amt_ave_2011</th>\n      <th>ann_txn_amt_ave_2012</th>\n      <th>ann_txn_amt_ave_2013</th>\n      <th>ann_txn_amt_ave_2014</th>\n      <th>ann_txn_amt_ave_2015</th>\n      <th>ann_txn_amt_cnt_2011</th>\n      <th>ann_txn_amt_cnt_2012</th>\n      <th>ann_txn_amt_cnt_2013</th>\n      <th>ann_txn_amt_cnt_2014</th>\n      <th>...</th>\n      <th>ann_txn_amt_max_2011</th>\n      <th>ann_txn_amt_max_2012</th>\n      <th>ann_txn_amt_max_2013</th>\n      <th>ann_txn_amt_max_2014</th>\n      <th>ann_txn_amt_max_2015</th>\n      <th>ann_txn_amt_min_2011</th>\n      <th>ann_txn_amt_min_2012</th>\n      <th>ann_txn_amt_min_2013</th>\n      <th>ann_txn_amt_min_2014</th>\n      <th>ann_txn_amt_min_2015</th>\n    </tr>\n  </thead>\n  <tbody>\n    <tr>\n      <th>0</th>\n      <td>CS1112</td>\n      <td>70.666667</td>\n      <td>67.400000</td>\n      <td>70.666667</td>\n      <td>70.666667</td>\n      <td>39.000000</td>\n      <td>3.0</td>\n      <td>5.0</td>\n      <td>3.0</td>\n      <td>3.0</td>\n      <td>...</td>\n      <td>96.0</td>\n      <td>81.0</td>\n      <td>105.0</td>\n      <td>90.0</td>\n      <td>39.0</td>\n      <td>56.0</td>\n      <td>52.0</td>\n      <td>36.0</td>\n      <td>59.0</td>\n      <td>39.0</td>\n    </tr>\n    <tr>\n      <th>1</th>\n      <td>CS1113</td>\n      <td>81.333333</td>\n      <td>74.800000</td>\n      <td>85.200000</td>\n      <td>56.500000</td>\n      <td>73.333333</td>\n      <td>3.0</td>\n      <td>5.0</td>\n      <td>5.0</td>\n      <td>4.0</td>\n      <td>...</td>\n      <td>94.0</td>\n      <td>95.0</td>\n      <td>97.0</td>\n      <td>97.0</td>\n      <td>98.0</td>\n      <td>57.0</td>\n      <td>51.0</td>\n      <td>65.0</td>\n      <td>36.0</td>\n      <td>44.0</td>\n    </tr>\n    <tr>\n      <th>2</th>\n      <td>CS1114</td>\n      <td>85.200000</td>\n      <td>75.000000</td>\n      <td>70.400000</td>\n      <td>70.833333</td>\n      <td>79.000000</td>\n      <td>5.0</td>\n      <td>2.0</td>\n      <td>5.0</td>\n      <td>6.0</td>\n      <td>...</td>\n      <td>97.0</td>\n      <td>97.0</td>\n      <td>105.0</td>\n      <td>95.0</td>\n      <td>79.0</td>\n      <td>76.0</td>\n      <td>53.0</td>\n      <td>43.0</td>\n      <td>37.0</td>\n      <td>79.0</td>\n    </tr>\n    <tr>\n      <th>3</th>\n      <td>CS1115</td>\n      <td>87.000000</td>\n      <td>67.571429</td>\n      <td>79.571429</td>\n      <td>78.250000</td>\n      <td>55.000000</td>\n      <td>3.0</td>\n      <td>7.0</td>\n      <td>7.0</td>\n      <td>4.0</td>\n      <td>...</td>\n      <td>102.0</td>\n      <td>104.0</td>\n      <td>94.0</td>\n      <td>98.0</td>\n      <td>55.0</td>\n      <td>72.0</td>\n      <td>41.0</td>\n      <td>66.0</td>\n      <td>50.0</td>\n      <td>55.0</td>\n    </tr>\n    <tr>\n      <th>4</th>\n      <td>CS1116</td>\n      <td>58.750000</td>\n      <td>76.666667</td>\n      <td>59.000000</td>\n      <td>66.600000</td>\n      <td>0.000000</td>\n      <td>4.0</td>\n      <td>3.0</td>\n      <td>1.0</td>\n      <td>5.0</td>\n      <td>...</td>\n      <td>87.0</td>\n      <td>105.0</td>\n      <td>59.0</td>\n      <td>96.0</td>\n      <td>0.0</td>\n      <td>41.0</td>\n      <td>45.0</td>\n      <td>59.0</td>\n      <td>40.0</td>\n      <td>0.0</td>\n    </tr>\n  </tbody>\n</table>\n<p>5 rows × 41 columns</p>\n</div>",
       "datasetInfos": [],
       "metadata": {},
       "removedWidgets": [],
       "textData": null,
       "type": "htmlSandbox"
      }
     },
     "output_type": "display_data"
    }
   ],
   "source": [
    "# Viewing a snapshot of the saved dataset.\n",
    "clnt_annual_aggregations_pivot_pd.head()"
   ]
  },
  {
   "cell_type": "markdown",
   "metadata": {
    "application/vnd.databricks.v1+cell": {
     "cellMetadata": {
      "byteLimit": 2048000,
      "rowLimit": 10000
     },
     "inputWidgets": {},
     "nuid": "e4f86c42-8cef-4e69-ba69-688ca247553b",
     "showTitle": false,
     "tableResultSettingsMap": {},
     "title": ""
    }
   },
   "source": [
    "### Q 1.2.6."
   ]
  },
  {
   "cell_type": "markdown",
   "metadata": {
    "application/vnd.databricks.v1+cell": {
     "cellMetadata": {
      "byteLimit": 2048000,
      "rowLimit": 10000
     },
     "inputWidgets": {},
     "nuid": "cce7cb37-b473-40ff-9c0b-7069ee63130e",
     "showTitle": false,
     "tableResultSettingsMap": {},
     "title": ""
    }
   },
   "source": [
    "#### Answer:\n",
    "-  The annual transaction information for behavior analysis from the bank side may be imprecise and devoid of seasonal patterns since the time frame is too broad. The lack of timeliness in the previous year's transaction statistics makes them unhelpful from the client's perspective if they wish to understand their transaction behavior."
   ]
  },
  {
   "cell_type": "markdown",
   "metadata": {
    "application/vnd.databricks.v1+cell": {
     "cellMetadata": {
      "byteLimit": 2048000,
      "rowLimit": 10000
     },
     "inputWidgets": {},
     "nuid": "326b6bd0-bfb7-41be-850d-c735d86db996",
     "showTitle": false,
     "tableResultSettingsMap": {},
     "title": ""
    }
   },
   "source": [
    "### Q 1.3.1."
   ]
  },
  {
   "cell_type": "code",
   "execution_count": 0,
   "metadata": {
    "application/vnd.databricks.v1+cell": {
     "cellMetadata": {
      "byteLimit": 2048000,
      "rowLimit": 10000
     },
     "inputWidgets": {},
     "nuid": "962337fe-c9c7-43fb-8829-c9b8a571e53d",
     "showTitle": false,
     "tableResultSettingsMap": {},
     "title": ""
    }
   },
   "outputs": [
    {
     "output_type": "stream",
     "name": "stdout",
     "output_type": "stream",
     "text": [
      "+-----------+----------+---------------+-----------+\n|customer_id|     ME_DT|mth_txn_amt_sum|mth_txn_cnt|\n+-----------+----------+---------------+-----------+\n|     CS1112|2011-06-30|             56|          1|\n|     CS1112|2011-08-31|             96|          1|\n|     CS1112|2011-10-31|             60|          1|\n|     CS1112|2012-04-30|             56|          1|\n|     CS1112|2012-06-30|             52|          1|\n|     CS1112|2012-07-31|             81|          1|\n|     CS1112|2012-09-30|             72|          1|\n|     CS1112|2012-12-31|             76|          1|\n|     CS1112|2013-03-31|            105|          1|\n|     CS1112|2013-07-31|             36|          1|\n|     CS1112|2013-11-30|             71|          1|\n|     CS1112|2014-04-30|             63|          1|\n|     CS1112|2014-07-31|             90|          1|\n|     CS1112|2014-12-31|             59|          1|\n|     CS1112|2015-01-31|             39|          1|\n+-----------+----------+---------------+-----------+\nonly showing top 15 rows\n\n"
     ]
    }
   ],
   "source": [
    "# Grouping by 'customer_id' and 'ME_DT', then performing aggregations.\n",
    "clnt_monthly_aggregations = txn.groupBy(\"customer_id\", \"ME_DT\").agg(\n",
    "    sum(\"tran_amount\").alias(\"mth_txn_amt_sum\"),  \n",
    "    count(\"tran_amount\").alias(\"mth_txn_cnt\")).orderBy(\"customer_id\", \"ME_DT\")\n",
    "clnt_monthly_aggregations.show(15)"
   ]
  },
  {
   "cell_type": "markdown",
   "metadata": {
    "application/vnd.databricks.v1+cell": {
     "cellMetadata": {
      "byteLimit": 2048000,
      "rowLimit": 10000
     },
     "inputWidgets": {},
     "nuid": "bc588d8a-062b-4a0d-bd3e-eb689a290933",
     "showTitle": false,
     "tableResultSettingsMap": {},
     "title": ""
    }
   },
   "source": [
    "### Q 1.3.2."
   ]
  },
  {
   "cell_type": "code",
   "execution_count": 0,
   "metadata": {
    "application/vnd.databricks.v1+cell": {
     "cellMetadata": {
      "byteLimit": 2048000,
      "rowLimit": 10000
     },
     "inputWidgets": {},
     "nuid": "49e1a87c-eb52-4bd2-9c79-f7493e17935c",
     "showTitle": false,
     "tableResultSettingsMap": {},
     "title": ""
    }
   },
   "outputs": [
    {
     "output_type": "display_data",
     "data": {
      "image/png": "[encoded data removed]"
     },
     "metadata": {
      "application/vnd.databricks.v1+output": {
       "addedWidgets": {},
       "arguments": {},
       "data": "data:image/png;base64,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\n",
       "datasetInfos": [],
       "metadata": {},
       "removedWidgets": [],
       "type": "image"
      }
     },
     "output_type": "display_data"
    }
   ],
   "source": [
    "# Converting the PySpark DataFrame to a Pandas DataFrame.\n",
    "clnt_monthly_aggregations_pd = clnt_monthly_aggregations.toPandas()\n",
    "\n",
    "# Creating a figure with two subplots.\n",
    "fig = plt.figure(figsize=(12, 5))\n",
    "# Visualizing the distribution for the Monthly Transaction Amount Total.\n",
    "sub1 = fig.add_subplot(121)\n",
    "plt.hist(clnt_monthly_aggregations_pd[\"mth_txn_amt_sum\"], bins=20, edgecolor='black')\n",
    "sub1.set_title(\"Distribution for Monthly Transaction Sum\", fontsize=16)\n",
    "plt.xlabel(\"Monthly Amount Sum ($)\", fontsize=14)\n",
    "plt.ylabel(\"Frequency\", fontsize=14)\n",
    "plt.xticks(rotation=0, fontsize=10)\n",
    "plt.yticks(rotation=0, fontsize=10)\n",
    "# Visualizing the distribution for the Monthly Transaction Count.\n",
    "sub2 = fig.add_subplot(122)\n",
    "plt.hist(clnt_monthly_aggregations_pd[\"mth_txn_cnt\"], bins=20, edgecolor='black')\n",
    "sub2.set_title(\"Distribution for Monthly Transaction Count\", fontsize=16)\n",
    "plt.xlabel(\"Monthly Count\", fontsize=14)\n",
    "plt.ylabel(\"Frequency\", fontsize=14)\n",
    "plt.xticks(rotation=0, fontsize=10)\n",
    "plt.yticks(rotation=0, fontsize=10)\n",
    "\n",
    "plt.tight_layout()\n",
    "plt.show()"
   ]
  },
  {
   "cell_type": "markdown",
   "metadata": {
    "application/vnd.databricks.v1+cell": {
     "cellMetadata": {
      "byteLimit": 2048000,
      "rowLimit": 10000
     },
     "inputWidgets": {},
     "nuid": "85eb6bd3-a9df-4503-964a-3c7054ae284a",
     "showTitle": false,
     "tableResultSettingsMap": {},
     "title": ""
    }
   },
   "source": [
    "#### Answer:\n",
    "- The monthly transaction pattern is comparable to the annual transaction pattern, with the majority of transactions falling below 100 dollars and just a small number exceeding 200 dollars. The most common value for the monthly transaction sum is 70 dollars and  more than 70% of clients only make one transaction each month, which is the most common monthly transaction frequency. Combining the two graphs will thus reveal that the data is highly irregular or out of balance. One, or one transaction each month, is unquestionably the most prevalent value for the count."
   ]
  },
  {
   "cell_type": "markdown",
   "metadata": {
    "application/vnd.databricks.v1+cell": {
     "cellMetadata": {
      "byteLimit": 2048000,
      "rowLimit": 10000
     },
     "inputWidgets": {},
     "nuid": "3a4f18ca-c749-4236-b0c2-24d068031249",
     "showTitle": false,
     "tableResultSettingsMap": {},
     "title": ""
    }
   },
   "source": [
    "### Q 1.4.1."
   ]
  },
  {
   "cell_type": "code",
   "execution_count": 0,
   "metadata": {
    "application/vnd.databricks.v1+cell": {
     "cellMetadata": {
      "byteLimit": 2048000,
      "rowLimit": 10000
     },
     "inputWidgets": {},
     "nuid": "4c12c214-06ef-492e-a67f-2a20462c1fc1",
     "showTitle": false,
     "tableResultSettingsMap": {},
     "title": ""
    }
   },
   "outputs": [
    {
     "output_type": "stream",
     "name": "stdout",
     "output_type": "stream",
     "text": [
      "Unique clients: 6889\nUnique month-end dates: 47\n"
     ]
    }
   ],
   "source": [
    "# Extracting the unique customer_id values and converting to a NumPy array.\n",
    "clnt_no = np.array(txn.select(\"customer_id\").distinct().rdd.flatMap(lambda x: x).collect())\n",
    "# Extracting the unique ME_DT values and converting to a NumPy array.\n",
    "me_dt = np.array(txn.select(\"ME_DT\").distinct().rdd.flatMap(lambda x: x).collect())\n",
    "# Printing the number of unique clients and month-end dates.\n",
    "print(f\"Unique clients: {clnt_no.shape[0]}\\nUnique month-end dates: {me_dt.shape[0]}\")"
   ]
  },
  {
   "cell_type": "markdown",
   "metadata": {
    "application/vnd.databricks.v1+cell": {
     "cellMetadata": {
      "byteLimit": 2048000,
      "rowLimit": 10000
     },
     "inputWidgets": {},
     "nuid": "2f4c09dd-c4d2-4cea-a8a0-0c85f79f19e1",
     "showTitle": false,
     "tableResultSettingsMap": {},
     "title": ""
    }
   },
   "source": [
    "### Q 1.4.2."
   ]
  },
  {
   "cell_type": "code",
   "execution_count": 0,
   "metadata": {
    "application/vnd.databricks.v1+cell": {
     "cellMetadata": {
      "byteLimit": 2048000,
      "rowLimit": 10000
     },
     "inputWidgets": {},
     "nuid": "e73e3e1b-b39d-4fa8-8053-0da965f01f01",
     "showTitle": false,
     "tableResultSettingsMap": {},
     "title": ""
    }
   },
   "outputs": [],
   "source": [
    "# Converting the reshaped arrays to PySpark DataFrames.\n",
    "clnt_no = spark.createDataFrame(clnt_no.reshape(-1, 1).tolist(), [\"customer_id\"])\n",
    "me_dt = spark.createDataFrame(me_dt.reshape(-1, 1) .tolist(), [\"ME_DT\"])\n",
    "# Creating a Cartesian product of unique customer_id and ME_DT.\n",
    "base_table = clnt_no.crossJoin(me_dt)"
   ]
  },
  {
   "cell_type": "markdown",
   "metadata": {
    "application/vnd.databricks.v1+cell": {
     "cellMetadata": {
      "byteLimit": 2048000,
      "rowLimit": 10000
     },
     "inputWidgets": {},
     "nuid": "27c01339-5984-4498-887b-b97c7c3c46fc",
     "showTitle": false,
     "tableResultSettingsMap": {},
     "title": ""
    }
   },
   "source": [
    "### Q 1.4.3."
   ]
  },
  {
   "cell_type": "code",
   "execution_count": 0,
   "metadata": {
    "application/vnd.databricks.v1+cell": {
     "cellMetadata": {
      "byteLimit": 2048000,
      "rowLimit": 10000
     },
     "inputWidgets": {},
     "nuid": "63466743-d073-432f-8262-e685711d36bb",
     "showTitle": false,
     "tableResultSettingsMap": {},
     "title": ""
    }
   },
   "outputs": [
    {
     "output_type": "stream",
     "name": "stdout",
     "output_type": "stream",
     "text": [
      "+-------+----------+\n|CLNT_NO|     ME_DT|\n+-------+----------+\n| CS6001|2012-05-31|\n| CS6001|2013-03-31|\n| CS6001|2012-08-31|\n| CS6001|2012-01-31|\n| CS6001|2014-02-28|\n+-------+----------+\nonly showing top 5 rows\n\n"
     ]
    }
   ],
   "source": [
    "# Renaming the \"customer_id\" column in the PySpark DataFrame.\n",
    "base_table_sd = base_table.withColumnRenamed(\"customer_id\", \"CLNT_NO\")\n",
    "base_table_sd.show(5)"
   ]
  },
  {
   "cell_type": "markdown",
   "metadata": {
    "application/vnd.databricks.v1+cell": {
     "cellMetadata": {
      "byteLimit": 2048000,
      "rowLimit": 10000
     },
     "inputWidgets": {},
     "nuid": "2f04bc46-d508-49a4-8f2d-975718b509a5",
     "showTitle": false,
     "tableResultSettingsMap": {},
     "title": ""
    }
   },
   "source": [
    "### Q 1.4.4."
   ]
  },
  {
   "cell_type": "code",
   "execution_count": 0,
   "metadata": {
    "application/vnd.databricks.v1+cell": {
     "cellMetadata": {
      "byteLimit": 2048000,
      "rowLimit": 10000
     },
     "inputWidgets": {},
     "nuid": "1f0be092-a641-4127-8928-10d8d10d278a",
     "showTitle": false,
     "tableResultSettingsMap": {},
     "title": ""
    }
   },
   "outputs": [
    {
     "output_type": "stream",
     "name": "stdout",
     "output_type": "stream",
     "text": [
      "CS1112 min date, 2011-05-31, is later than the txn min date, 2011-05-16\nCS1112 max date, 2015-03-31, is the last day of the txn max date, 2015-03-16\n"
     ]
    }
   ],
   "source": [
    "# Validating that the created table is what was originally wanted.\n",
    "# Step 1: Filtering client CS1112 to confirm that the dates fall between the min and max month-dates.\n",
    "cs1112_txn = base_table_sd.filter(base_table_sd[\"CLNT_NO\"] == \"CS1112\")\n",
    "cs1112_txn_min = cs1112_txn.select(min(\"ME_DT\")).collect()[0][0]\n",
    "cs1112_txn_max = cs1112_txn.select(max(\"ME_DT\")).collect()[0][0]\n",
    "\n",
    "print(f\"CS1112 min date, {cs1112_txn_min}, is later than the txn min date, {txn_min}\")\n",
    "print(f\"CS1112 max date, {cs1112_txn_max}, is the last day of the txn max date, {txn_max}\")"
   ]
  },
  {
   "cell_type": "code",
   "execution_count": 0,
   "metadata": {
    "application/vnd.databricks.v1+cell": {
     "cellMetadata": {
      "byteLimit": 2048000,
      "rowLimit": 10000
     },
     "inputWidgets": {},
     "nuid": "1841204f-2732-4328-b495-f8c42c8dd15c",
     "showTitle": false,
     "tableResultSettingsMap": {},
     "title": ""
    }
   },
   "outputs": [
    {
     "output_type": "stream",
     "name": "stdout",
     "output_type": "stream",
     "text": [
      "+-------+----------+\n|CLNT_NO|     ME_DT|\n+-------+----------+\n| CS1112|2011-05-31|\n| CS1112|2011-06-30|\n| CS1112|2011-07-31|\n| CS1112|2011-08-31|\n| CS1112|2011-09-30|\n+-------+----------+\nonly showing top 5 rows\n\n"
     ]
    }
   ],
   "source": [
    "# Viewing the month values in the snapshot of client CS1112.\n",
    "base_table_sd.filter(base_table_sd[\"CLNT_NO\"] == \"CS1112\").orderBy(\"ME_DT\").show(5)"
   ]
  },
  {
   "cell_type": "code",
   "execution_count": 0,
   "metadata": {
    "application/vnd.databricks.v1+cell": {
     "cellMetadata": {
      "byteLimit": 2048000,
      "rowLimit": 10000
     },
     "inputWidgets": {},
     "nuid": "32f728c0-12fa-40b3-afad-623cf4493199",
     "showTitle": false,
     "tableResultSettingsMap": {},
     "title": ""
    }
   },
   "outputs": [
    {
     "output_type": "stream",
     "name": "stdout",
     "output_type": "stream",
     "text": [
      "The snapshot of CS1112 has 47 rows for each month in the dataset.\n"
     ]
    }
   ],
   "source": [
    "# Confimring that the snapshot of CS1112 has 47 rows, one for each month.\n",
    "cs1112_row_count = base_table_sd.filter(base_table_sd[\"CLNT_NO\"] == \"CS1112\").orderBy(\"ME_DT\").count()\n",
    "print(f\"The snapshot of CS1112 has {cs1112_row_count} rows for each month in the dataset.\")"
   ]
  },
  {
   "cell_type": "code",
   "execution_count": 0,
   "metadata": {
    "application/vnd.databricks.v1+cell": {
     "cellMetadata": {
      "byteLimit": 2048000,
      "rowLimit": 10000
     },
     "inputWidgets": {},
     "nuid": "7e133751-3b06-49d0-85b6-8854fc261358",
     "showTitle": false,
     "tableResultSettingsMap": {},
     "title": ""
    }
   },
   "outputs": [
    {
     "output_type": "stream",
     "name": "stdout",
     "output_type": "stream",
     "text": [
      "The Base table has 323783 rows.\n"
     ]
    }
   ],
   "source": [
    "# Step 2: Confirming the number of rows of the base table.\n",
    "print(f\"The Base table has {base_table_sd.count()} rows.\")"
   ]
  },
  {
   "cell_type": "markdown",
   "metadata": {
    "application/vnd.databricks.v1+cell": {
     "cellMetadata": {
      "byteLimit": 2048000,
      "rowLimit": 10000
     },
     "inputWidgets": {},
     "nuid": "35812619-893e-420c-8e88-618f4fd18fe4",
     "showTitle": false,
     "tableResultSettingsMap": {},
     "title": ""
    }
   },
   "source": [
    "### Q 1.5.1."
   ]
  },
  {
   "cell_type": "code",
   "execution_count": 0,
   "metadata": {
    "application/vnd.databricks.v1+cell": {
     "cellMetadata": {
      "byteLimit": 2048000,
      "rowLimit": 10000
     },
     "inputWidgets": {},
     "nuid": "ff58074d-e462-42e5-8345-ddf7fd5648ce",
     "showTitle": false,
     "tableResultSettingsMap": {},
     "title": ""
    }
   },
   "outputs": [
    {
     "output_type": "stream",
     "name": "stdout",
     "output_type": "stream",
     "text": [
      "+-------+----------+---------------+-----------+\n|CLNT_NO|     ME_DT|mth_txn_amt_sum|mth_txn_cnt|\n+-------+----------+---------------+-----------+\n| CS6001|2012-05-31|           null|       null|\n| CS6001|2013-03-31|           null|       null|\n| CS6001|2012-08-31|             65|          1|\n| CS6001|2012-01-31|           null|       null|\n| CS6001|2014-02-28|             63|          1|\n+-------+----------+---------------+-----------+\nonly showing top 5 rows\n\n"
     ]
    }
   ],
   "source": [
    "# Renaming the 'customer_id' column to 'CLNT_NO' for the merge.\n",
    "clnt_monthly_aggregations = clnt_monthly_aggregations.withColumnRenamed(\"customer_id\", \"CLNT_NO\")\n",
    "# Left-joining base_table_pd with clnt_monthly_aggregations on [CLNT_NO, ME_DT].\n",
    "base_clnt_mth = base_table_sd.join(clnt_monthly_aggregations, on=[\"CLNT_NO\", \"ME_DT\"], how=\"left\")\n",
    "base_clnt_mth.show(5)"
   ]
  },
  {
   "cell_type": "code",
   "execution_count": 0,
   "metadata": {
    "application/vnd.databricks.v1+cell": {
     "cellMetadata": {
      "byteLimit": 2048000,
      "rowLimit": 10000
     },
     "inputWidgets": {},
     "nuid": "b582fcfb-144b-4a4c-8f6a-231e5570a3f8",
     "showTitle": false,
     "tableResultSettingsMap": {},
     "title": ""
    }
   },
   "outputs": [
    {
     "output_type": "stream",
     "name": "stdout",
     "output_type": "stream",
     "text": [
      "+-------+----------+---------------+-----------+\n|CLNT_NO|     ME_DT|mth_txn_amt_sum|mth_txn_cnt|\n+-------+----------+---------------+-----------+\n| CS6001|2012-05-31|              0|          0|\n| CS6001|2013-03-31|              0|          0|\n| CS6001|2012-08-31|             65|          1|\n| CS6001|2012-01-31|              0|          0|\n| CS6001|2014-02-28|             63|          1|\n+-------+----------+---------------+-----------+\nonly showing top 5 rows\n\n"
     ]
    }
   ],
   "source": [
    "# Imputing the null values with 0.\n",
    "base_clnt_mth = base_clnt_mth.fillna(0)\n",
    "base_clnt_mth.show(5)"
   ]
  },
  {
   "cell_type": "code",
   "execution_count": 0,
   "metadata": {
    "application/vnd.databricks.v1+cell": {
     "cellMetadata": {
      "byteLimit": 2048000,
      "rowLimit": 10000
     },
     "inputWidgets": {},
     "nuid": "89b99f5a-d3ab-43f4-afd7-884e5a2328bd",
     "showTitle": false,
     "tableResultSettingsMap": {},
     "title": ""
    }
   },
   "outputs": [
    {
     "output_type": "stream",
     "name": "stdout",
     "output_type": "stream",
     "text": [
      "base_clnt_mth has 323783 rows.\n"
     ]
    }
   ],
   "source": [
    "# Confirming the number rows in base_clnt_mth.\n",
    "print(f\"base_clnt_mth has {base_clnt_mth.count()} rows.\")"
   ]
  },
  {
   "cell_type": "markdown",
   "metadata": {
    "application/vnd.databricks.v1+cell": {
     "cellMetadata": {
      "byteLimit": 2048000,
      "rowLimit": 10000
     },
     "inputWidgets": {},
     "nuid": "c69dd92b-8911-4857-98cd-f9cbf4b745a4",
     "showTitle": false,
     "tableResultSettingsMap": {},
     "title": ""
    }
   },
   "source": [
    "#### Answer:\n",
    "- Some rows have NaN values because clients have no transaction during those months. It is important to remember that the base_table_pd contains every possible combination of clients and dates while clnt_monthly_aggregations contains the actual data supplied. The NaN rows are effectively the difference.\n",
    "- The NaN just indicates 0 amount sum and 0 count because there is no transaction made on those dates with missing values, thus  0 is imputed.\n",
    "- There are exactly 323783 rows, which is the number of base_table_pd rows as expected.\n",
    "- Unlike clnt_monthly_aggregation, which is a data collection with months containing transactions (non-zero), base_clnt_mth is a more comprehensive collection of client data by capturing all the months."
   ]
  },
  {
   "cell_type": "markdown",
   "metadata": {
    "application/vnd.databricks.v1+cell": {
     "cellMetadata": {
      "byteLimit": 2048000,
      "rowLimit": 10000
     },
     "inputWidgets": {},
     "nuid": "aec50eb3-52b0-40ef-b7bf-b71859856a65",
     "showTitle": false,
     "tableResultSettingsMap": {},
     "title": ""
    }
   },
   "source": [
    "### Q 1.5.2."
   ]
  },
  {
   "cell_type": "code",
   "execution_count": 0,
   "metadata": {
    "application/vnd.databricks.v1+cell": {
     "cellMetadata": {
      "byteLimit": 2048000,
      "rowLimit": 10000
     },
     "inputWidgets": {},
     "nuid": "8eacaabc-738b-4da2-b0b6-0f3f98e80304",
     "showTitle": false,
     "tableResultSettingsMap": {},
     "title": ""
    }
   },
   "outputs": [
    {
     "output_type": "stream",
     "name": "stdout",
     "output_type": "stream",
     "text": [
      "+-------+----------+---------------+-----------+\n|CLNT_NO|     ME_DT|mth_txn_amt_sum|mth_txn_cnt|\n+-------+----------+---------------+-----------+\n| CS1112|2011-05-31|              0|          0|\n| CS1112|2011-06-30|             56|          1|\n| CS1112|2011-07-31|              0|          0|\n| CS1112|2011-08-31|             96|          1|\n| CS1112|2011-09-30|              0|          0|\n+-------+----------+---------------+-----------+\nonly showing top 5 rows\n\n"
     ]
    }
   ],
   "source": [
    "# Sorting the DataFrame by 'CLNT_NO' and 'ME_DT' in ascending order.\n",
    "base_clnt_mth = base_clnt_mth.orderBy(\"CLNT_NO\", \"ME_DT\")\n",
    "base_clnt_mth.show(5)"
   ]
  },
  {
   "cell_type": "markdown",
   "metadata": {
    "application/vnd.databricks.v1+cell": {
     "cellMetadata": {
      "byteLimit": 2048000,
      "rowLimit": 10000
     },
     "inputWidgets": {},
     "nuid": "12db6137-8693-4566-b571-cdaa601198a2",
     "showTitle": false,
     "tableResultSettingsMap": {},
     "title": ""
    }
   },
   "source": [
    "### Q 1.5.3."
   ]
  },
  {
   "cell_type": "code",
   "execution_count": 0,
   "metadata": {
    "application/vnd.databricks.v1+cell": {
     "cellMetadata": {
      "byteLimit": 2048000,
      "rowLimit": 10000
     },
     "inputWidgets": {},
     "nuid": "866ee605-4071-4857-8176-73cfacf85c45",
     "showTitle": false,
     "tableResultSettingsMap": {},
     "title": ""
    }
   },
   "outputs": [],
   "source": [
    "# Defining a function that calculates rolling window for a given window size in months.\n",
    "def calculate_rolling_features(df, clnt_col, date_col, amt_col, cnt_col, window_size):\n",
    "    # Defining the window specification.\n",
    "    window_spec = Window.partitionBy(clnt_col) \\\n",
    "                        .orderBy(date_col) \\\n",
    "                        .rowsBetween(-(window_size - 1), 0)  # Current row and (window_size - 1) preceding rows\n",
    "    # Calculating the rolling features.\n",
    "    rolling_df = df.withColumn(\n",
    "        f\"{amt_col}_sum_{window_size}M\",\n",
    "        when(count(col(amt_col)).over(window_spec) == window_size, sum(col(amt_col)).over(window_spec))) \\\n",
    "    .withColumn(\n",
    "        f\"{amt_col}_mean_{window_size}M\",\n",
    "        when(count(col(amt_col)).over(window_spec) == window_size, mean(col(amt_col)).over(window_spec))) \\\n",
    "    .withColumn(\n",
    "        f\"{amt_col}_max_{window_size}M\",\n",
    "        when(count(col(amt_col)).over(window_spec) == window_size, max(col(amt_col)).over(window_spec))) \\\n",
    "    .withColumn(\n",
    "        f\"{cnt_col}_sum_{window_size}M\",\n",
    "        when(count(col(cnt_col)).over(window_spec) == window_size, sum(col(cnt_col)).over(window_spec))) \\\n",
    "    .withColumn(\n",
    "        f\"{cnt_col}_mean_{window_size}M\",\n",
    "        when(count(col(cnt_col)).over(window_spec) == window_size, mean(col(cnt_col)).over(window_spec))) \\\n",
    "    .withColumn(\n",
    "        f\"{cnt_col}_max_{window_size}M\",\n",
    "        when(count(col(cnt_col)).over(window_spec) == window_size, max(col(cnt_col)).over(window_spec)))\n",
    "    # Dropping the original unneeded columns.\n",
    "    rolling_df = rolling_df.drop(amt_col, cnt_col).orderBy(clnt_col, date_col)\n",
    "    return rolling_df"
   ]
  },
  {
   "cell_type": "code",
   "execution_count": 0,
   "metadata": {
    "application/vnd.databricks.v1+cell": {
     "cellMetadata": {
      "byteLimit": 2048000,
      "rowLimit": 10000
     },
     "inputWidgets": {},
     "nuid": "d382eb03-2025-4680-844e-4648c3671d67",
     "showTitle": false,
     "tableResultSettingsMap": {},
     "title": ""
    }
   },
   "outputs": [
    {
     "output_type": "stream",
     "name": "stdout",
     "output_type": "stream",
     "text": [
      "+-------+----------+----------------------+-----------------------+----------------------+------------------+-------------------+------------------+\n|CLNT_NO|     ME_DT|mth_txn_amt_sum_sum_3M|mth_txn_amt_sum_mean_3M|mth_txn_amt_sum_max_3M|mth_txn_cnt_sum_3M|mth_txn_cnt_mean_3M|mth_txn_cnt_max_3M|\n+-------+----------+----------------------+-----------------------+----------------------+------------------+-------------------+------------------+\n| CS1112|2011-05-31|                  null|                   null|                  null|              null|               null|              null|\n| CS1112|2011-06-30|                  null|                   null|                  null|              null|               null|              null|\n| CS1112|2011-07-31|                    56|     18.666666666666668|                    56|                 1| 0.3333333333333333|                 1|\n| CS1112|2011-08-31|                   152|     50.666666666666664|                    96|                 2| 0.6666666666666666|                 1|\n| CS1112|2011-09-30|                    96|                   32.0|                    96|                 1| 0.3333333333333333|                 1|\n+-------+----------+----------------------+-----------------------+----------------------+------------------+-------------------+------------------+\nonly showing top 5 rows\n\n"
     ]
    }
   ],
   "source": [
    "# Calculating the 3-month rolling window features.\n",
    "rolling_features_3M = calculate_rolling_features(base_clnt_mth,\n",
    "                                                 clnt_col=\"CLNT_NO\",\n",
    "                                                 date_col=\"ME_DT\",\n",
    "                                                 amt_col=\"mth_txn_amt_sum\",\n",
    "                                                 cnt_col=\"mth_txn_cnt\",\n",
    "                                                 window_size=3)\n",
    "rolling_features_3M.show(5)"
   ]
  },
  {
   "cell_type": "code",
   "execution_count": 0,
   "metadata": {
    "application/vnd.databricks.v1+cell": {
     "cellMetadata": {
      "byteLimit": 2048000,
      "rowLimit": 10000
     },
     "inputWidgets": {},
     "nuid": "30acfd6a-55e0-407c-97bc-91e07a5a0de2",
     "showTitle": false,
     "tableResultSettingsMap": {},
     "title": ""
    }
   },
   "outputs": [
    {
     "output_type": "stream",
     "name": "stdout",
     "output_type": "stream",
     "text": [
      "+-------+----------+----------------------+-----------------------+----------------------+------------------+-------------------+------------------+\n|CLNT_NO|     ME_DT|mth_txn_amt_sum_sum_6M|mth_txn_amt_sum_mean_6M|mth_txn_amt_sum_max_6M|mth_txn_cnt_sum_6M|mth_txn_cnt_mean_6M|mth_txn_cnt_max_6M|\n+-------+----------+----------------------+-----------------------+----------------------+------------------+-------------------+------------------+\n| CS1112|2011-05-31|                  null|                   null|                  null|              null|               null|              null|\n| CS1112|2011-06-30|                  null|                   null|                  null|              null|               null|              null|\n| CS1112|2011-07-31|                  null|                   null|                  null|              null|               null|              null|\n| CS1112|2011-08-31|                  null|                   null|                  null|              null|               null|              null|\n| CS1112|2011-09-30|                  null|                   null|                  null|              null|               null|              null|\n| CS1112|2011-10-31|                   212|     35.333333333333336|                    96|                 3|                0.5|                 1|\n| CS1112|2011-11-30|                   212|     35.333333333333336|                    96|                 3|                0.5|                 1|\n| CS1112|2011-12-31|                   156|                   26.0|                    96|                 2| 0.3333333333333333|                 1|\n| CS1112|2012-01-31|                   156|                   26.0|                    96|                 2| 0.3333333333333333|                 1|\n| CS1112|2012-02-29|                    60|                   10.0|                    60|                 1|0.16666666666666666|                 1|\n+-------+----------+----------------------+-----------------------+----------------------+------------------+-------------------+------------------+\nonly showing top 10 rows\n\n"
     ]
    }
   ],
   "source": [
    "# Calculating the 6-month rolling window features.\n",
    "rolling_features_6M = calculate_rolling_features(base_clnt_mth,\n",
    "                                                 clnt_col=\"CLNT_NO\",\n",
    "                                                 date_col=\"ME_DT\",\n",
    "                                                 amt_col=\"mth_txn_amt_sum\",\n",
    "                                                 cnt_col=\"mth_txn_cnt\",\n",
    "                                                 window_size=6)\n",
    "rolling_features_6M.show(10)"
   ]
  },
  {
   "cell_type": "code",
   "execution_count": 0,
   "metadata": {
    "application/vnd.databricks.v1+cell": {
     "cellMetadata": {
      "byteLimit": 2048000,
      "rowLimit": 10000
     },
     "inputWidgets": {},
     "nuid": "7e284659-aeb8-475c-b7f6-59995867bb70",
     "showTitle": false,
     "tableResultSettingsMap": {},
     "title": ""
    }
   },
   "outputs": [
    {
     "output_type": "stream",
     "name": "stdout",
     "output_type": "stream",
     "text": [
      "+-------+----------+-----------------------+------------------------+-----------------------+-------------------+--------------------+-------------------+\n|CLNT_NO|     ME_DT|mth_txn_amt_sum_sum_12M|mth_txn_amt_sum_mean_12M|mth_txn_amt_sum_max_12M|mth_txn_cnt_sum_12M|mth_txn_cnt_mean_12M|mth_txn_cnt_max_12M|\n+-------+----------+-----------------------+------------------------+-----------------------+-------------------+--------------------+-------------------+\n| CS1112|2011-05-31|                   null|                    null|                   null|               null|                null|               null|\n| CS1112|2011-06-30|                   null|                    null|                   null|               null|                null|               null|\n| CS1112|2011-07-31|                   null|                    null|                   null|               null|                null|               null|\n| CS1112|2011-08-31|                   null|                    null|                   null|               null|                null|               null|\n| CS1112|2011-09-30|                   null|                    null|                   null|               null|                null|               null|\n| CS1112|2011-10-31|                   null|                    null|                   null|               null|                null|               null|\n| CS1112|2011-11-30|                   null|                    null|                   null|               null|                null|               null|\n| CS1112|2011-12-31|                   null|                    null|                   null|               null|                null|               null|\n| CS1112|2012-01-31|                   null|                    null|                   null|               null|                null|               null|\n| CS1112|2012-02-29|                   null|                    null|                   null|               null|                null|               null|\n| CS1112|2012-03-31|                   null|                    null|                   null|               null|                null|               null|\n| CS1112|2012-04-30|                    268|      22.333333333333332|                     96|                  4|  0.3333333333333333|                  1|\n| CS1112|2012-05-31|                    268|      22.333333333333332|                     96|                  4|  0.3333333333333333|                  1|\n| CS1112|2012-06-30|                    264|                    22.0|                     96|                  4|  0.3333333333333333|                  1|\n| CS1112|2012-07-31|                    345|                   28.75|                     96|                  5|  0.4166666666666667|                  1|\n+-------+----------+-----------------------+------------------------+-----------------------+-------------------+--------------------+-------------------+\nonly showing top 15 rows\n\n"
     ]
    }
   ],
   "source": [
    "# Calculating the 12-month rolling window features.\n",
    "rolling_features_12M = calculate_rolling_features(base_clnt_mth,\n",
    "                                                 clnt_col=\"CLNT_NO\",\n",
    "                                                 date_col=\"ME_DT\",\n",
    "                                                 amt_col=\"mth_txn_amt_sum\",\n",
    "                                                 cnt_col=\"mth_txn_cnt\",\n",
    "                                                 window_size=12)\n",
    "rolling_features_12M.show(15)"
   ]
  },
  {
   "cell_type": "markdown",
   "metadata": {
    "application/vnd.databricks.v1+cell": {
     "cellMetadata": {
      "byteLimit": 2048000,
      "rowLimit": 10000
     },
     "inputWidgets": {},
     "nuid": "9dc29eea-2b07-41ce-9bff-d1de51520d06",
     "showTitle": false,
     "tableResultSettingsMap": {},
     "title": ""
    }
   },
   "source": [
    "#### Answer:\n",
    "- There are 2, 5 and 11 (following an n-1 series) rows that appear with NaN values at the beginning of the 3, 6, and 12-month windows, respectively. These numbers can also be observed in the snapshots of the tables shown above. These NaN values appear because, depending on its size, the window will not fit in at the beginning because the calculation is to obtain statistics from the previous n months. \n",
    "- The index has 1 level and the column has 1 level therefore these dataframes are single-indexed. In PySpark, DataFrames don't have the concept of \"index levels\" or \"column levels\" in the same way Pandas does. PySpark DataFrames are more like relational tables, where columns are flat and there is no hierarchical index."
   ]
  },
  {
   "cell_type": "code",
   "execution_count": 0,
   "metadata": {
    "application/vnd.databricks.v1+cell": {
     "cellMetadata": {
      "byteLimit": 2048000,
      "rowLimit": 10000
     },
     "inputWidgets": {},
     "nuid": "96df2d7e-3a7e-4870-8e8b-d78abddef177",
     "showTitle": false,
     "tableResultSettingsMap": {},
     "title": ""
    }
   },
   "outputs": [],
   "source": [
    "# Renaming the columns for rolling_features_3M.\n",
    "rolling_features_3M = rolling_features_3M.withColumnRenamed(\"mth_txn_amt_sum_sum_3M\", \"amt_sum_3M\") \\\n",
    "                                       .withColumnRenamed(\"mth_txn_amt_sum_mean_3M\", \"amt_mean_3M\") \\\n",
    "                                       .withColumnRenamed(\"mth_txn_amt_sum_max_3M\", \"amt_max_3M\") \\\n",
    "                                       .withColumnRenamed(\"mth_txn_cnt_sum_3M\", \"txn_cnt_sum_3M\") \\\n",
    "                                       .withColumnRenamed(\"mth_txn_cnt_mean_3M\", \"txn_cnt_mean_3M\") \\\n",
    "                                       .withColumnRenamed(\"mth_txn_cnt_max_3M\", \"txn_cnt_max_3M\")\n",
    "# Renaming the columns for rolling_features_6M.\n",
    "rolling_features_6M = rolling_features_6M.withColumnRenamed(\"mth_txn_amt_sum_sum_6M\", \"amt_sum_6M\") \\\n",
    "                                       .withColumnRenamed(\"mth_txn_amt_sum_mean_6M\", \"amt_mean_6M\") \\\n",
    "                                       .withColumnRenamed(\"mth_txn_amt_sum_max_6M\", \"amt_max_6M\") \\\n",
    "                                       .withColumnRenamed(\"mth_txn_cnt_sum_6M\", \"txn_cnt_sum_6M\") \\\n",
    "                                       .withColumnRenamed(\"mth_txn_cnt_mean_6M\", \"txn_cnt_mean_6M\") \\\n",
    "                                       .withColumnRenamed(\"mth_txn_cnt_max_6M\", \"txn_cnt_max_6M\")\n",
    "# Renaming the columns for rolling_features_12M.\n",
    "rolling_features_12M = rolling_features_12M.withColumnRenamed(\"mth_txn_amt_sum_sum_12M\", \"amt_sum_12M\") \\\n",
    "                                         .withColumnRenamed(\"mth_txn_amt_sum_mean_12M\", \"amt_mean_12M\") \\\n",
    "                                         .withColumnRenamed(\"mth_txn_amt_sum_max_12M\", \"amt_max_12M\") \\\n",
    "                                         .withColumnRenamed(\"mth_txn_cnt_sum_12M\", \"txn_cnt_sum_12M\") \\\n",
    "                                         .withColumnRenamed(\"mth_txn_cnt_mean_12M\", \"txn_cnt_mean_12M\") \\\n",
    "                                         .withColumnRenamed(\"mth_txn_cnt_max_12M\", \"txn_cnt_max_12M\")"
   ]
  },
  {
   "cell_type": "code",
   "execution_count": 0,
   "metadata": {
    "application/vnd.databricks.v1+cell": {
     "cellMetadata": {
      "byteLimit": 2048000,
      "rowLimit": 10000
     },
     "inputWidgets": {},
     "nuid": "1d49bb74-03c9-45a4-9d67-db4242e2122e",
     "showTitle": false,
     "tableResultSettingsMap": {},
     "title": ""
    }
   },
   "outputs": [
    {
     "output_type": "stream",
     "name": "stdout",
     "output_type": "stream",
     "text": [
      "rolling_features_3M columns:\n['CLNT_NO', 'ME_DT', 'amt_sum_3M', 'amt_mean_3M', 'amt_max_3M', 'txn_cnt_sum_3M', 'txn_cnt_mean_3M', 'txn_cnt_max_3M']\nrolling_features_6M columns:\n['CLNT_NO', 'ME_DT', 'amt_sum_6M', 'amt_mean_6M', 'amt_max_6M', 'txn_cnt_sum_6M', 'txn_cnt_mean_6M', 'txn_cnt_max_6M']\nrolling_features_12M columns:\n['CLNT_NO', 'ME_DT', 'amt_sum_12M', 'amt_mean_12M', 'amt_max_12M', 'txn_cnt_sum_12M', 'txn_cnt_mean_12M', 'txn_cnt_max_12M']\n"
     ]
    }
   ],
   "source": [
    "# Confirming the new column names.\n",
    "print(f\"rolling_features_3M columns:\\n{rolling_features_3M.columns}\")\n",
    "print(f\"rolling_features_6M columns:\\n{rolling_features_6M.columns}\")\n",
    "print(f\"rolling_features_12M columns:\\n{rolling_features_12M.columns}\")"
   ]
  },
  {
   "cell_type": "markdown",
   "metadata": {
    "application/vnd.databricks.v1+cell": {
     "cellMetadata": {
      "byteLimit": 2048000,
      "rowLimit": 10000
     },
     "inputWidgets": {},
     "nuid": "85e673f4-463e-492e-be45-e244f74d0ff6",
     "showTitle": false,
     "tableResultSettingsMap": {},
     "title": ""
    }
   },
   "source": [
    "### Q 1.5.4."
   ]
  },
  {
   "cell_type": "code",
   "execution_count": 0,
   "metadata": {
    "application/vnd.databricks.v1+cell": {
     "cellMetadata": {
      "byteLimit": 2048000,
      "rowLimit": 10000
     },
     "inputWidgets": {},
     "nuid": "59441cb3-0d0d-4ce1-83a6-d0c74b687afd",
     "showTitle": false,
     "tableResultSettingsMap": {},
     "title": ""
    }
   },
   "outputs": [
    {
     "output_type": "stream",
     "name": "stdout",
     "output_type": "stream",
     "text": [
      "+-------+----------+---------------+-----------+----------+------------------+----------+--------------+------------------+--------------+----------+-----------+----------+--------------+---------------+--------------+-----------+------------+-----------+---------------+----------------+---------------+\n|CLNT_NO|     ME_DT|mth_txn_amt_sum|mth_txn_cnt|amt_sum_3M|       amt_mean_3M|amt_max_3M|txn_cnt_sum_3M|   txn_cnt_mean_3M|txn_cnt_max_3M|amt_sum_6M|amt_mean_6M|amt_max_6M|txn_cnt_sum_6M|txn_cnt_mean_6M|txn_cnt_max_6M|amt_sum_12M|amt_mean_12M|amt_max_12M|txn_cnt_sum_12M|txn_cnt_mean_12M|txn_cnt_max_12M|\n+-------+----------+---------------+-----------+----------+------------------+----------+--------------+------------------+--------------+----------+-----------+----------+--------------+---------------+--------------+-----------+------------+-----------+---------------+----------------+---------------+\n| CS1112|2011-05-31|              0|          0|      null|              null|      null|          null|              null|          null|      null|       null|      null|          null|           null|          null|       null|        null|       null|           null|            null|           null|\n| CS1112|2011-06-30|             56|          1|      null|              null|      null|          null|              null|          null|      null|       null|      null|          null|           null|          null|       null|        null|       null|           null|            null|           null|\n| CS1112|2011-07-31|              0|          0|        56|18.666666666666668|        56|             1|0.3333333333333333|             1|      null|       null|      null|          null|           null|          null|       null|        null|       null|           null|            null|           null|\n| CS1112|2011-08-31|             96|          1|       152|50.666666666666664|        96|             2|0.6666666666666666|             1|      null|       null|      null|          null|           null|          null|       null|        null|       null|           null|            null|           null|\n| CS1112|2011-09-30|              0|          0|        96|              32.0|        96|             1|0.3333333333333333|             1|      null|       null|      null|          null|           null|          null|       null|        null|       null|           null|            null|           null|\n+-------+----------+---------------+-----------+----------+------------------+----------+--------------+------------------+--------------+----------+-----------+----------+--------------+---------------+--------------+-----------+------------+-----------+---------------+----------------+---------------+\nonly showing top 5 rows\n\n"
     ]
    }
   ],
   "source": [
    "# Joining all rolling features with base_clnt_mth on CLNT_NO and ME_DT then ordering by those columns.\n",
    "all_rolling_features = base_clnt_mth.join(rolling_features_3M, on=[\"CLNT_NO\", \"ME_DT\"], how=\"left\") \\\n",
    "                                   .join(rolling_features_6M, on=[\"CLNT_NO\", \"ME_DT\"], how=\"left\") \\\n",
    "                                   .join(rolling_features_12M, on=[\"CLNT_NO\", \"ME_DT\"], how=\"left\") \\\n",
    "                                   .orderBy(\"CLNT_NO\", \"ME_DT\")\n",
    "all_rolling_features.show(5)"
   ]
  },
  {
   "cell_type": "markdown",
   "metadata": {
    "application/vnd.databricks.v1+cell": {
     "cellMetadata": {
      "byteLimit": 2048000,
      "rowLimit": 10000
     },
     "inputWidgets": {},
     "nuid": "d0e560bc-868e-4801-b30d-98685273e9ab",
     "showTitle": false,
     "tableResultSettingsMap": {},
     "title": ""
    }
   },
   "source": [
    "#### Comment (Understanding of join method):\n",
    "- In Pandas, the index (including CLNT_NO and ME_DT) is used to align rows during concatenation. However, in PySpark, the columns CLNT_NO and ME_DT are explicitly used as join keys to align rows as executed in this notebook because PySpark has no explicit index (rows are identified by data)."
   ]
  },
  {
   "cell_type": "markdown",
   "metadata": {
    "application/vnd.databricks.v1+cell": {
     "cellMetadata": {
      "byteLimit": 2048000,
      "rowLimit": 10000
     },
     "inputWidgets": {},
     "nuid": "81a5d6a5-b386-49de-abd5-bc13c8e524fb",
     "showTitle": false,
     "tableResultSettingsMap": {},
     "title": ""
    }
   },
   "source": [
    "### Q 1.5.5."
   ]
  },
  {
   "cell_type": "code",
   "execution_count": 0,
   "metadata": {
    "application/vnd.databricks.v1+cell": {
     "cellMetadata": {
      "byteLimit": 2048000,
      "rowLimit": 10000
     },
     "inputWidgets": {},
     "nuid": "611e71f8-632b-463f-be0e-c0fb40c29773",
     "showTitle": false,
     "tableResultSettingsMap": {},
     "title": ""
    }
   },
   "outputs": [
    {
     "output_type": "stream",
     "name": "stdout",
     "output_type": "stream",
     "text": [
      "all_rolling_features has 323783 rows and 22 columns.\n"
     ]
    }
   ],
   "source": [
    "# Confirming the number of rows and columns in all_rolling_features.\n",
    "print(f\"all_rolling_features has {all_rolling_features.count()} rows and {len(all_rolling_features.columns)} columns.\")"
   ]
  },
  {
   "cell_type": "code",
   "execution_count": 0,
   "metadata": {
    "application/vnd.databricks.v1+cell": {
     "cellMetadata": {
      "byteLimit": 2048000,
      "rowLimit": 10000
     },
     "inputWidgets": {},
     "nuid": "0c4cde57-f900-476c-b413-e85129d4e63a",
     "showTitle": false,
     "tableResultSettingsMap": {},
     "title": ""
    }
   },
   "outputs": [
    {
     "output_type": "stream",
     "name": "stdout",
     "output_type": "stream",
     "text": [
      "Excel file saved to DBFS: dbfs:/FileStore/mth_rolling_features.xlsx\n"
     ]
    }
   ],
   "source": [
    "# Converting the PySpark DataFrame to a Pandas DataFrame.\n",
    "all_rolling_features_pd = all_rolling_features.toPandas()\n",
    "# Saving the Pandas DataFrame as an Excel file locally.\n",
    "local_excel_path = \"/tmp/mth_rolling_features.xlsx\"  # Temporary local path\n",
    "all_rolling_features_pd.to_excel(local_excel_path, index=False)\n",
    "# Moving the Excel file to DBFS for easy access via the GUI.\n",
    "dbfs_excel_path = \"dbfs:/FileStore/mth_rolling_features.xlsx\"  # DBFS path\n",
    "dbutils.fs.mv(f\"file:{local_excel_path}\", dbfs_excel_path)\n",
    "\n",
    "print(f\"Excel file saved to DBFS: {dbfs_excel_path}\")"
   ]
  },
  {
   "cell_type": "code",
   "execution_count": 0,
   "metadata": {
    "application/vnd.databricks.v1+cell": {
     "cellMetadata": {
      "byteLimit": 2048000,
      "rowLimit": 10000
     },
     "inputWidgets": {},
     "nuid": "63498d2b-4d5c-40e2-8baf-4e5421b3ae7b",
     "showTitle": false,
     "tableResultSettingsMap": {},
     "title": ""
    }
   },
   "outputs": [
    {
     "output_type": "display_data",
     "data": {
      "text/html": [
       "<div>\n",
       "<style scoped>\n",
       "    .dataframe tbody tr th:only-of-type {\n",
       "        vertical-align: middle;\n",
       "    }\n",
       "\n",
       "    .dataframe tbody tr th {\n",
       "        vertical-align: top;\n",
       "    }\n",
       "\n",
       "    .dataframe thead th {\n",
       "        text-align: right;\n",
       "    }\n",
       "</style>\n",
       "<table border=\"1\" class=\"dataframe\">\n",
       "  <thead>\n",
       "    <tr style=\"text-align: right;\">\n",
       "      <th></th>\n",
       "      <th>CLNT_NO</th>\n",
       "      <th>ME_DT</th>\n",
       "      <th>mth_txn_amt_sum</th>\n",
       "      <th>mth_txn_cnt</th>\n",
       "      <th>amt_sum_3M</th>\n",
       "      <th>amt_mean_3M</th>\n",
       "      <th>amt_max_3M</th>\n",
       "      <th>txn_cnt_sum_3M</th>\n",
       "      <th>txn_cnt_mean_3M</th>\n",
       "      <th>txn_cnt_max_3M</th>\n",
       "      <th>...</th>\n",
       "      <th>amt_max_6M</th>\n",
       "      <th>txn_cnt_sum_6M</th>\n",
       "      <th>txn_cnt_mean_6M</th>\n",
       "      <th>txn_cnt_max_6M</th>\n",
       "      <th>amt_sum_12M</th>\n",
       "      <th>amt_mean_12M</th>\n",
       "      <th>amt_max_12M</th>\n",
       "      <th>txn_cnt_sum_12M</th>\n",
       "      <th>txn_cnt_mean_12M</th>\n",
       "      <th>txn_cnt_max_12M</th>\n",
       "    </tr>\n",
       "  </thead>\n",
       "  <tbody>\n",
       "    <tr>\n",
       "      <th>0</th>\n",
       "      <td>CS1112</td>\n",
       "      <td>2011-05-31</td>\n",
       "      <td>0</td>\n",
       "      <td>0</td>\n",
       "      <td>NaN</td>\n",
       "      <td>NaN</td>\n",
       "      <td>NaN</td>\n",
       "      <td>NaN</td>\n",
       "      <td>NaN</td>\n",
       "      <td>NaN</td>\n",
       "      <td>...</td>\n",
       "      <td>NaN</td>\n",
       "      <td>NaN</td>\n",
       "      <td>NaN</td>\n",
       "      <td>NaN</td>\n",
       "      <td>NaN</td>\n",
       "      <td>NaN</td>\n",
       "      <td>NaN</td>\n",
       "      <td>NaN</td>\n",
       "      <td>NaN</td>\n",
       "      <td>NaN</td>\n",
       "    </tr>\n",
       "    <tr>\n",
       "      <th>1</th>\n",
       "      <td>CS1112</td>\n",
       "      <td>2011-06-30</td>\n",
       "      <td>56</td>\n",
       "      <td>1</td>\n",
       "      <td>NaN</td>\n",
       "      <td>NaN</td>\n",
       "      <td>NaN</td>\n",
       "      <td>NaN</td>\n",
       "      <td>NaN</td>\n",
       "      <td>NaN</td>\n",
       "      <td>...</td>\n",
       "      <td>NaN</td>\n",
       "      <td>NaN</td>\n",
       "      <td>NaN</td>\n",
       "      <td>NaN</td>\n",
       "      <td>NaN</td>\n",
       "      <td>NaN</td>\n",
       "      <td>NaN</td>\n",
       "      <td>NaN</td>\n",
       "      <td>NaN</td>\n",
       "      <td>NaN</td>\n",
       "    </tr>\n",
       "    <tr>\n",
       "      <th>2</th>\n",
       "      <td>CS1112</td>\n",
       "      <td>2011-07-31</td>\n",
       "      <td>0</td>\n",
       "      <td>0</td>\n",
       "      <td>56.0</td>\n",
       "      <td>18.666667</td>\n",
       "      <td>56.0</td>\n",
       "      <td>1.0</td>\n",
       "      <td>0.333333</td>\n",
       "      <td>1.0</td>\n",
       "      <td>...</td>\n",
       "      <td>NaN</td>\n",
       "      <td>NaN</td>\n",
       "      <td>NaN</td>\n",
       "      <td>NaN</td>\n",
       "      <td>NaN</td>\n",
       "      <td>NaN</td>\n",
       "      <td>NaN</td>\n",
       "      <td>NaN</td>\n",
       "      <td>NaN</td>\n",
       "      <td>NaN</td>\n",
       "    </tr>\n",
       "    <tr>\n",
       "      <th>3</th>\n",
       "      <td>CS1112</td>\n",
       "      <td>2011-08-31</td>\n",
       "      <td>96</td>\n",
       "      <td>1</td>\n",
       "      <td>152.0</td>\n",
       "      <td>50.666667</td>\n",
       "      <td>96.0</td>\n",
       "      <td>2.0</td>\n",
       "      <td>0.666667</td>\n",
       "      <td>1.0</td>\n",
       "      <td>...</td>\n",
       "      <td>NaN</td>\n",
       "      <td>NaN</td>\n",
       "      <td>NaN</td>\n",
       "      <td>NaN</td>\n",
       "      <td>NaN</td>\n",
       "      <td>NaN</td>\n",
       "      <td>NaN</td>\n",
       "      <td>NaN</td>\n",
       "      <td>NaN</td>\n",
       "      <td>NaN</td>\n",
       "    </tr>\n",
       "    <tr>\n",
       "      <th>4</th>\n",
       "      <td>CS1112</td>\n",
       "      <td>2011-09-30</td>\n",
       "      <td>0</td>\n",
       "      <td>0</td>\n",
       "      <td>96.0</td>\n",
       "      <td>32.000000</td>\n",
       "      <td>96.0</td>\n",
       "      <td>1.0</td>\n",
       "      <td>0.333333</td>\n",
       "      <td>1.0</td>\n",
       "      <td>...</td>\n",
       "      <td>NaN</td>\n",
       "      <td>NaN</td>\n",
       "      <td>NaN</td>\n",
       "      <td>NaN</td>\n",
       "      <td>NaN</td>\n",
       "      <td>NaN</td>\n",
       "      <td>NaN</td>\n",
       "      <td>NaN</td>\n",
       "      <td>NaN</td>\n",
       "      <td>NaN</td>\n",
       "    </tr>\n",
       "  </tbody>\n",
       "</table>\n",
       "<p>5 rows × 22 columns</p>\n",
       "</div>"
      ]
     },
     "metadata": {
      "application/vnd.databricks.v1+output": {
       "addedWidgets": {},
       "arguments": {},
       "data": "<div>\n<style scoped>\n    .dataframe tbody tr th:only-of-type {\n        vertical-align: middle;\n    }\n\n    .dataframe tbody tr th {\n        vertical-align: top;\n    }\n\n    .dataframe thead th {\n        text-align: right;\n    }\n</style>\n<table border=\"1\" class=\"dataframe\">\n  <thead>\n    <tr style=\"text-align: right;\">\n      <th></th>\n      <th>CLNT_NO</th>\n      <th>ME_DT</th>\n      <th>mth_txn_amt_sum</th>\n      <th>mth_txn_cnt</th>\n      <th>amt_sum_3M</th>\n      <th>amt_mean_3M</th>\n      <th>amt_max_3M</th>\n      <th>txn_cnt_sum_3M</th>\n      <th>txn_cnt_mean_3M</th>\n      <th>txn_cnt_max_3M</th>\n      <th>...</th>\n      <th>amt_max_6M</th>\n      <th>txn_cnt_sum_6M</th>\n      <th>txn_cnt_mean_6M</th>\n      <th>txn_cnt_max_6M</th>\n      <th>amt_sum_12M</th>\n      <th>amt_mean_12M</th>\n      <th>amt_max_12M</th>\n      <th>txn_cnt_sum_12M</th>\n      <th>txn_cnt_mean_12M</th>\n      <th>txn_cnt_max_12M</th>\n    </tr>\n  </thead>\n  <tbody>\n    <tr>\n      <th>0</th>\n      <td>CS1112</td>\n      <td>2011-05-31</td>\n      <td>0</td>\n      <td>0</td>\n      <td>NaN</td>\n      <td>NaN</td>\n      <td>NaN</td>\n      <td>NaN</td>\n      <td>NaN</td>\n      <td>NaN</td>\n      <td>...</td>\n      <td>NaN</td>\n      <td>NaN</td>\n      <td>NaN</td>\n      <td>NaN</td>\n      <td>NaN</td>\n      <td>NaN</td>\n      <td>NaN</td>\n      <td>NaN</td>\n      <td>NaN</td>\n      <td>NaN</td>\n    </tr>\n    <tr>\n      <th>1</th>\n      <td>CS1112</td>\n      <td>2011-06-30</td>\n      <td>56</td>\n      <td>1</td>\n      <td>NaN</td>\n      <td>NaN</td>\n      <td>NaN</td>\n      <td>NaN</td>\n      <td>NaN</td>\n      <td>NaN</td>\n      <td>...</td>\n      <td>NaN</td>\n      <td>NaN</td>\n      <td>NaN</td>\n      <td>NaN</td>\n      <td>NaN</td>\n      <td>NaN</td>\n      <td>NaN</td>\n      <td>NaN</td>\n      <td>NaN</td>\n      <td>NaN</td>\n    </tr>\n    <tr>\n      <th>2</th>\n      <td>CS1112</td>\n      <td>2011-07-31</td>\n      <td>0</td>\n      <td>0</td>\n      <td>56.0</td>\n      <td>18.666667</td>\n      <td>56.0</td>\n      <td>1.0</td>\n      <td>0.333333</td>\n      <td>1.0</td>\n      <td>...</td>\n      <td>NaN</td>\n      <td>NaN</td>\n      <td>NaN</td>\n      <td>NaN</td>\n      <td>NaN</td>\n      <td>NaN</td>\n      <td>NaN</td>\n      <td>NaN</td>\n      <td>NaN</td>\n      <td>NaN</td>\n    </tr>\n    <tr>\n      <th>3</th>\n      <td>CS1112</td>\n      <td>2011-08-31</td>\n      <td>96</td>\n      <td>1</td>\n      <td>152.0</td>\n      <td>50.666667</td>\n      <td>96.0</td>\n      <td>2.0</td>\n      <td>0.666667</td>\n      <td>1.0</td>\n      <td>...</td>\n      <td>NaN</td>\n      <td>NaN</td>\n      <td>NaN</td>\n      <td>NaN</td>\n      <td>NaN</td>\n      <td>NaN</td>\n      <td>NaN</td>\n      <td>NaN</td>\n      <td>NaN</td>\n      <td>NaN</td>\n    </tr>\n    <tr>\n      <th>4</th>\n      <td>CS1112</td>\n      <td>2011-09-30</td>\n      <td>0</td>\n      <td>0</td>\n      <td>96.0</td>\n      <td>32.000000</td>\n      <td>96.0</td>\n      <td>1.0</td>\n      <td>0.333333</td>\n      <td>1.0</td>\n      <td>...</td>\n      <td>NaN</td>\n      <td>NaN</td>\n      <td>NaN</td>\n      <td>NaN</td>\n      <td>NaN</td>\n      <td>NaN</td>\n      <td>NaN</td>\n      <td>NaN</td>\n      <td>NaN</td>\n      <td>NaN</td>\n    </tr>\n  </tbody>\n</table>\n<p>5 rows × 22 columns</p>\n</div>",
       "datasetInfos": [],
       "metadata": {},
       "removedWidgets": [],
       "textData": null,
       "type": "htmlSandbox"
      }
     },
     "output_type": "display_data"
    }
   ],
   "source": [
    "# Observing a snapshot of the saved DataFrame.\n",
    "all_rolling_features_pd.head()"
   ]
  },
  {
   "cell_type": "markdown",
   "metadata": {
    "application/vnd.databricks.v1+cell": {
     "cellMetadata": {
      "byteLimit": 2048000,
      "rowLimit": 10000
     },
     "inputWidgets": {},
     "nuid": "21ba39bc-08d4-4317-939c-1929220a3c46",
     "showTitle": false,
     "tableResultSettingsMap": {},
     "title": ""
    }
   },
   "source": [
    "#### Q 1.6.1."
   ]
  },
  {
   "cell_type": "code",
   "execution_count": 0,
   "metadata": {
    "application/vnd.databricks.v1+cell": {
     "cellMetadata": {
      "byteLimit": 2048000,
      "rowLimit": 10000
     },
     "inputWidgets": {},
     "nuid": "f1134939-5f88-46f6-9930-d84f039294d0",
     "showTitle": false,
     "tableResultSettingsMap": {},
     "title": ""
    }
   },
   "outputs": [
    {
     "output_type": "stream",
     "name": "stdout",
     "output_type": "stream",
     "text": [
      "+-----------+-----------+----------+----------+----+---------------+---------+\n|customer_id|tran_amount|  txn_date|     ME_DT|YEAR|day_of_the_week| day_name|\n+-----------+-----------+----------+----------+----+---------------+---------+\n|     CS5295|         35|2013-02-11|2013-02-28|2013|              0|   Monday|\n|     CS4768|         39|2015-03-15|2015-03-31|2015|              6|   Sunday|\n|     CS2122|         52|2013-02-26|2013-02-28|2013|              1|  Tuesday|\n|     CS1217|         99|2011-11-16|2011-11-30|2011|              2|Wednesday|\n+-----------+-----------+----------+----------+----+---------------+---------+\nonly showing top 4 rows\n\n"
     ]
    }
   ],
   "source": [
    "# Extracting the day of the week (Monday=0, Sunday=6) and day name.\n",
    "txn = txn.withColumn(\"day_of_the_week\", (dayofweek(\"txn_date\") + 5) % 7) \\\n",
    "         .withColumn(\"day_name\", date_format(\"txn_date\", \"EEEE\"))\n",
    "txn.show(4)"
   ]
  },
  {
   "cell_type": "markdown",
   "metadata": {
    "application/vnd.databricks.v1+cell": {
     "cellMetadata": {
      "byteLimit": 2048000,
      "rowLimit": 10000
     },
     "inputWidgets": {},
     "nuid": "3ebf454a-5e8f-4695-b459-3cf183fbc92f",
     "showTitle": false,
     "tableResultSettingsMap": {},
     "title": ""
    }
   },
   "source": [
    "### Q 1.6.2."
   ]
  },
  {
   "cell_type": "code",
   "execution_count": 0,
   "metadata": {
    "application/vnd.databricks.v1+cell": {
     "cellMetadata": {
      "byteLimit": 2048000,
      "rowLimit": 10000
     },
     "inputWidgets": {},
     "nuid": "25d9c7d0-5cf4-4d7e-a268-5f72f09c4756",
     "showTitle": false,
     "tableResultSettingsMap": {},
     "title": ""
    }
   },
   "outputs": [
    {
     "output_type": "display_data",
     "data": {
      "image/png": "[encoded data removed]"
     },
     "metadata": {
      "application/vnd.databricks.v1+output": {
       "addedWidgets": {},
       "arguments": {},
       "data": "data:image/png;base64,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\n",
       "datasetInfos": [],
       "metadata": {},
       "removedWidgets": [],
       "type": "image"
      }
     },
     "output_type": "display_data"
    }
   ],
   "source": [
    "# Aggregating the data to get the count of transactions per day of the week.\n",
    "txn_count_per_day = txn.groupBy(\"day_of_the_week\").count().orderBy(\"day_of_the_week\")\n",
    "\n",
    "# Converting the result to a Pandas DataFrame for visualizing.\n",
    "txn_count_per_day_pd = txn_count_per_day.toPandas()\n",
    "\n",
    "# Visualizing the bar plot that shows the count of transactions per day of the week.\n",
    "plt.figure(figsize=(8, 6))\n",
    "plt.bar(txn_count_per_day_pd[\"day_of_the_week\"], txn_count_per_day_pd[\"count\"])\n",
    "plt.title(\"Transaction Count per Day of the Week\", fontsize=16)\n",
    "plt.xlabel(\"Day of the Week\", fontsize=14)\n",
    "plt.ylabel(\"Frequency\", fontsize=14)\n",
    "plt.xticks(ticks=range(7), labels=[\"Monday\", \"Tuesday\", \"Wednesday\", \"Thursday\", \"Friday\", \"Saturday\", \"Sunday\"], rotation=0, fontsize=10)\n",
    "plt.yticks(fontsize=10)\n",
    "plt.show()"
   ]
  },
  {
   "cell_type": "markdown",
   "metadata": {
    "application/vnd.databricks.v1+cell": {
     "cellMetadata": {
      "byteLimit": 2048000,
      "rowLimit": 10000
     },
     "inputWidgets": {},
     "nuid": "7a153ddf-c88e-4d15-8dd4-3dd76cf77e51",
     "showTitle": false,
     "tableResultSettingsMap": {},
     "title": ""
    }
   },
   "source": [
    "### Q 1.6.3."
   ]
  },
  {
   "cell_type": "code",
   "execution_count": 0,
   "metadata": {
    "application/vnd.databricks.v1+cell": {
     "cellMetadata": {
      "byteLimit": 2048000,
      "rowLimit": 10000
     },
     "inputWidgets": {},
     "nuid": "9997d2a8-8761-41d8-a454-fa3f3ac23dcc",
     "showTitle": false,
     "tableResultSettingsMap": {},
     "title": ""
    }
   },
   "outputs": [
    {
     "output_type": "stream",
     "name": "stdout",
     "output_type": "stream",
     "text": [
      "+-----------+----+---------+---+\n|customer_id|YEAR| day_name|cnt|\n+-----------+----+---------+---+\n|     CS1112|2011|   Friday|  1|\n|     CS1112|2011|   Sunday|  1|\n|     CS1112|2011|Wednesday|  1|\n|     CS1112|2012| Saturday|  1|\n|     CS1112|2012|   Sunday|  3|\n+-----------+----+---------+---+\nonly showing top 5 rows\n\n"
     ]
    }
   ],
   "source": [
    "# Generating the features that capture the count of transactions per client, year and day of the week.\n",
    "clnt_daily_aggregations = txn.groupBy(\"customer_id\", \"YEAR\", \"day_name\") \\\n",
    "                             .agg(count(\"tran_amount\").alias(\"cnt\"))\\\n",
    "                             .orderBy(\"customer_id\", \"YEAR\", \"day_name\")\n",
    "clnt_daily_aggregations.show(5)"
   ]
  },
  {
   "cell_type": "code",
   "execution_count": 0,
   "metadata": {
    "application/vnd.databricks.v1+cell": {
     "cellMetadata": {
      "byteLimit": 2048000,
      "rowLimit": 10000
     },
     "inputWidgets": {},
     "nuid": "0e5ae7d7-c08b-41fb-91fa-81539bfa6c7f",
     "showTitle": false,
     "tableResultSettingsMap": {},
     "title": ""
    }
   },
   "outputs": [
    {
     "output_type": "stream",
     "name": "stdout",
     "output_type": "stream",
     "text": [
      "+-----------+-----------+-----------+-------------+-----------+-------------+------------+--------------+-----------+-----------+-------------+-----------+-------------+------------+--------------+-----------+-----------+-------------+-----------+-------------+------------+--------------+-----------+-----------+-------------+-----------+-------------+------------+--------------+-----------+-----------+-------------+-----------+-------------+------------+--------------+\n|customer_id|2011_Friday|2011_Monday|2011_Saturday|2011_Sunday|2011_Thursday|2011_Tuesday|2011_Wednesday|2012_Friday|2012_Monday|2012_Saturday|2012_Sunday|2012_Thursday|2012_Tuesday|2012_Wednesday|2013_Friday|2013_Monday|2013_Saturday|2013_Sunday|2013_Thursday|2013_Tuesday|2013_Wednesday|2014_Friday|2014_Monday|2014_Saturday|2014_Sunday|2014_Thursday|2014_Tuesday|2014_Wednesday|2015_Friday|2015_Monday|2015_Saturday|2015_Sunday|2015_Thursday|2015_Tuesday|2015_Wednesday|\n+-----------+-----------+-----------+-------------+-----------+-------------+------------+--------------+-----------+-----------+-------------+-----------+-------------+------------+--------------+-----------+-----------+-------------+-----------+-------------+------------+--------------+-----------+-----------+-------------+-----------+-------------+------------+--------------+-----------+-----------+-------------+-----------+-------------+------------+--------------+\n|     CS1112|          1|          0|            0|          1|            0|           0|             1|          0|          0|            1|          3|            0|           1|             0|          1|          1|            0|          0|            0|           0|             1|          0|          0|            0|          0|            1|           1|             1|          0|          0|            0|          0|            0|           0|             1|\n|     CS1113|          1|          1|            0|          1|            0|           0|             0|          2|          1|            0|          0|            0|           1|             1|          0|          1|            1|          0|            0|           2|             1|          0|          0|            1|          0|            0|           3|             0|          0|          2|            0|          0|            0|           0|             1|\n|     CS1114|          0|          1|            0|          1|            1|           0|             2|          0|          0|            1|          1|            0|           0|             0|          0|          1|            0|          1|            2|           0|             1|          1|          1|            1|          1|            0|           1|             1|          0|          0|            0|          0|            1|           0|             0|\n|     CS1115|          0|          0|            1|          1|            0|           0|             1|          1|          1|            0|          2|            1|           1|             1|          0|          1|            2|          0|            2|           0|             2|          0|          0|            0|          0|            2|           0|             2|          0|          0|            0|          0|            1|           0|             0|\n|     CS1116|          1|          1|            0|          0|            1|           1|             0|          1|          0|            0|          0|            1|           1|             0|          1|          0|            0|          0|            0|           0|             0|          3|          1|            0|          1|            0|           0|             0|          0|          0|            0|          0|            0|           0|             0|\n+-----------+-----------+-----------+-------------+-----------+-------------+------------+--------------+-----------+-----------+-------------+-----------+-------------+------------+--------------+-----------+-----------+-------------+-----------+-------------+------------+--------------+-----------+-----------+-------------+-----------+-------------+------------+--------------+-----------+-----------+-------------+-----------+-------------+------------+--------------+\nonly showing top 5 rows\n\n"
     ]
    }
   ],
   "source": [
    "# Creating a composite column combining YEAR and day_name.\n",
    "clnt_daily_aggregations = clnt_daily_aggregations.withColumn(\n",
    "    \"YEAR_day_name\", concat_ws(\"_\", \"YEAR\", \"day_name\"))\n",
    "\n",
    "# Pivoting on the composite column and Imputing 0 to NaN columns.\n",
    "clnt_daily_aggregations_pivot = clnt_daily_aggregations.groupBy(\"customer_id\") \\\n",
    "                                                       .pivot(\"YEAR_day_name\") \\\n",
    "                                                       .agg({\"cnt\": \"first\"}) \\\n",
    "                                                       .orderBy(\"customer_id\") \\\n",
    "                                                       .fillna(0)\n",
    "clnt_daily_aggregations_pivot.show(5)"
   ]
  },
  {
   "cell_type": "code",
   "execution_count": 0,
   "metadata": {
    "application/vnd.databricks.v1+cell": {
     "cellMetadata": {
      "byteLimit": 2048000,
      "rowLimit": 10000
     },
     "inputWidgets": {},
     "nuid": "f8ab197f-14d7-4ab5-9fd7-60d810ab68e2",
     "showTitle": false,
     "tableResultSettingsMap": {},
     "title": ""
    }
   },
   "outputs": [
    {
     "output_type": "stream",
     "name": "stdout",
     "output_type": "stream",
     "text": [
      "+-----------+---------------+---------------+-----------------+---------------+-----------------+----------------+------------------+---------------+---------------+-----------------+---------------+-----------------+----------------+------------------+---------------+---------------+-----------------+---------------+-----------------+----------------+------------------+---------------+---------------+-----------------+---------------+-----------------+----------------+------------------+---------------+---------------+-----------------+---------------+-----------------+----------------+------------------+\n|customer_id|cnt_2011_Friday|cnt_2011_Monday|cnt_2011_Saturday|cnt_2011_Sunday|cnt_2011_Thursday|cnt_2011_Tuesday|cnt_2011_Wednesday|cnt_2012_Friday|cnt_2012_Monday|cnt_2012_Saturday|cnt_2012_Sunday|cnt_2012_Thursday|cnt_2012_Tuesday|cnt_2012_Wednesday|cnt_2013_Friday|cnt_2013_Monday|cnt_2013_Saturday|cnt_2013_Sunday|cnt_2013_Thursday|cnt_2013_Tuesday|cnt_2013_Wednesday|cnt_2014_Friday|cnt_2014_Monday|cnt_2014_Saturday|cnt_2014_Sunday|cnt_2014_Thursday|cnt_2014_Tuesday|cnt_2014_Wednesday|cnt_2015_Friday|cnt_2015_Monday|cnt_2015_Saturday|cnt_2015_Sunday|cnt_2015_Thursday|cnt_2015_Tuesday|cnt_2015_Wednesday|\n+-----------+---------------+---------------+-----------------+---------------+-----------------+----------------+------------------+---------------+---------------+-----------------+---------------+-----------------+----------------+------------------+---------------+---------------+-----------------+---------------+-----------------+----------------+------------------+---------------+---------------+-----------------+---------------+-----------------+----------------+------------------+---------------+---------------+-----------------+---------------+-----------------+----------------+------------------+\n|     CS1112|              1|              0|                0|              1|                0|               0|                 1|              0|              0|                1|              3|                0|               1|                 0|              1|              1|                0|              0|                0|               0|                 1|              0|              0|                0|              0|                1|               1|                 1|              0|              0|                0|              0|                0|               0|                 1|\n|     CS1113|              1|              1|                0|              1|                0|               0|                 0|              2|              1|                0|              0|                0|               1|                 1|              0|              1|                1|              0|                0|               2|                 1|              0|              0|                1|              0|                0|               3|                 0|              0|              2|                0|              0|                0|               0|                 1|\n|     CS1114|              0|              1|                0|              1|                1|               0|                 2|              0|              0|                1|              1|                0|               0|                 0|              0|              1|                0|              1|                2|               0|                 1|              1|              1|                1|              1|                0|               1|                 1|              0|              0|                0|              0|                1|               0|                 0|\n|     CS1115|              0|              0|                1|              1|                0|               0|                 1|              1|              1|                0|              2|                1|               1|                 1|              0|              1|                2|              0|                2|               0|                 2|              0|              0|                0|              0|                2|               0|                 2|              0|              0|                0|              0|                1|               0|                 0|\n|     CS1116|              1|              1|                0|              0|                1|               1|                 0|              1|              0|                0|              0|                1|               1|                 0|              1|              0|                0|              0|                0|               0|                 0|              3|              1|                0|              1|                0|               0|                 0|              0|              0|                0|              0|                0|               0|                 0|\n+-----------+---------------+---------------+-----------------+---------------+-----------------+----------------+------------------+---------------+---------------+-----------------+---------------+-----------------+----------------+------------------+---------------+---------------+-----------------+---------------+-----------------+----------------+------------------+---------------+---------------+-----------------+---------------+-----------------+----------------+------------------+---------------+---------------+-----------------+---------------+-----------------+----------------+------------------+\nonly showing top 5 rows\n\n"
     ]
    }
   ],
   "source": [
    "# Adding the \"cnt_\" prefix to all pivoted columns.\n",
    "columns_daily_to_rename = [col for col in clnt_daily_aggregations_pivot.columns if col != \"customer_id\"]\n",
    "# Renaming the columns.\n",
    "for col in columns_daily_to_rename:\n",
    "    clnt_daily_aggregations_pivot = clnt_daily_aggregations_pivot.withColumnRenamed(col, f\"cnt_{col}\")\n",
    "clnt_daily_aggregations_pivot.show(5)"
   ]
  },
  {
   "cell_type": "markdown",
   "metadata": {
    "application/vnd.databricks.v1+cell": {
     "cellMetadata": {
      "byteLimit": 2048000,
      "rowLimit": 10000
     },
     "inputWidgets": {},
     "nuid": "2c38d786-c23b-4c26-b27c-6ab149bc2df0",
     "showTitle": false,
     "tableResultSettingsMap": {},
     "title": ""
    }
   },
   "source": [
    "### Q 1.6.4."
   ]
  },
  {
   "cell_type": "code",
   "execution_count": 0,
   "metadata": {
    "application/vnd.databricks.v1+cell": {
     "cellMetadata": {
      "byteLimit": 2048000,
      "rowLimit": 10000
     },
     "inputWidgets": {},
     "nuid": "09dad260-ff82-4799-9750-5e1e5628c2a1",
     "showTitle": false,
     "tableResultSettingsMap": {},
     "title": ""
    }
   },
   "outputs": [
    {
     "output_type": "stream",
     "name": "stdout",
     "output_type": "stream",
     "text": [
      "Annual row count: 6889\nDaily row count: 6889\nDo the row counts match? True\n"
     ]
    }
   ],
   "source": [
    "# Confirming that clnt_daily_aggregations_pivot has the same number of rows as clnt_annual_aggregations_pivot.\n",
    "annual_row_count = clnt_annual_aggregations_pivot.count()\n",
    "daily_row_count = clnt_daily_aggregations_pivot.count()\n",
    "\n",
    "print(f\"Annual row count: {annual_row_count}\")\n",
    "print(f\"Daily row count: {daily_row_count}\")\n",
    "print(f\"Do the row counts match? {annual_row_count == daily_row_count}\")"
   ]
  },
  {
   "cell_type": "code",
   "execution_count": 0,
   "metadata": {
    "application/vnd.databricks.v1+cell": {
     "cellMetadata": {
      "byteLimit": 2048000,
      "rowLimit": 10000
     },
     "inputWidgets": {},
     "nuid": "1f9124fd-d9f7-48f0-a523-4f37403a7988",
     "showTitle": false,
     "tableResultSettingsMap": {},
     "title": ""
    }
   },
   "outputs": [
    {
     "output_type": "stream",
     "name": "stdout",
     "output_type": "stream",
     "text": [
      "Excel file saved to DBFS: dbfs:/FileStore/annual_day_of_week_counts_pivot.xlsx\n"
     ]
    }
   ],
   "source": [
    "# Converting the PySpark DataFrame to a Pandas DataFrame for saving.\n",
    "clnt_daily_aggregations_pivot_pd = clnt_daily_aggregations_pivot.toPandas()\n",
    "# Saving the Pandas DataFrame as an Excel file locally.\n",
    "local_excel_path = \"/tmp/annual_day_of_week_counts_pivot.xlsx\"  # Temporary local path\n",
    "clnt_daily_aggregations_pivot_pd.to_excel(local_excel_path, index=False)\n",
    "# Moving the Excel file to DBFS for easy access via the GUI.\n",
    "dbfs_excel_path = \"dbfs:/FileStore/annual_day_of_week_counts_pivot.xlsx\"  # DBFS path\n",
    "dbutils.fs.mv(f\"file:{local_excel_path}\", dbfs_excel_path)\n",
    "\n",
    "print(f\"Excel file saved to DBFS: {dbfs_excel_path}\")"
   ]
  },
  {
   "cell_type": "code",
   "execution_count": 0,
   "metadata": {
    "application/vnd.databricks.v1+cell": {
     "cellMetadata": {
      "byteLimit": 2048000,
      "rowLimit": 10000
     },
     "inputWidgets": {},
     "nuid": "56c02937-de29-4a49-8ce2-b061635ec7a5",
     "showTitle": false,
     "tableResultSettingsMap": {},
     "title": ""
    }
   },
   "outputs": [
    {
     "output_type": "display_data",
     "data": {
      "text/html": [
       "<div>\n",
       "<style scoped>\n",
       "    .dataframe tbody tr th:only-of-type {\n",
       "        vertical-align: middle;\n",
       "    }\n",
       "\n",
       "    .dataframe tbody tr th {\n",
       "        vertical-align: top;\n",
       "    }\n",
       "\n",
       "    .dataframe thead th {\n",
       "        text-align: right;\n",
       "    }\n",
       "</style>\n",
       "<table border=\"1\" class=\"dataframe\">\n",
       "  <thead>\n",
       "    <tr style=\"text-align: right;\">\n",
       "      <th></th>\n",
       "      <th>customer_id</th>\n",
       "      <th>cnt_2011_Friday</th>\n",
       "      <th>cnt_2011_Monday</th>\n",
       "      <th>cnt_2011_Saturday</th>\n",
       "      <th>cnt_2011_Sunday</th>\n",
       "      <th>cnt_2011_Thursday</th>\n",
       "      <th>cnt_2011_Tuesday</th>\n",
       "      <th>cnt_2011_Wednesday</th>\n",
       "      <th>cnt_2012_Friday</th>\n",
       "      <th>cnt_2012_Monday</th>\n",
       "      <th>...</th>\n",
       "      <th>cnt_2014_Thursday</th>\n",
       "      <th>cnt_2014_Tuesday</th>\n",
       "      <th>cnt_2014_Wednesday</th>\n",
       "      <th>cnt_2015_Friday</th>\n",
       "      <th>cnt_2015_Monday</th>\n",
       "      <th>cnt_2015_Saturday</th>\n",
       "      <th>cnt_2015_Sunday</th>\n",
       "      <th>cnt_2015_Thursday</th>\n",
       "      <th>cnt_2015_Tuesday</th>\n",
       "      <th>cnt_2015_Wednesday</th>\n",
       "    </tr>\n",
       "  </thead>\n",
       "  <tbody>\n",
       "    <tr>\n",
       "      <th>0</th>\n",
       "      <td>CS1112</td>\n",
       "      <td>1</td>\n",
       "      <td>0</td>\n",
       "      <td>0</td>\n",
       "      <td>1</td>\n",
       "      <td>0</td>\n",
       "      <td>0</td>\n",
       "      <td>1</td>\n",
       "      <td>0</td>\n",
       "      <td>0</td>\n",
       "      <td>...</td>\n",
       "      <td>1</td>\n",
       "      <td>1</td>\n",
       "      <td>1</td>\n",
       "      <td>0</td>\n",
       "      <td>0</td>\n",
       "      <td>0</td>\n",
       "      <td>0</td>\n",
       "      <td>0</td>\n",
       "      <td>0</td>\n",
       "      <td>1</td>\n",
       "    </tr>\n",
       "    <tr>\n",
       "      <th>1</th>\n",
       "      <td>CS1113</td>\n",
       "      <td>1</td>\n",
       "      <td>1</td>\n",
       "      <td>0</td>\n",
       "      <td>1</td>\n",
       "      <td>0</td>\n",
       "      <td>0</td>\n",
       "      <td>0</td>\n",
       "      <td>2</td>\n",
       "      <td>1</td>\n",
       "      <td>...</td>\n",
       "      <td>0</td>\n",
       "      <td>3</td>\n",
       "      <td>0</td>\n",
       "      <td>0</td>\n",
       "      <td>2</td>\n",
       "      <td>0</td>\n",
       "      <td>0</td>\n",
       "      <td>0</td>\n",
       "      <td>0</td>\n",
       "      <td>1</td>\n",
       "    </tr>\n",
       "    <tr>\n",
       "      <th>2</th>\n",
       "      <td>CS1114</td>\n",
       "      <td>0</td>\n",
       "      <td>1</td>\n",
       "      <td>0</td>\n",
       "      <td>1</td>\n",
       "      <td>1</td>\n",
       "      <td>0</td>\n",
       "      <td>2</td>\n",
       "      <td>0</td>\n",
       "      <td>0</td>\n",
       "      <td>...</td>\n",
       "      <td>0</td>\n",
       "      <td>1</td>\n",
       "      <td>1</td>\n",
       "      <td>0</td>\n",
       "      <td>0</td>\n",
       "      <td>0</td>\n",
       "      <td>0</td>\n",
       "      <td>1</td>\n",
       "      <td>0</td>\n",
       "      <td>0</td>\n",
       "    </tr>\n",
       "    <tr>\n",
       "      <th>3</th>\n",
       "      <td>CS1115</td>\n",
       "      <td>0</td>\n",
       "      <td>0</td>\n",
       "      <td>1</td>\n",
       "      <td>1</td>\n",
       "      <td>0</td>\n",
       "      <td>0</td>\n",
       "      <td>1</td>\n",
       "      <td>1</td>\n",
       "      <td>1</td>\n",
       "      <td>...</td>\n",
       "      <td>2</td>\n",
       "      <td>0</td>\n",
       "      <td>2</td>\n",
       "      <td>0</td>\n",
       "      <td>0</td>\n",
       "      <td>0</td>\n",
       "      <td>0</td>\n",
       "      <td>1</td>\n",
       "      <td>0</td>\n",
       "      <td>0</td>\n",
       "    </tr>\n",
       "    <tr>\n",
       "      <th>4</th>\n",
       "      <td>CS1116</td>\n",
       "      <td>1</td>\n",
       "      <td>1</td>\n",
       "      <td>0</td>\n",
       "      <td>0</td>\n",
       "      <td>1</td>\n",
       "      <td>1</td>\n",
       "      <td>0</td>\n",
       "      <td>1</td>\n",
       "      <td>0</td>\n",
       "      <td>...</td>\n",
       "      <td>0</td>\n",
       "      <td>0</td>\n",
       "      <td>0</td>\n",
       "      <td>0</td>\n",
       "      <td>0</td>\n",
       "      <td>0</td>\n",
       "      <td>0</td>\n",
       "      <td>0</td>\n",
       "      <td>0</td>\n",
       "      <td>0</td>\n",
       "    </tr>\n",
       "  </tbody>\n",
       "</table>\n",
       "<p>5 rows × 36 columns</p>\n",
       "</div>"
      ]
     },
     "metadata": {
      "application/vnd.databricks.v1+output": {
       "addedWidgets": {},
       "arguments": {},
       "data": "<div>\n<style scoped>\n    .dataframe tbody tr th:only-of-type {\n        vertical-align: middle;\n    }\n\n    .dataframe tbody tr th {\n        vertical-align: top;\n    }\n\n    .dataframe thead th {\n        text-align: right;\n    }\n</style>\n<table border=\"1\" class=\"dataframe\">\n  <thead>\n    <tr style=\"text-align: right;\">\n      <th></th>\n      <th>customer_id</th>\n      <th>cnt_2011_Friday</th>\n      <th>cnt_2011_Monday</th>\n      <th>cnt_2011_Saturday</th>\n      <th>cnt_2011_Sunday</th>\n      <th>cnt_2011_Thursday</th>\n      <th>cnt_2011_Tuesday</th>\n      <th>cnt_2011_Wednesday</th>\n      <th>cnt_2012_Friday</th>\n      <th>cnt_2012_Monday</th>\n      <th>...</th>\n      <th>cnt_2014_Thursday</th>\n      <th>cnt_2014_Tuesday</th>\n      <th>cnt_2014_Wednesday</th>\n      <th>cnt_2015_Friday</th>\n      <th>cnt_2015_Monday</th>\n      <th>cnt_2015_Saturday</th>\n      <th>cnt_2015_Sunday</th>\n      <th>cnt_2015_Thursday</th>\n      <th>cnt_2015_Tuesday</th>\n      <th>cnt_2015_Wednesday</th>\n    </tr>\n  </thead>\n  <tbody>\n    <tr>\n      <th>0</th>\n      <td>CS1112</td>\n      <td>1</td>\n      <td>0</td>\n      <td>0</td>\n      <td>1</td>\n      <td>0</td>\n      <td>0</td>\n      <td>1</td>\n      <td>0</td>\n      <td>0</td>\n      <td>...</td>\n      <td>1</td>\n      <td>1</td>\n      <td>1</td>\n      <td>0</td>\n      <td>0</td>\n      <td>0</td>\n      <td>0</td>\n      <td>0</td>\n      <td>0</td>\n      <td>1</td>\n    </tr>\n    <tr>\n      <th>1</th>\n      <td>CS1113</td>\n      <td>1</td>\n      <td>1</td>\n      <td>0</td>\n      <td>1</td>\n      <td>0</td>\n      <td>0</td>\n      <td>0</td>\n      <td>2</td>\n      <td>1</td>\n      <td>...</td>\n      <td>0</td>\n      <td>3</td>\n      <td>0</td>\n      <td>0</td>\n      <td>2</td>\n      <td>0</td>\n      <td>0</td>\n      <td>0</td>\n      <td>0</td>\n      <td>1</td>\n    </tr>\n    <tr>\n      <th>2</th>\n      <td>CS1114</td>\n      <td>0</td>\n      <td>1</td>\n      <td>0</td>\n      <td>1</td>\n      <td>1</td>\n      <td>0</td>\n      <td>2</td>\n      <td>0</td>\n      <td>0</td>\n      <td>...</td>\n      <td>0</td>\n      <td>1</td>\n      <td>1</td>\n      <td>0</td>\n      <td>0</td>\n      <td>0</td>\n      <td>0</td>\n      <td>1</td>\n      <td>0</td>\n      <td>0</td>\n    </tr>\n    <tr>\n      <th>3</th>\n      <td>CS1115</td>\n      <td>0</td>\n      <td>0</td>\n      <td>1</td>\n      <td>1</td>\n      <td>0</td>\n      <td>0</td>\n      <td>1</td>\n      <td>1</td>\n      <td>1</td>\n      <td>...</td>\n      <td>2</td>\n      <td>0</td>\n      <td>2</td>\n      <td>0</td>\n      <td>0</td>\n      <td>0</td>\n      <td>0</td>\n      <td>1</td>\n      <td>0</td>\n      <td>0</td>\n    </tr>\n    <tr>\n      <th>4</th>\n      <td>CS1116</td>\n      <td>1</td>\n      <td>1</td>\n      <td>0</td>\n      <td>0</td>\n      <td>1</td>\n      <td>1</td>\n      <td>0</td>\n      <td>1</td>\n      <td>0</td>\n      <td>...</td>\n      <td>0</td>\n      <td>0</td>\n      <td>0</td>\n      <td>0</td>\n      <td>0</td>\n      <td>0</td>\n      <td>0</td>\n      <td>0</td>\n      <td>0</td>\n      <td>0</td>\n    </tr>\n  </tbody>\n</table>\n<p>5 rows × 36 columns</p>\n</div>",
       "datasetInfos": [],
       "metadata": {},
       "removedWidgets": [],
       "textData": null,
       "type": "htmlSandbox"
      }
     },
     "output_type": "display_data"
    }
   ],
   "source": [
    "# Viewing a snapshot of the saved dataframe.\n",
    "clnt_daily_aggregations_pivot_pd.head()"
   ]
  },
  {
   "cell_type": "code",
   "execution_count": 0,
   "metadata": {
    "application/vnd.databricks.v1+cell": {
     "cellMetadata": {
      "byteLimit": 2048000,
      "rowLimit": 10000
     },
     "inputWidgets": {},
     "nuid": "36db7c2c-a8ea-4c87-9666-7b70f5ac2f35",
     "showTitle": false,
     "tableResultSettingsMap": {},
     "title": ""
    }
   },
   "outputs": [
    {
     "output_type": "stream",
     "name": "stdout",
     "output_type": "stream",
     "text": [
      "The number of features in the DataFrame is: 35\n"
     ]
    }
   ],
   "source": [
    "# Extracting the number features in the dataframe.\n",
    "print(f\"The number of features in the DataFrame is: {len(clnt_daily_aggregations_pivot.columns) -1}\")"
   ]
  },
  {
   "cell_type": "markdown",
   "metadata": {
    "application/vnd.databricks.v1+cell": {
     "cellMetadata": {
      "byteLimit": 2048000,
      "rowLimit": 10000
     },
     "inputWidgets": {},
     "nuid": "2dd8c70e-2ad8-415a-a8a5-56161a7b2795",
     "showTitle": false,
     "tableResultSettingsMap": {},
     "title": ""
    }
   },
   "source": [
    "#### Answer:\n",
    "- The output has 6889 rows, which is the same number as the clnt_annual_aggregations_pivot.\n",
    "- 35 features/columns were created in this section as a result of having 5 years of range (from the year 2011 to the year 2015) and 7 days of the week, therefore we have 5 * 7, or 35 features."
   ]
  },
  {
   "cell_type": "markdown",
   "metadata": {
    "application/vnd.databricks.v1+cell": {
     "cellMetadata": {
      "byteLimit": 2048000,
      "rowLimit": 10000
     },
     "inputWidgets": {},
     "nuid": "8c9704f2-985d-457d-888f-bda83879cd54",
     "showTitle": false,
     "tableResultSettingsMap": {},
     "title": ""
    }
   },
   "source": [
    "### Q 1.6.5."
   ]
  },
  {
   "cell_type": "code",
   "execution_count": 0,
   "metadata": {
    "application/vnd.databricks.v1+cell": {
     "cellMetadata": {
      "byteLimit": 2048000,
      "rowLimit": 10000
     },
     "inputWidgets": {},
     "nuid": "bb573254-5943-4f52-b2e6-73ac955a3ef2",
     "showTitle": false,
     "tableResultSettingsMap": {},
     "title": ""
    }
   },
   "outputs": [
    {
     "output_type": "stream",
     "name": "stdout",
     "output_type": "stream",
     "text": [
      "+-----------+----------+---------+---+\n|customer_id|     ME_DT| day_name|cnt|\n+-----------+----------+---------+---+\n|     CS1112|2011-06-30|Wednesday|  1|\n|     CS1112|2011-08-31|   Friday|  1|\n|     CS1112|2011-10-31|   Sunday|  1|\n|     CS1112|2012-04-30|   Sunday|  1|\n|     CS1112|2012-06-30|   Sunday|  1|\n+-----------+----------+---------+---+\nonly showing top 5 rows\n\n"
     ]
    }
   ],
   "source": [
    "# Generating the features that capture the count of transactions per client, month-end-date and day of the week.\n",
    "clnt_monthly_day_aggregations = txn.groupBy(\"customer_id\", \"ME_DT\", \"day_name\") \\\n",
    "                                   .agg(count(\"tran_amount\").alias(\"cnt\")) \\\n",
    "                                   .orderBy(\"customer_id\", \"ME_DT\", \"day_name\")\n",
    "clnt_monthly_day_aggregations.show(5)"
   ]
  },
  {
   "cell_type": "code",
   "execution_count": 0,
   "metadata": {
    "application/vnd.databricks.v1+cell": {
     "cellMetadata": {
      "byteLimit": 2048000,
      "rowLimit": 10000
     },
     "inputWidgets": {},
     "nuid": "7bb37949-a18b-40c6-896e-14dea1817346",
     "showTitle": false,
     "tableResultSettingsMap": {},
     "title": ""
    }
   },
   "outputs": [
    {
     "output_type": "stream",
     "name": "stdout",
     "output_type": "stream",
     "text": [
      "+-----------+----------+------+------+--------+------+--------+-------+---------+\n|customer_id|     ME_DT|Friday|Monday|Saturday|Sunday|Thursday|Tuesday|Wednesday|\n+-----------+----------+------+------+--------+------+--------+-------+---------+\n|     CS1112|2011-06-30|     0|     0|       0|     0|       0|      0|        1|\n|     CS1112|2011-08-31|     1|     0|       0|     0|       0|      0|        0|\n|     CS1112|2011-10-31|     0|     0|       0|     1|       0|      0|        0|\n|     CS1112|2012-04-30|     0|     0|       0|     1|       0|      0|        0|\n|     CS1112|2012-06-30|     0|     0|       0|     1|       0|      0|        0|\n+-----------+----------+------+------+--------+------+--------+-------+---------+\nonly showing top 5 rows\n\n"
     ]
    }
   ],
   "source": [
    "# Pivoting on the composite column and Imputing 0 to NaN columns.\n",
    "clnt_monthly_day_aggregations_pivot = clnt_monthly_day_aggregations.groupBy(\"customer_id\", \"ME_DT\") \\\n",
    "                                                                   .pivot(\"day_name\") \\\n",
    "                                                                   .agg({\"cnt\": \"first\"}) \\\n",
    "                                                                   .orderBy(\"customer_id\", \"ME_DT\") \\\n",
    "                                                                   .fillna(0)\n",
    "clnt_monthly_day_aggregations_pivot.show(5)"
   ]
  },
  {
   "cell_type": "code",
   "execution_count": 0,
   "metadata": {
    "application/vnd.databricks.v1+cell": {
     "cellMetadata": {
      "byteLimit": 2048000,
      "rowLimit": 10000
     },
     "inputWidgets": {},
     "nuid": "34fb1ffe-c1b1-43e9-9211-78db1e099d2d",
     "showTitle": false,
     "tableResultSettingsMap": {},
     "title": ""
    }
   },
   "outputs": [
    {
     "output_type": "stream",
     "name": "stdout",
     "output_type": "stream",
     "text": [
      "+-----------+----------+----------+----------+------------+----------+------------+-----------+-------------+\n|customer_id|     ME_DT|cnt_Friday|cnt_Monday|cnt_Saturday|cnt_Sunday|cnt_Thursday|cnt_Tuesday|cnt_Wednesday|\n+-----------+----------+----------+----------+------------+----------+------------+-----------+-------------+\n|     CS1112|2011-06-30|         0|         0|           0|         0|           0|          0|            1|\n|     CS1112|2011-08-31|         1|         0|           0|         0|           0|          0|            0|\n|     CS1112|2011-10-31|         0|         0|           0|         1|           0|          0|            0|\n|     CS1112|2012-04-30|         0|         0|           0|         1|           0|          0|            0|\n|     CS1112|2012-06-30|         0|         0|           0|         1|           0|          0|            0|\n+-----------+----------+----------+----------+------------+----------+------------+-----------+-------------+\nonly showing top 5 rows\n\n"
     ]
    }
   ],
   "source": [
    "# Adding the \"cnt_\" prefix to all pivoted columns.\n",
    "columns_monthly_to_rename = [col for col in clnt_monthly_day_aggregations_pivot \\\n",
    "    .columns if col not in [\"customer_id\", \"ME_DT\"]]\n",
    "# Renaming the columns.\n",
    "for col in columns_monthly_to_rename:\n",
    "    clnt_monthly_day_aggregations_pivot = clnt_monthly_day_aggregations_pivot \\\n",
    "        .withColumnRenamed(col, f\"cnt_{col}\")\n",
    "clnt_monthly_day_aggregations_pivot.show(5)"
   ]
  },
  {
   "cell_type": "markdown",
   "metadata": {
    "application/vnd.databricks.v1+cell": {
     "cellMetadata": {
      "byteLimit": 2048000,
      "rowLimit": 10000
     },
     "inputWidgets": {},
     "nuid": "e8c1b48e-5975-4556-a252-559368dc190c",
     "showTitle": false,
     "tableResultSettingsMap": {},
     "title": ""
    }
   },
   "source": [
    "### Q 1.6.6."
   ]
  },
  {
   "cell_type": "code",
   "execution_count": 0,
   "metadata": {
    "application/vnd.databricks.v1+cell": {
     "cellMetadata": {
      "byteLimit": 2048000,
      "rowLimit": 10000
     },
     "inputWidgets": {},
     "nuid": "0f3a196e-0894-4e0f-b39c-1283b6fac523",
     "showTitle": false,
     "tableResultSettingsMap": {},
     "title": ""
    }
   },
   "outputs": [
    {
     "output_type": "stream",
     "name": "stdout",
     "output_type": "stream",
     "text": [
      "+-------+----------+----------+----------+------------+----------+------------+-----------+-------------+\n|CLNT_NO|     ME_DT|cnt_Friday|cnt_Monday|cnt_Saturday|cnt_Sunday|cnt_Thursday|cnt_Tuesday|cnt_Wednesday|\n+-------+----------+----------+----------+------------+----------+------------+-----------+-------------+\n| CS1112|2011-05-31|         0|         0|           0|         0|           0|          0|            0|\n| CS1112|2011-06-30|         0|         0|           0|         0|           0|          0|            1|\n| CS1112|2011-07-31|         0|         0|           0|         0|           0|          0|            0|\n| CS1112|2011-08-31|         1|         0|           0|         0|           0|          0|            0|\n| CS1112|2011-09-30|         0|         0|           0|         0|           0|          0|            0|\n+-------+----------+----------+----------+------------+----------+------------+-----------+-------------+\nonly showing top 5 rows\n\n"
     ]
    }
   ],
   "source": [
    "# Renaming the 'customer_id' column to 'CLNT_NO' for the merge.\n",
    "clnt_monthly_day_aggregations_pivot = clnt_monthly_day_aggregations_pivot \\\n",
    "  .withColumnRenamed(\"customer_id\", \"CLNT_NO\")\n",
    "# Left-joining base_table_pd with base_clnt_mth_day on [CLNT_NO, ME_DT].\n",
    "base_clnt_mth_day = base_table_sd.join(clnt_monthly_day_aggregations_pivot,on=[\"CLNT_NO\",\"ME_DT\"], how=\"left\") \\\n",
    "                                 .fillna(0) \\\n",
    "                                 .orderBy(\"CLNT_NO\", \"ME_DT\")\n",
    "base_clnt_mth_day.show(5)"
   ]
  },
  {
   "cell_type": "code",
   "execution_count": 0,
   "metadata": {
    "application/vnd.databricks.v1+cell": {
     "cellMetadata": {
      "byteLimit": 2048000,
      "rowLimit": 10000
     },
     "inputWidgets": {},
     "nuid": "dd833c35-dafa-44a6-894f-7b672545798e",
     "showTitle": false,
     "tableResultSettingsMap": {},
     "title": ""
    }
   },
   "outputs": [
    {
     "output_type": "stream",
     "name": "stdout",
     "output_type": "stream",
     "text": [
      "Excel file saved to DBFS: dbfs:/FileStore/mth_day_counts.xlsx\n"
     ]
    }
   ],
   "source": [
    "# Converting the PySpark DataFrame to a Pandas DataFrame for saving.\n",
    "base_clnt_mth_day_pd = base_clnt_mth_day.toPandas()\n",
    "# Saving the Pandas DataFrame as an Excel file locally.\n",
    "local_excel_path = \"/tmp/mth_day_counts.xlsx\"  # Temporary local path\n",
    "base_clnt_mth_day_pd.to_excel(local_excel_path, index=False)\n",
    "# Moving the Excel file to DBFS for easy access via the GUI.\n",
    "dbfs_excel_path = \"dbfs:/FileStore/mth_day_counts.xlsx\"  # DBFS path\n",
    "dbutils.fs.mv(f\"file:{local_excel_path}\", dbfs_excel_path)\n",
    "\n",
    "print(f\"Excel file saved to DBFS: {dbfs_excel_path}\")"
   ]
  },
  {
   "cell_type": "code",
   "execution_count": 0,
   "metadata": {
    "application/vnd.databricks.v1+cell": {
     "cellMetadata": {
      "byteLimit": 2048000,
      "rowLimit": 10000
     },
     "inputWidgets": {},
     "nuid": "00113b72-fd93-41a2-a65f-c1559cbb8f92",
     "showTitle": false,
     "tableResultSettingsMap": {},
     "title": ""
    }
   },
   "outputs": [
    {
     "output_type": "display_data",
     "data": {
      "text/html": [
       "<div>\n",
       "<style scoped>\n",
       "    .dataframe tbody tr th:only-of-type {\n",
       "        vertical-align: middle;\n",
       "    }\n",
       "\n",
       "    .dataframe tbody tr th {\n",
       "        vertical-align: top;\n",
       "    }\n",
       "\n",
       "    .dataframe thead th {\n",
       "        text-align: right;\n",
       "    }\n",
       "</style>\n",
       "<table border=\"1\" class=\"dataframe\">\n",
       "  <thead>\n",
       "    <tr style=\"text-align: right;\">\n",
       "      <th></th>\n",
       "      <th>CLNT_NO</th>\n",
       "      <th>ME_DT</th>\n",
       "      <th>cnt_Friday</th>\n",
       "      <th>cnt_Monday</th>\n",
       "      <th>cnt_Saturday</th>\n",
       "      <th>cnt_Sunday</th>\n",
       "      <th>cnt_Thursday</th>\n",
       "      <th>cnt_Tuesday</th>\n",
       "      <th>cnt_Wednesday</th>\n",
       "    </tr>\n",
       "  </thead>\n",
       "  <tbody>\n",
       "    <tr>\n",
       "      <th>0</th>\n",
       "      <td>CS1112</td>\n",
       "      <td>2011-05-31</td>\n",
       "      <td>0</td>\n",
       "      <td>0</td>\n",
       "      <td>0</td>\n",
       "      <td>0</td>\n",
       "      <td>0</td>\n",
       "      <td>0</td>\n",
       "      <td>0</td>\n",
       "    </tr>\n",
       "    <tr>\n",
       "      <th>1</th>\n",
       "      <td>CS1112</td>\n",
       "      <td>2011-06-30</td>\n",
       "      <td>0</td>\n",
       "      <td>0</td>\n",
       "      <td>0</td>\n",
       "      <td>0</td>\n",
       "      <td>0</td>\n",
       "      <td>0</td>\n",
       "      <td>1</td>\n",
       "    </tr>\n",
       "    <tr>\n",
       "      <th>2</th>\n",
       "      <td>CS1112</td>\n",
       "      <td>2011-07-31</td>\n",
       "      <td>0</td>\n",
       "      <td>0</td>\n",
       "      <td>0</td>\n",
       "      <td>0</td>\n",
       "      <td>0</td>\n",
       "      <td>0</td>\n",
       "      <td>0</td>\n",
       "    </tr>\n",
       "    <tr>\n",
       "      <th>3</th>\n",
       "      <td>CS1112</td>\n",
       "      <td>2011-08-31</td>\n",
       "      <td>1</td>\n",
       "      <td>0</td>\n",
       "      <td>0</td>\n",
       "      <td>0</td>\n",
       "      <td>0</td>\n",
       "      <td>0</td>\n",
       "      <td>0</td>\n",
       "    </tr>\n",
       "    <tr>\n",
       "      <th>4</th>\n",
       "      <td>CS1112</td>\n",
       "      <td>2011-09-30</td>\n",
       "      <td>0</td>\n",
       "      <td>0</td>\n",
       "      <td>0</td>\n",
       "      <td>0</td>\n",
       "      <td>0</td>\n",
       "      <td>0</td>\n",
       "      <td>0</td>\n",
       "    </tr>\n",
       "  </tbody>\n",
       "</table>\n",
       "</div>"
      ]
     },
     "metadata": {
      "application/vnd.databricks.v1+output": {
       "addedWidgets": {},
       "arguments": {},
       "data": "<div>\n<style scoped>\n    .dataframe tbody tr th:only-of-type {\n        vertical-align: middle;\n    }\n\n    .dataframe tbody tr th {\n        vertical-align: top;\n    }\n\n    .dataframe thead th {\n        text-align: right;\n    }\n</style>\n<table border=\"1\" class=\"dataframe\">\n  <thead>\n    <tr style=\"text-align: right;\">\n      <th></th>\n      <th>CLNT_NO</th>\n      <th>ME_DT</th>\n      <th>cnt_Friday</th>\n      <th>cnt_Monday</th>\n      <th>cnt_Saturday</th>\n      <th>cnt_Sunday</th>\n      <th>cnt_Thursday</th>\n      <th>cnt_Tuesday</th>\n      <th>cnt_Wednesday</th>\n    </tr>\n  </thead>\n  <tbody>\n    <tr>\n      <th>0</th>\n      <td>CS1112</td>\n      <td>2011-05-31</td>\n      <td>0</td>\n      <td>0</td>\n      <td>0</td>\n      <td>0</td>\n      <td>0</td>\n      <td>0</td>\n      <td>0</td>\n    </tr>\n    <tr>\n      <th>1</th>\n      <td>CS1112</td>\n      <td>2011-06-30</td>\n      <td>0</td>\n      <td>0</td>\n      <td>0</td>\n      <td>0</td>\n      <td>0</td>\n      <td>0</td>\n      <td>1</td>\n    </tr>\n    <tr>\n      <th>2</th>\n      <td>CS1112</td>\n      <td>2011-07-31</td>\n      <td>0</td>\n      <td>0</td>\n      <td>0</td>\n      <td>0</td>\n      <td>0</td>\n      <td>0</td>\n      <td>0</td>\n    </tr>\n    <tr>\n      <th>3</th>\n      <td>CS1112</td>\n      <td>2011-08-31</td>\n      <td>1</td>\n      <td>0</td>\n      <td>0</td>\n      <td>0</td>\n      <td>0</td>\n      <td>0</td>\n      <td>0</td>\n    </tr>\n    <tr>\n      <th>4</th>\n      <td>CS1112</td>\n      <td>2011-09-30</td>\n      <td>0</td>\n      <td>0</td>\n      <td>0</td>\n      <td>0</td>\n      <td>0</td>\n      <td>0</td>\n      <td>0</td>\n    </tr>\n  </tbody>\n</table>\n</div>",
       "datasetInfos": [],
       "metadata": {},
       "removedWidgets": [],
       "textData": null,
       "type": "htmlSandbox"
      }
     },
     "output_type": "display_data"
    }
   ],
   "source": [
    "# Viewing a snapshot of the saved DataFrame.\n",
    "base_clnt_mth_day_pd.head()"
   ]
  },
  {
   "cell_type": "markdown",
   "metadata": {
    "application/vnd.databricks.v1+cell": {
     "cellMetadata": {
      "byteLimit": 2048000,
      "rowLimit": 10000
     },
     "inputWidgets": {},
     "nuid": "cd0a507d-2b21-437f-b06c-9455be831ce2",
     "showTitle": false,
     "tableResultSettingsMap": {},
     "title": ""
    }
   },
   "source": [
    "### Q 1.7.1."
   ]
  },
  {
   "cell_type": "code",
   "execution_count": 0,
   "metadata": {
    "application/vnd.databricks.v1+cell": {
     "cellMetadata": {
      "byteLimit": 2048000,
      "rowLimit": 10000
     },
     "inputWidgets": {},
     "nuid": "fe7d9712-7640-4ec7-a883-db9b02a37027",
     "showTitle": false,
     "tableResultSettingsMap": {},
     "title": ""
    }
   },
   "outputs": [
    {
     "output_type": "stream",
     "name": "stdout",
     "output_type": "stream",
     "text": [
      "+-----------+----------+----------+\n|customer_id|     ME_DT|  txn_date|\n+-----------+----------+----------+\n|     CS1112|2011-06-30|2011-06-15|\n|     CS1112|2011-08-31|2011-08-19|\n|     CS1112|2011-10-31|2011-10-02|\n|     CS1112|2012-04-30|2012-04-08|\n|     CS1112|2012-06-30|2012-06-24|\n+-----------+----------+----------+\nonly showing top 5 rows\n\n"
     ]
    }
   ],
   "source": [
    "# Creating the table last_monthly_purchase that captures the last 'txn_date' for every client and month.\n",
    "last_monthly_purchase = txn.groupBy(\"customer_id\", \"ME_DT\") \\\n",
    "                           .agg(max(\"txn_date\").alias(\"txn_date\")) \\\n",
    "                           .orderBy(\"customer_id\", \"ME_DT\")\n",
    "last_monthly_purchase.show(5)"
   ]
  },
  {
   "cell_type": "markdown",
   "metadata": {
    "application/vnd.databricks.v1+cell": {
     "cellMetadata": {
      "byteLimit": 2048000,
      "rowLimit": 10000
     },
     "inputWidgets": {},
     "nuid": "8e122475-e528-49ef-9506-6e115402c056",
     "showTitle": false,
     "tableResultSettingsMap": {},
     "title": ""
    }
   },
   "source": [
    "### Q 1.7.2."
   ]
  },
  {
   "cell_type": "code",
   "execution_count": 0,
   "metadata": {
    "application/vnd.databricks.v1+cell": {
     "cellMetadata": {
      "byteLimit": 2048000,
      "rowLimit": 10000
     },
     "inputWidgets": {},
     "nuid": "577b88f5-2d78-48d4-8422-2ff30009bb78",
     "showTitle": false,
     "tableResultSettingsMap": {},
     "title": ""
    }
   },
   "outputs": [
    {
     "output_type": "stream",
     "name": "stdout",
     "output_type": "stream",
     "text": [
      "+-------+----------+----------+\n|CLNT_NO|     ME_DT|  txn_date|\n+-------+----------+----------+\n| CS1112|2011-05-31|      null|\n| CS1112|2011-06-30|2011-06-15|\n| CS1112|2011-07-31|      null|\n| CS1112|2011-08-31|2011-08-19|\n| CS1112|2011-09-30|      null|\n| CS1112|2011-10-31|2011-10-02|\n| CS1112|2011-11-30|      null|\n| CS1112|2011-12-31|      null|\n+-------+----------+----------+\nonly showing top 8 rows\n\n"
     ]
    }
   ],
   "source": [
    "# Renaming the 'customer_id' column to 'CLNT_NO' for the merge.\n",
    "last_monthly_purchase = last_monthly_purchase.withColumnRenamed(\"customer_id\", \"CLNT_NO\")\n",
    "# Left-joining base_table_pd with last_monthly_purchase_base on [CLNT_NO, ME_DT].\n",
    "last_monthly_purchase_base = base_table_sd.join(last_monthly_purchase, on=[\"CLNT_NO\", \"ME_DT\"], how=\"left\")\n",
    "# Sorting the data first by 'CLNT_NO' and then by 'ME_DT' in ascending order.\n",
    "last_monthly_purchase_base = last_monthly_purchase_base.orderBy(\"CLNT_NO\", \"ME_DT\")\n",
    "last_monthly_purchase_base.show(8)"
   ]
  },
  {
   "cell_type": "markdown",
   "metadata": {
    "application/vnd.databricks.v1+cell": {
     "cellMetadata": {
      "byteLimit": 2048000,
      "rowLimit": 10000
     },
     "inputWidgets": {},
     "nuid": "7d1cdde2-b75d-41b5-91fa-34107b5a3e48",
     "showTitle": false,
     "tableResultSettingsMap": {},
     "title": ""
    }
   },
   "source": [
    "#### Answer:\n",
    "- Before reading the solution to the NaT (Not a Timestamp but shows as Null in PySpark) imputation solution, I figured the best values for imputuation would be the last known date the client made a transaction for every month following until a new transaction is made. "
   ]
  },
  {
   "cell_type": "markdown",
   "metadata": {
    "application/vnd.databricks.v1+cell": {
     "cellMetadata": {
      "byteLimit": 2048000,
      "rowLimit": 10000
     },
     "inputWidgets": {},
     "nuid": "be4f7cc9-6806-4640-9446-b6218fd4d456",
     "showTitle": false,
     "tableResultSettingsMap": {},
     "title": ""
    }
   },
   "source": [
    "### Q 1.7.3."
   ]
  },
  {
   "cell_type": "code",
   "execution_count": 0,
   "metadata": {
    "application/vnd.databricks.v1+cell": {
     "cellMetadata": {
      "byteLimit": 2048000,
      "rowLimit": 10000
     },
     "inputWidgets": {},
     "nuid": "af796cb1-eccf-4ce5-8829-f21651ef1bcf",
     "showTitle": false,
     "tableResultSettingsMap": {},
     "title": ""
    }
   },
   "outputs": [
    {
     "output_type": "stream",
     "name": "stdout",
     "output_type": "stream",
     "text": [
      "+-------+----------+----------+\n|CLNT_NO|     ME_DT|  txn_date|\n+-------+----------+----------+\n| CS1112|2011-05-31|      null|\n| CS1112|2011-06-30|2011-06-15|\n| CS1112|2011-07-31|2011-06-15|\n| CS1112|2011-08-31|2011-08-19|\n| CS1112|2011-09-30|2011-08-19|\n| CS1112|2011-10-31|2011-10-02|\n| CS1112|2011-11-30|2011-10-02|\n| CS1112|2011-12-31|2011-10-02|\n| CS1112|2012-01-31|2011-10-02|\n| CS1112|2012-02-29|2011-10-02|\n| CS1112|2012-03-31|2011-10-02|\n| CS1112|2012-04-30|2012-04-08|\n| CS1112|2012-05-31|2012-04-08|\n| CS1112|2012-06-30|2012-06-24|\n| CS1112|2012-07-31|2012-07-03|\n| CS1112|2012-08-31|2012-07-03|\n| CS1112|2012-09-30|2012-09-16|\n| CS1112|2012-10-31|2012-09-16|\n| CS1112|2012-11-30|2012-09-16|\n| CS1112|2012-12-31|2012-12-15|\n| CS1112|2013-01-31|2012-12-15|\n| CS1112|2013-02-28|2012-12-15|\n| CS1112|2013-03-31|2013-03-01|\n| CS1112|2013-04-30|2013-03-01|\n| CS1112|2013-05-31|2013-03-01|\n| CS1112|2013-06-30|2013-03-01|\n| CS1112|2013-07-31|2013-07-01|\n| CS1112|2013-08-31|2013-07-01|\n| CS1112|2013-09-30|2013-07-01|\n| CS1112|2013-10-31|2013-07-01|\n| CS1112|2013-11-30|2013-11-13|\n| CS1112|2013-12-31|2013-11-13|\n| CS1112|2014-01-31|2013-11-13|\n| CS1112|2014-02-28|2013-11-13|\n| CS1112|2014-03-31|2013-11-13|\n| CS1112|2014-04-30|2014-04-29|\n| CS1112|2014-05-31|2014-04-29|\n| CS1112|2014-06-30|2014-04-29|\n| CS1112|2014-07-31|2014-07-16|\n| CS1112|2014-08-31|2014-07-16|\n| CS1112|2014-09-30|2014-07-16|\n| CS1112|2014-10-31|2014-07-16|\n| CS1112|2014-11-30|2014-07-16|\n| CS1112|2014-12-31|2014-12-04|\n| CS1112|2015-01-31|2015-01-14|\n| CS1112|2015-02-28|2015-01-14|\n| CS1112|2015-03-31|2015-01-14|\n| CS1113|2011-05-31|2011-05-27|\n| CS1113|2011-06-30|2011-05-27|\n| CS1113|2011-07-31|2011-07-25|\n| CS1113|2011-08-31|2011-07-25|\n| CS1113|2011-09-30|2011-07-25|\n| CS1113|2011-10-31|2011-10-23|\n| CS1113|2011-11-30|2011-10-23|\n| CS1113|2011-12-31|2011-10-23|\n| CS1113|2012-01-31|2011-10-23|\n| CS1113|2012-02-29|2011-10-23|\n| CS1113|2012-03-31|2012-03-30|\n| CS1113|2012-04-30|2012-03-30|\n| CS1113|2012-05-31|2012-03-30|\n| CS1113|2012-06-30|2012-03-30|\n| CS1113|2012-07-31|2012-03-30|\n| CS1113|2012-08-31|2012-03-30|\n| CS1113|2012-09-30|2012-09-05|\n| CS1113|2012-10-31|2012-10-08|\n| CS1113|2012-11-30|2012-11-06|\n| CS1113|2012-12-31|2012-12-07|\n| CS1113|2013-01-31|2012-12-07|\n| CS1113|2013-02-28|2012-12-07|\n| CS1113|2013-03-31|2013-03-06|\n| CS1113|2013-04-30|2013-04-20|\n| CS1113|2013-05-31|2013-04-20|\n| CS1113|2013-06-30|2013-06-18|\n| CS1113|2013-07-31|2013-07-30|\n| CS1113|2013-08-31|2013-07-30|\n| CS1113|2013-09-30|2013-07-30|\n| CS1113|2013-10-31|2013-07-30|\n| CS1113|2013-11-30|2013-07-30|\n| CS1113|2013-12-31|2013-07-30|\n| CS1113|2014-01-31|2014-01-07|\n| CS1113|2014-02-28|2014-01-07|\n| CS1113|2014-03-31|2014-01-07|\n| CS1113|2014-04-30|2014-04-19|\n| CS1113|2014-05-31|2014-05-27|\n| CS1113|2014-06-30|2014-05-27|\n| CS1113|2014-07-31|2014-07-29|\n| CS1113|2014-08-31|2014-07-29|\n| CS1113|2014-09-30|2014-07-29|\n| CS1113|2014-10-31|2014-07-29|\n| CS1113|2014-11-30|2014-07-29|\n| CS1113|2014-12-31|2014-07-29|\n| CS1113|2015-01-31|2015-01-14|\n| CS1113|2015-02-28|2015-02-09|\n| CS1113|2015-03-31|2015-02-09|\n| CS1114|2011-05-31|      null|\n| CS1114|2011-06-30|      null|\n| CS1114|2011-07-31|2011-07-14|\n| CS1114|2011-08-31|2011-08-24|\n+-------+----------+----------+\nonly showing top 98 rows\n\n"
     ]
    }
   ],
   "source": [
    "from pyspark.sql import Window\n",
    "from pyspark.sql.functions import col, last\n",
    "\n",
    "# Defining a window specification.\n",
    "window_spec = Window.partitionBy(\"CLNT_NO\").orderBy(\"ME_DT\") \\\n",
    "    .rowsBetween(Window.unboundedPreceding, Window.currentRow)\n",
    "# Forward-filling missing values within each group.\n",
    "last_monthly_purchase_base = last_monthly_purchase_base.select(\"CLNT_NO\", \"ME_DT\",\n",
    "    *[last(col(column), ignorenulls=True).over(window_spec).alias(column) for column in last_monthly_purchase_base.columns if column not in [\"CLNT_NO\", \"ME_DT\"]]) \\\n",
    "    .orderBy(\"CLNT_NO\", \"ME_DT\")\n",
    "last_monthly_purchase_base.show(98)"
   ]
  },
  {
   "cell_type": "markdown",
   "metadata": {
    "application/vnd.databricks.v1+cell": {
     "cellMetadata": {
      "byteLimit": 2048000,
      "rowLimit": 10000
     },
     "inputWidgets": {},
     "nuid": "dfd99169-ef4e-4123-96bb-c41ac4b3d872",
     "showTitle": false,
     "tableResultSettingsMap": {},
     "title": ""
    }
   },
   "source": [
    "### Q 1.7.4."
   ]
  },
  {
   "cell_type": "code",
   "execution_count": 0,
   "metadata": {
    "application/vnd.databricks.v1+cell": {
     "cellMetadata": {
      "byteLimit": 2048000,
      "rowLimit": 10000
     },
     "inputWidgets": {},
     "nuid": "6c5a8407-c559-4304-a695-bf016644400e",
     "showTitle": false,
     "tableResultSettingsMap": {},
     "title": ""
    }
   },
   "outputs": [
    {
     "output_type": "stream",
     "name": "stdout",
     "output_type": "stream",
     "text": [
      "+-------+----------+----------+-------------------+\n|CLNT_NO|     ME_DT|  txn_date|days_since_last_txn|\n+-------+----------+----------+-------------------+\n| CS1112|2011-05-31|      null|               null|\n| CS1112|2011-06-30|2011-06-15|                 15|\n| CS1112|2011-07-31|2011-06-15|                 46|\n| CS1112|2011-08-31|2011-08-19|                 12|\n| CS1112|2011-09-30|2011-08-19|                 42|\n+-------+----------+----------+-------------------+\nonly showing top 5 rows\n\n"
     ]
    }
   ],
   "source": [
    "# Calculating the difference in days between ME_DT and txn_date.\n",
    "last_monthly_purchase_base = last_monthly_purchase_base.withColumn(\"days_since_last_txn\", \n",
    "                                                                   datediff(col(\"ME_DT\"), col(\"txn_date\")))\n",
    "last_monthly_purchase_base.show(5)"
   ]
  },
  {
   "cell_type": "markdown",
   "metadata": {
    "application/vnd.databricks.v1+cell": {
     "cellMetadata": {
      "byteLimit": 2048000,
      "rowLimit": 10000
     },
     "inputWidgets": {},
     "nuid": "675a9e29-239e-47b6-8ae2-41ca755a8b4c",
     "showTitle": false,
     "tableResultSettingsMap": {},
     "title": ""
    }
   },
   "source": [
    "### Q 1.7.5."
   ]
  },
  {
   "cell_type": "code",
   "execution_count": 0,
   "metadata": {
    "application/vnd.databricks.v1+cell": {
     "cellMetadata": {
      "byteLimit": 2048000,
      "rowLimit": 10000
     },
     "inputWidgets": {},
     "nuid": "7b761efa-7f17-46ba-92e2-833aba3d6fcc",
     "showTitle": false,
     "tableResultSettingsMap": {},
     "title": ""
    }
   },
   "outputs": [
    {
     "output_type": "display_data",
     "data": {
      "image/png": "[encoded data removed]"
     },
     "metadata": {
      "application/vnd.databricks.v1+output": {
       "addedWidgets": {},
       "arguments": {},
       "data": "data:image/png;base64,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\n",
       "datasetInfos": [],
       "metadata": {},
       "removedWidgets": [],
       "type": "image"
      }
     },
     "output_type": "display_data"
    }
   ],
   "source": [
    "# Converting the PySpark DataFrame to a Pandas DataFrame.\n",
    "last_monthly_purchase_base_pd = last_monthly_purchase_base.select(\"days_since_last_txn\").toPandas()\n",
    "\n",
    "# Visualizing a histogram of the 'days_since_last_txn'.\n",
    "plt.hist(last_monthly_purchase_base_pd[\"days_since_last_txn\"], bins=20, edgecolor=\"black\")\n",
    "plt.title(\"Distribution for Days Since Last Transaction\", fontsize=16)\n",
    "plt.xlabel(\"Days\", fontsize=14)\n",
    "plt.ylabel(\"Frequency\", fontsize=14)\n",
    "plt.xticks(rotation=0, fontsize=10)\n",
    "plt.yticks(rotation=0, fontsize=10)\n",
    "plt.show()"
   ]
  },
  {
   "cell_type": "markdown",
   "metadata": {
    "application/vnd.databricks.v1+cell": {
     "cellMetadata": {
      "byteLimit": 2048000,
      "rowLimit": 10000
     },
     "inputWidgets": {},
     "nuid": "defcf397-2659-4c89-a33d-2fb7968a7e25",
     "showTitle": false,
     "tableResultSettingsMap": {},
     "title": ""
    }
   },
   "source": [
    "#### Answer:\n",
    "- From the histogram, it can be observed that the more recent transactions have the highest frequency. The zeros in the data represent the most recent transactions and thus makes zero a  wrong choice value for imputation. However, a value is still required for imputuation of the NaN and a large-enough negative value, that cannot be obtained realistically, would be used as a placeholder indicating that the data is missing, and no transaction has occurred yet for those months. This would allow for easy observation of  the frequency for the initial months before a client makes a purchase. These values would appear to the left of the most recent transactions, almost like an exclusion from the right side of the distribution. Using a large positive value is also unideal as that value could very much be achieved in reality."
   ]
  },
  {
   "cell_type": "code",
   "execution_count": 0,
   "metadata": {
    "application/vnd.databricks.v1+cell": {
     "cellMetadata": {
      "byteLimit": 2048000,
      "rowLimit": 10000
     },
     "inputWidgets": {},
     "nuid": "17063c66-d4cd-45d9-8274-40789721d121",
     "showTitle": false,
     "tableResultSettingsMap": {},
     "title": ""
    }
   },
   "outputs": [],
   "source": [
    "# Imputing the NaN values(-100).\n",
    "last_monthly_purchase_base = last_monthly_purchase_base.fillna({\"days_since_last_txn\": -100})"
   ]
  },
  {
   "cell_type": "code",
   "execution_count": 0,
   "metadata": {
    "application/vnd.databricks.v1+cell": {
     "cellMetadata": {
      "byteLimit": 2048000,
      "rowLimit": 10000
     },
     "inputWidgets": {},
     "nuid": "81d5a350-20b6-4ae7-b55d-3c8773eda631",
     "showTitle": false,
     "tableResultSettingsMap": {},
     "title": ""
    }
   },
   "outputs": [
    {
     "output_type": "display_data",
     "data": {
      "image/png": "[encoded data removed]"
     },
     "metadata": {
      "application/vnd.databricks.v1+output": {
       "addedWidgets": {},
       "arguments": {},
       "data": "data:image/png;base64,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\n",
       "datasetInfos": [],
       "metadata": {},
       "removedWidgets": [],
       "type": "image"
      }
     },
     "output_type": "display_data"
    }
   ],
   "source": [
    "# Converting the PySpark DataFrame to a Pandas DataFrame.\n",
    "last_monthly_purchase_base_pd = last_monthly_purchase_base.select(\"days_since_last_txn\").toPandas()\n",
    "\n",
    "# Visualizing a histogram of the 'days_since_last_txn'.\n",
    "plt.hist(last_monthly_purchase_base_pd[\"days_since_last_txn\"], bins=20, edgecolor=\"black\")\n",
    "plt.title(\"Distribution for Days Since Last Transaction\", fontsize=16)\n",
    "plt.xlabel(\"Days\", fontsize=14)\n",
    "plt.ylabel(\"Frequency\", fontsize=14)\n",
    "plt.xticks(rotation=0, fontsize=10)\n",
    "plt.yticks(rotation=0, fontsize=10)\n",
    "plt.show()"
   ]
  },
  {
   "cell_type": "code",
   "execution_count": 0,
   "metadata": {
    "application/vnd.databricks.v1+cell": {
     "cellMetadata": {
      "byteLimit": 2048000,
      "rowLimit": 10000
     },
     "inputWidgets": {},
     "nuid": "f2fa6e79-0c43-4a8b-bca4-8fbce4a968c0",
     "showTitle": false,
     "tableResultSettingsMap": {},
     "title": ""
    }
   },
   "outputs": [
    {
     "output_type": "stream",
     "name": "stdout",
     "output_type": "stream",
     "text": [
      "+-------+----------+----------+-------------------+\n|CLNT_NO|     ME_DT|  txn_date|days_since_last_txn|\n+-------+----------+----------+-------------------+\n| CS1112|2011-05-31|      null|               -100|\n| CS1112|2011-06-30|2011-06-15|                 15|\n| CS1112|2011-07-31|2011-06-15|                 46|\n| CS1112|2011-08-31|2011-08-19|                 12|\n| CS1112|2011-09-30|2011-08-19|                 42|\n| CS1112|2011-10-31|2011-10-02|                 29|\n| CS1112|2011-11-30|2011-10-02|                 59|\n| CS1112|2011-12-31|2011-10-02|                 90|\n| CS1112|2012-01-31|2011-10-02|                121|\n| CS1112|2012-02-29|2011-10-02|                150|\n| CS1112|2012-03-31|2011-10-02|                181|\n| CS1112|2012-04-30|2012-04-08|                 22|\n| CS1112|2012-05-31|2012-04-08|                 53|\n| CS1112|2012-06-30|2012-06-24|                  6|\n| CS1112|2012-07-31|2012-07-03|                 28|\n| CS1112|2012-08-31|2012-07-03|                 59|\n| CS1112|2012-09-30|2012-09-16|                 14|\n| CS1112|2012-10-31|2012-09-16|                 45|\n| CS1112|2012-11-30|2012-09-16|                 75|\n| CS1112|2012-12-31|2012-12-15|                 16|\n| CS1112|2013-01-31|2012-12-15|                 47|\n| CS1112|2013-02-28|2012-12-15|                 75|\n| CS1112|2013-03-31|2013-03-01|                 30|\n| CS1112|2013-04-30|2013-03-01|                 60|\n| CS1112|2013-05-31|2013-03-01|                 91|\n| CS1112|2013-06-30|2013-03-01|                121|\n| CS1112|2013-07-31|2013-07-01|                 30|\n| CS1112|2013-08-31|2013-07-01|                 61|\n| CS1112|2013-09-30|2013-07-01|                 91|\n| CS1112|2013-10-31|2013-07-01|                122|\n| CS1112|2013-11-30|2013-11-13|                 17|\n| CS1112|2013-12-31|2013-11-13|                 48|\n| CS1112|2014-01-31|2013-11-13|                 79|\n| CS1112|2014-02-28|2013-11-13|                107|\n| CS1112|2014-03-31|2013-11-13|                138|\n| CS1112|2014-04-30|2014-04-29|                  1|\n| CS1112|2014-05-31|2014-04-29|                 32|\n| CS1112|2014-06-30|2014-04-29|                 62|\n| CS1112|2014-07-31|2014-07-16|                 15|\n| CS1112|2014-08-31|2014-07-16|                 46|\n| CS1112|2014-09-30|2014-07-16|                 76|\n| CS1112|2014-10-31|2014-07-16|                107|\n| CS1112|2014-11-30|2014-07-16|                137|\n| CS1112|2014-12-31|2014-12-04|                 27|\n| CS1112|2015-01-31|2015-01-14|                 17|\n| CS1112|2015-02-28|2015-01-14|                 45|\n| CS1112|2015-03-31|2015-01-14|                 76|\n| CS1113|2011-05-31|2011-05-27|                  4|\n| CS1113|2011-06-30|2011-05-27|                 34|\n| CS1113|2011-07-31|2011-07-25|                  6|\n| CS1113|2011-08-31|2011-07-25|                 37|\n| CS1113|2011-09-30|2011-07-25|                 67|\n| CS1113|2011-10-31|2011-10-23|                  8|\n| CS1113|2011-11-30|2011-10-23|                 38|\n| CS1113|2011-12-31|2011-10-23|                 69|\n| CS1113|2012-01-31|2011-10-23|                100|\n| CS1113|2012-02-29|2011-10-23|                129|\n| CS1113|2012-03-31|2012-03-30|                  1|\n| CS1113|2012-04-30|2012-03-30|                 31|\n| CS1113|2012-05-31|2012-03-30|                 62|\n| CS1113|2012-06-30|2012-03-30|                 92|\n| CS1113|2012-07-31|2012-03-30|                123|\n| CS1113|2012-08-31|2012-03-30|                154|\n| CS1113|2012-09-30|2012-09-05|                 25|\n| CS1113|2012-10-31|2012-10-08|                 23|\n| CS1113|2012-11-30|2012-11-06|                 24|\n| CS1113|2012-12-31|2012-12-07|                 24|\n| CS1113|2013-01-31|2012-12-07|                 55|\n| CS1113|2013-02-28|2012-12-07|                 83|\n| CS1113|2013-03-31|2013-03-06|                 25|\n| CS1113|2013-04-30|2013-04-20|                 10|\n| CS1113|2013-05-31|2013-04-20|                 41|\n| CS1113|2013-06-30|2013-06-18|                 12|\n| CS1113|2013-07-31|2013-07-30|                  1|\n| CS1113|2013-08-31|2013-07-30|                 32|\n| CS1113|2013-09-30|2013-07-30|                 62|\n| CS1113|2013-10-31|2013-07-30|                 93|\n| CS1113|2013-11-30|2013-07-30|                123|\n| CS1113|2013-12-31|2013-07-30|                154|\n| CS1113|2014-01-31|2014-01-07|                 24|\n| CS1113|2014-02-28|2014-01-07|                 52|\n| CS1113|2014-03-31|2014-01-07|                 83|\n| CS1113|2014-04-30|2014-04-19|                 11|\n| CS1113|2014-05-31|2014-05-27|                  4|\n| CS1113|2014-06-30|2014-05-27|                 34|\n| CS1113|2014-07-31|2014-07-29|                  2|\n| CS1113|2014-08-31|2014-07-29|                 33|\n| CS1113|2014-09-30|2014-07-29|                 63|\n| CS1113|2014-10-31|2014-07-29|                 94|\n| CS1113|2014-11-30|2014-07-29|                124|\n| CS1113|2014-12-31|2014-07-29|                155|\n| CS1113|2015-01-31|2015-01-14|                 17|\n| CS1113|2015-02-28|2015-02-09|                 19|\n| CS1113|2015-03-31|2015-02-09|                 50|\n| CS1114|2011-05-31|      null|               -100|\n| CS1114|2011-06-30|      null|               -100|\n| CS1114|2011-07-31|2011-07-14|                 17|\n| CS1114|2011-08-31|2011-08-24|                  7|\n+-------+----------+----------+-------------------+\nonly showing top 98 rows\n\n"
     ]
    }
   ],
   "source": [
    "# Reviewing the snapshot of the the transition between clients CS1113 and CS1114 after imputation.\n",
    "last_monthly_purchase_base.show(98)"
   ]
  },
  {
   "cell_type": "code",
   "execution_count": 0,
   "metadata": {
    "application/vnd.databricks.v1+cell": {
     "cellMetadata": {
      "byteLimit": 2048000,
      "rowLimit": 10000
     },
     "inputWidgets": {},
     "nuid": "c15d0909-dab1-439a-8e64-3f8f16a573c6",
     "showTitle": false,
     "tableResultSettingsMap": {},
     "title": ""
    }
   },
   "outputs": [
    {
     "output_type": "stream",
     "name": "stdout",
     "output_type": "stream",
     "text": [
      "Excel file saved to DBFS: dbfs:/FileStore/days_since_last_txn.xlsx\n"
     ]
    }
   ],
   "source": [
    "# Converting the PySpark DataFrame to a Pandas DataFrame.\n",
    "last_monthly_purchase_base_pd = last_monthly_purchase_base.select(\"CLNT_NO\", \"ME_DT\", \"days_since_last_txn\").toPandas()\n",
    "# Saving the Pandas DataFrame as an Excel file locally.\n",
    "local_excel_path = \"/tmp/days_since_last_txn.xlsx\"  # Temporary local path\n",
    "last_monthly_purchase_base_pd.to_excel(local_excel_path, index=False)\n",
    "# Moving the Excel file to DBFS for easy access via the GUI.\n",
    "dbfs_excel_path = \"dbfs:/FileStore/days_since_last_txn.xlsx\"  # DBFS path\n",
    "dbutils.fs.mv(f\"file:{local_excel_path}\", dbfs_excel_path)\n",
    "\n",
    "print(f\"Excel file saved to DBFS: {dbfs_excel_path}\")"
   ]
  },
  {
   "cell_type": "code",
   "execution_count": 0,
   "metadata": {
    "application/vnd.databricks.v1+cell": {
     "cellMetadata": {
      "byteLimit": 2048000,
      "rowLimit": 10000
     },
     "inputWidgets": {},
     "nuid": "eafb7686-f329-437a-a12a-dcdf46d49ad6",
     "showTitle": false,
     "tableResultSettingsMap": {},
     "title": ""
    }
   },
   "outputs": [
    {
     "output_type": "display_data",
     "data": {
      "text/html": [
       "<div>\n",
       "<style scoped>\n",
       "    .dataframe tbody tr th:only-of-type {\n",
       "        vertical-align: middle;\n",
       "    }\n",
       "\n",
       "    .dataframe tbody tr th {\n",
       "        vertical-align: top;\n",
       "    }\n",
       "\n",
       "    .dataframe thead th {\n",
       "        text-align: right;\n",
       "    }\n",
       "</style>\n",
       "<table border=\"1\" class=\"dataframe\">\n",
       "  <thead>\n",
       "    <tr style=\"text-align: right;\">\n",
       "      <th></th>\n",
       "      <th>CLNT_NO</th>\n",
       "      <th>ME_DT</th>\n",
       "      <th>days_since_last_txn</th>\n",
       "    </tr>\n",
       "  </thead>\n",
       "  <tbody>\n",
       "    <tr>\n",
       "      <th>0</th>\n",
       "      <td>CS1112</td>\n",
       "      <td>2011-05-31</td>\n",
       "      <td>-100</td>\n",
       "    </tr>\n",
       "    <tr>\n",
       "      <th>1</th>\n",
       "      <td>CS1112</td>\n",
       "      <td>2011-06-30</td>\n",
       "      <td>15</td>\n",
       "    </tr>\n",
       "    <tr>\n",
       "      <th>2</th>\n",
       "      <td>CS1112</td>\n",
       "      <td>2011-07-31</td>\n",
       "      <td>46</td>\n",
       "    </tr>\n",
       "    <tr>\n",
       "      <th>3</th>\n",
       "      <td>CS1112</td>\n",
       "      <td>2011-08-31</td>\n",
       "      <td>12</td>\n",
       "    </tr>\n",
       "    <tr>\n",
       "      <th>4</th>\n",
       "      <td>CS1112</td>\n",
       "      <td>2011-09-30</td>\n",
       "      <td>42</td>\n",
       "    </tr>\n",
       "  </tbody>\n",
       "</table>\n",
       "</div>"
      ]
     },
     "metadata": {
      "application/vnd.databricks.v1+output": {
       "addedWidgets": {},
       "arguments": {},
       "data": "<div>\n<style scoped>\n    .dataframe tbody tr th:only-of-type {\n        vertical-align: middle;\n    }\n\n    .dataframe tbody tr th {\n        vertical-align: top;\n    }\n\n    .dataframe thead th {\n        text-align: right;\n    }\n</style>\n<table border=\"1\" class=\"dataframe\">\n  <thead>\n    <tr style=\"text-align: right;\">\n      <th></th>\n      <th>CLNT_NO</th>\n      <th>ME_DT</th>\n      <th>days_since_last_txn</th>\n    </tr>\n  </thead>\n  <tbody>\n    <tr>\n      <th>0</th>\n      <td>CS1112</td>\n      <td>2011-05-31</td>\n      <td>-100</td>\n    </tr>\n    <tr>\n      <th>1</th>\n      <td>CS1112</td>\n      <td>2011-06-30</td>\n      <td>15</td>\n    </tr>\n    <tr>\n      <th>2</th>\n      <td>CS1112</td>\n      <td>2011-07-31</td>\n      <td>46</td>\n    </tr>\n    <tr>\n      <th>3</th>\n      <td>CS1112</td>\n      <td>2011-08-31</td>\n      <td>12</td>\n    </tr>\n    <tr>\n      <th>4</th>\n      <td>CS1112</td>\n      <td>2011-09-30</td>\n      <td>42</td>\n    </tr>\n  </tbody>\n</table>\n</div>",
       "datasetInfos": [],
       "metadata": {},
       "removedWidgets": [],
       "textData": null,
       "type": "htmlSandbox"
      }
     },
     "output_type": "display_data"
    }
   ],
   "source": [
    "# Viewing a snapshot of the saved DataFrame.\n",
    "last_monthly_purchase_base_pd.head()"
   ]
  },
  {
   "cell_type": "code",
   "execution_count": 0,
   "metadata": {
    "application/vnd.databricks.v1+cell": {
     "cellMetadata": {
      "byteLimit": 2048000,
      "rowLimit": 10000
     },
     "inputWidgets": {},
     "nuid": "9185d036-fd89-4e9a-ba82-b4d4b86fbad2",
     "showTitle": false,
     "tableResultSettingsMap": {},
     "title": ""
    }
   },
   "outputs": [
    {
     "output_type": "display_data",
     "data": {
      "text/html": [
       "<style scoped>\n",
       "  .table-result-container {\n",
       "    max-height: 300px;\n",
       "    overflow: auto;\n",
       "  }\n",
       "  table, th, td {\n",
       "    border: 1px solid black;\n",
       "    border-collapse: collapse;\n",
       "  }\n",
       "  th, td {\n",
       "    padding: 5px;\n",
       "  }\n",
       "  th {\n",
       "    text-align: left;\n",
       "  }\n",
       "</style><div class='table-result-container'><table class='table-result'><thead style='background-color: white'><tr><th>path</th><th>name</th><th>size</th><th>modificationTime</th></tr></thead><tbody><tr><td>dbfs:/FileStore/annual_day_of_week_counts_pivot.xlsx</td><td>annual_day_of_week_counts_pivot.xlsx</td><td>685703</td><td>1742715726000</td></tr><tr><td>dbfs:/FileStore/annual_features.xlsx</td><td>annual_features.xlsx</td><td>1767051</td><td>1742715417000</td></tr><tr><td>dbfs:/FileStore/days_since_last_txn.xlsx</td><td>days_since_last_txn.xlsx</td><td>5434349</td><td>1742715920000</td></tr><tr><td>dbfs:/FileStore/mth_day_counts.xlsx</td><td>mth_day_counts.xlsx</td><td>9124850</td><td>1742715820000</td></tr><tr><td>dbfs:/FileStore/mth_rolling_features.xlsx</td><td>mth_rolling_features.xlsx</td><td>26562186</td><td>1742715697000</td></tr><tr><td>dbfs:/FileStore/shared_uploads/</td><td>shared_uploads/</td><td>0</td><td>0</td></tr><tr><td>dbfs:/FileStore/tables/</td><td>tables/</td><td>0</td><td>0</td></tr></tbody></table></div>"
      ]
     },
     "metadata": {
      "application/vnd.databricks.v1+output": {
       "addedWidgets": {},
       "aggData": [],
       "aggError": "",
       "aggOverflow": false,
       "aggSchema": [],
       "aggSeriesLimitReached": false,
       "aggType": "",
       "arguments": {},
       "columnCustomDisplayInfos": {},
       "data": [
        [
         "dbfs:/FileStore/annual_day_of_week_counts_pivot.xlsx",
         "annual_day_of_week_counts_pivot.xlsx",
         685703,
         1742715726000
        ],
        [
         "dbfs:/FileStore/annual_features.xlsx",
         "annual_features.xlsx",
         1767051,
         1742715417000
        ],
        [
         "dbfs:/FileStore/days_since_last_txn.xlsx",
         "days_since_last_txn.xlsx",
         5434349,
         1742715920000
        ],
        [
         "dbfs:/FileStore/mth_day_counts.xlsx",
         "mth_day_counts.xlsx",
         9124850,
         1742715820000
        ],
        [
         "dbfs:/FileStore/mth_rolling_features.xlsx",
         "mth_rolling_features.xlsx",
         26562186,
         1742715697000
        ],
        [
         "dbfs:/FileStore/shared_uploads/",
         "shared_uploads/",
         0,
         0
        ],
        [
         "dbfs:/FileStore/tables/",
         "tables/",
         0,
         0
        ]
       ],
       "datasetInfos": [],
       "dbfsResultPath": null,
       "isJsonSchema": true,
       "metadata": {},
       "overflow": false,
       "plotOptions": {
        "customPlotOptions": {},
        "displayType": "table",
        "pivotAggregation": null,
        "pivotColumns": null,
        "xColumns": null,
        "yColumns": null
       },
       "removedWidgets": [],
       "schema": [
        {
         "metadata": "{}",
         "name": "path",
         "type": "\"string\""
        },
        {
         "metadata": "{}",
         "name": "name",
         "type": "\"string\""
        },
        {
         "metadata": "{}",
         "name": "size",
         "type": "\"long\""
        },
        {
         "metadata": "{}",
         "name": "modificationTime",
         "type": "\"long\""
        }
       ],
       "type": "table"
      }
     },
     "output_type": "display_data"
    }
   ],
   "source": [
    "# Viewing the List of files in the DBFS FileStore directory.\n",
    "display(dbutils.fs.ls(\"dbfs:/FileStore/\"))"
   ]
  },
  {
   "cell_type": "code",
   "execution_count": 0,
   "metadata": {
    "application/vnd.databricks.v1+cell": {
     "cellMetadata": {
      "byteLimit": 2048000,
      "rowLimit": 10000
     },
     "inputWidgets": {},
     "nuid": "9b74c3eb-8e3e-4bcb-a732-27f2573e72f9",
     "showTitle": false,
     "tableResultSettingsMap": {},
     "title": ""
    }
   },
   "outputs": [
    {
     "output_type": "stream",
     "name": "stdout",
     "output_type": "stream",
     "text": [
      "Files will be downloaded to: /databricks/driver\n"
     ]
    }
   ],
   "source": [
    "import os\n",
    "print(f\"Files will be downloaded to: {os.getcwd()}\")"
   ]
  },
  {
   "cell_type": "code",
   "execution_count": 0,
   "metadata": {
    "application/vnd.databricks.v1+cell": {
     "cellMetadata": {
      "byteLimit": 2048000,
      "rowLimit": 10000
     },
     "inputWidgets": {},
     "nuid": "46a45554-b852-47dd-99ee-d4116ec7e4df",
     "showTitle": false,
     "tableResultSettingsMap": {},
     "title": ""
    }
   },
   "outputs": [
    {
     "output_type": "stream",
     "name": "stdout",
     "output_type": "stream",
     "text": [
      "Downloaded: annual_features.xlsx\nDownloaded: mth_rolling_features.xlsx\nDownloaded: annual_day_of_week_counts_pivot.xlsx\nDownloaded: mth_day_counts.xlsx\nDownloaded: days_since_last_txn.xlsx\n"
     ]
    }
   ],
   "source": [
    "import requests\n",
    "\n",
    "# List of file URLs to download\n",
    "file_urls = [\n",
    "    \"https://community.cloud.databricks.com/files/annual_features.xlsx\",\n",
    "    \"https://community.cloud.databricks.com/files/mth_rolling_features.xlsx\",\n",
    "    \"https://community.cloud.databricks.com/files/annual_day_of_week_counts_pivot.xlsx\",\n",
    "    \"https://community.cloud.databricks.com/files/mth_day_counts.xlsx\",\n",
    "    \"https://community.cloud.databricks.com/files/days_since_last_txn.xlsx\"\n",
    "]\n",
    "\n",
    "# Download each file\n",
    "for url in file_urls:\n",
    "    file_name = url.split(\"/\")[-1]  # Extract the file name from the URL\n",
    "    response = requests.get(url)\n",
    "    if response.status_code == 200:  # Check if the request was successful\n",
    "        with open(file_name, \"wb\") as file:\n",
    "            file.write(response.content)\n",
    "        print(f\"Downloaded: {file_name}\")\n",
    "    else:\n",
    "        print(f\"Failed to download: {file_name} (Status Code: {response.status_code})\")"
   ]
  }
 ],
 "metadata": {
  "application/vnd.databricks.v1+notebook": {
   "computePreferences": null,
   "dashboards": [],
   "environmentMetadata": {
    "base_environment": "",
    "client": "1"
   },
   "language": "python",
   "notebookMetadata": {
    "pythonIndentUnit": 4
   },
   "notebookName": "Feature_Engineering_Uzokwe_Frederick",
   "widgets": {}
  }
 },
 "nbformat": 4,
 "nbformat_minor": 0
}
